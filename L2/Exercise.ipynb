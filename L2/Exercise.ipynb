{
 "cells": [
  {
   "cell_type": "markdown",
   "metadata": {},
   "source": [
    "### Load libraries"
   ]
  },
  {
   "cell_type": "code",
   "execution_count": 1,
   "metadata": {},
   "outputs": [
    {
     "name": "stderr",
     "output_type": "stream",
     "text": [
      "\n",
      "Attaching package: ‘dplyr’\n",
      "\n",
      "\n",
      "The following objects are masked from ‘package:stats’:\n",
      "\n",
      "    filter, lag\n",
      "\n",
      "\n",
      "The following objects are masked from ‘package:base’:\n",
      "\n",
      "    intersect, setdiff, setequal, union\n",
      "\n",
      "\n"
     ]
    }
   ],
   "source": [
    "library(dplyr)"
   ]
  },
  {
   "cell_type": "markdown",
   "metadata": {},
   "source": [
    "## Data preparation task\n",
    "- what is the average arrival delay of airlines ?\n",
    "- what airline is the worst in terms of average arrival delay ?"
   ]
  },
  {
   "cell_type": "markdown",
   "id": "81ed474d",
   "metadata": {},
   "source": [
    "### Load data"
   ]
  },
  {
   "cell_type": "code",
   "execution_count": 2,
   "id": "cfc06678",
   "metadata": {},
   "outputs": [],
   "source": [
    "flights_data <- read.csv('L2-data/flights.csv')\n",
    "airlines_data <- read.csv('L2-data/airlines.csv')"
   ]
  },
  {
   "cell_type": "code",
   "execution_count": 3,
   "id": "605ecb82",
   "metadata": {},
   "outputs": [
    {
     "data": {
      "text/html": [
       "<table class=\"dataframe\">\n",
       "<caption>A data.frame: 6 × 20</caption>\n",
       "<thead>\n",
       "\t<tr><th></th><th scope=col>X</th><th scope=col>year</th><th scope=col>month</th><th scope=col>day</th><th scope=col>dep_time</th><th scope=col>sched_dep_time</th><th scope=col>dep_delay</th><th scope=col>arr_time</th><th scope=col>sched_arr_time</th><th scope=col>arr_delay</th><th scope=col>carrier</th><th scope=col>flight</th><th scope=col>tailnum</th><th scope=col>origin</th><th scope=col>dest</th><th scope=col>air_time</th><th scope=col>distance</th><th scope=col>hour</th><th scope=col>minute</th><th scope=col>time_hour</th></tr>\n",
       "\t<tr><th></th><th scope=col>&lt;int&gt;</th><th scope=col>&lt;int&gt;</th><th scope=col>&lt;int&gt;</th><th scope=col>&lt;int&gt;</th><th scope=col>&lt;int&gt;</th><th scope=col>&lt;int&gt;</th><th scope=col>&lt;int&gt;</th><th scope=col>&lt;int&gt;</th><th scope=col>&lt;int&gt;</th><th scope=col>&lt;int&gt;</th><th scope=col>&lt;chr&gt;</th><th scope=col>&lt;int&gt;</th><th scope=col>&lt;chr&gt;</th><th scope=col>&lt;chr&gt;</th><th scope=col>&lt;chr&gt;</th><th scope=col>&lt;int&gt;</th><th scope=col>&lt;int&gt;</th><th scope=col>&lt;int&gt;</th><th scope=col>&lt;int&gt;</th><th scope=col>&lt;chr&gt;</th></tr>\n",
       "</thead>\n",
       "<tbody>\n",
       "\t<tr><th scope=row>1</th><td>1</td><td>2013</td><td>1</td><td>1</td><td>517</td><td>515</td><td> 2</td><td> 830</td><td> 819</td><td> 11</td><td>UA</td><td>1545</td><td>N14228</td><td>EWR</td><td>IAH</td><td>227</td><td>1400</td><td>5</td><td>15</td><td>2013-01-01 05:00:00</td></tr>\n",
       "\t<tr><th scope=row>2</th><td>2</td><td>2013</td><td>1</td><td>1</td><td>533</td><td>529</td><td> 4</td><td> 850</td><td> 830</td><td> 20</td><td>UA</td><td>1714</td><td>N24211</td><td>LGA</td><td>IAH</td><td>227</td><td>1416</td><td>5</td><td>29</td><td>2013-01-01 05:00:00</td></tr>\n",
       "\t<tr><th scope=row>3</th><td>3</td><td>2013</td><td>1</td><td>1</td><td>542</td><td>540</td><td> 2</td><td> 923</td><td> 850</td><td> 33</td><td>AA</td><td>1141</td><td>N619AA</td><td>JFK</td><td>MIA</td><td>160</td><td>1089</td><td>5</td><td>40</td><td>2013-01-01 05:00:00</td></tr>\n",
       "\t<tr><th scope=row>4</th><td>4</td><td>2013</td><td>1</td><td>1</td><td>544</td><td>545</td><td>-1</td><td>1004</td><td>1022</td><td>-18</td><td>B6</td><td> 725</td><td>N804JB</td><td>JFK</td><td>BQN</td><td>183</td><td>1576</td><td>5</td><td>45</td><td>2013-01-01 05:00:00</td></tr>\n",
       "\t<tr><th scope=row>5</th><td>5</td><td>2013</td><td>1</td><td>1</td><td>554</td><td>600</td><td>-6</td><td> 812</td><td> 837</td><td>-25</td><td>DL</td><td> 461</td><td>N668DN</td><td>LGA</td><td>ATL</td><td>116</td><td> 762</td><td>6</td><td> 0</td><td>2013-01-01 06:00:00</td></tr>\n",
       "\t<tr><th scope=row>6</th><td>6</td><td>2013</td><td>1</td><td>1</td><td>554</td><td>558</td><td>-4</td><td> 740</td><td> 728</td><td> 12</td><td>UA</td><td>1696</td><td>N39463</td><td>EWR</td><td>ORD</td><td>150</td><td> 719</td><td>5</td><td>58</td><td>2013-01-01 05:00:00</td></tr>\n",
       "</tbody>\n",
       "</table>\n"
      ],
      "text/latex": [
       "A data.frame: 6 × 20\n",
       "\\begin{tabular}{r|llllllllllllllllllll}\n",
       "  & X & year & month & day & dep\\_time & sched\\_dep\\_time & dep\\_delay & arr\\_time & sched\\_arr\\_time & arr\\_delay & carrier & flight & tailnum & origin & dest & air\\_time & distance & hour & minute & time\\_hour\\\\\n",
       "  & <int> & <int> & <int> & <int> & <int> & <int> & <int> & <int> & <int> & <int> & <chr> & <int> & <chr> & <chr> & <chr> & <int> & <int> & <int> & <int> & <chr>\\\\\n",
       "\\hline\n",
       "\t1 & 1 & 2013 & 1 & 1 & 517 & 515 &  2 &  830 &  819 &  11 & UA & 1545 & N14228 & EWR & IAH & 227 & 1400 & 5 & 15 & 2013-01-01 05:00:00\\\\\n",
       "\t2 & 2 & 2013 & 1 & 1 & 533 & 529 &  4 &  850 &  830 &  20 & UA & 1714 & N24211 & LGA & IAH & 227 & 1416 & 5 & 29 & 2013-01-01 05:00:00\\\\\n",
       "\t3 & 3 & 2013 & 1 & 1 & 542 & 540 &  2 &  923 &  850 &  33 & AA & 1141 & N619AA & JFK & MIA & 160 & 1089 & 5 & 40 & 2013-01-01 05:00:00\\\\\n",
       "\t4 & 4 & 2013 & 1 & 1 & 544 & 545 & -1 & 1004 & 1022 & -18 & B6 &  725 & N804JB & JFK & BQN & 183 & 1576 & 5 & 45 & 2013-01-01 05:00:00\\\\\n",
       "\t5 & 5 & 2013 & 1 & 1 & 554 & 600 & -6 &  812 &  837 & -25 & DL &  461 & N668DN & LGA & ATL & 116 &  762 & 6 &  0 & 2013-01-01 06:00:00\\\\\n",
       "\t6 & 6 & 2013 & 1 & 1 & 554 & 558 & -4 &  740 &  728 &  12 & UA & 1696 & N39463 & EWR & ORD & 150 &  719 & 5 & 58 & 2013-01-01 05:00:00\\\\\n",
       "\\end{tabular}\n"
      ],
      "text/markdown": [
       "\n",
       "A data.frame: 6 × 20\n",
       "\n",
       "| <!--/--> | X &lt;int&gt; | year &lt;int&gt; | month &lt;int&gt; | day &lt;int&gt; | dep_time &lt;int&gt; | sched_dep_time &lt;int&gt; | dep_delay &lt;int&gt; | arr_time &lt;int&gt; | sched_arr_time &lt;int&gt; | arr_delay &lt;int&gt; | carrier &lt;chr&gt; | flight &lt;int&gt; | tailnum &lt;chr&gt; | origin &lt;chr&gt; | dest &lt;chr&gt; | air_time &lt;int&gt; | distance &lt;int&gt; | hour &lt;int&gt; | minute &lt;int&gt; | time_hour &lt;chr&gt; |\n",
       "|---|---|---|---|---|---|---|---|---|---|---|---|---|---|---|---|---|---|---|---|---|\n",
       "| 1 | 1 | 2013 | 1 | 1 | 517 | 515 |  2 |  830 |  819 |  11 | UA | 1545 | N14228 | EWR | IAH | 227 | 1400 | 5 | 15 | 2013-01-01 05:00:00 |\n",
       "| 2 | 2 | 2013 | 1 | 1 | 533 | 529 |  4 |  850 |  830 |  20 | UA | 1714 | N24211 | LGA | IAH | 227 | 1416 | 5 | 29 | 2013-01-01 05:00:00 |\n",
       "| 3 | 3 | 2013 | 1 | 1 | 542 | 540 |  2 |  923 |  850 |  33 | AA | 1141 | N619AA | JFK | MIA | 160 | 1089 | 5 | 40 | 2013-01-01 05:00:00 |\n",
       "| 4 | 4 | 2013 | 1 | 1 | 544 | 545 | -1 | 1004 | 1022 | -18 | B6 |  725 | N804JB | JFK | BQN | 183 | 1576 | 5 | 45 | 2013-01-01 05:00:00 |\n",
       "| 5 | 5 | 2013 | 1 | 1 | 554 | 600 | -6 |  812 |  837 | -25 | DL |  461 | N668DN | LGA | ATL | 116 |  762 | 6 |  0 | 2013-01-01 06:00:00 |\n",
       "| 6 | 6 | 2013 | 1 | 1 | 554 | 558 | -4 |  740 |  728 |  12 | UA | 1696 | N39463 | EWR | ORD | 150 |  719 | 5 | 58 | 2013-01-01 05:00:00 |\n",
       "\n"
      ],
      "text/plain": [
       "  X year month day dep_time sched_dep_time dep_delay arr_time sched_arr_time\n",
       "1 1 2013 1     1   517      515             2         830      819          \n",
       "2 2 2013 1     1   533      529             4         850      830          \n",
       "3 3 2013 1     1   542      540             2         923      850          \n",
       "4 4 2013 1     1   544      545            -1        1004     1022          \n",
       "5 5 2013 1     1   554      600            -6         812      837          \n",
       "6 6 2013 1     1   554      558            -4         740      728          \n",
       "  arr_delay carrier flight tailnum origin dest air_time distance hour minute\n",
       "1  11       UA      1545   N14228  EWR    IAH  227      1400     5    15    \n",
       "2  20       UA      1714   N24211  LGA    IAH  227      1416     5    29    \n",
       "3  33       AA      1141   N619AA  JFK    MIA  160      1089     5    40    \n",
       "4 -18       B6       725   N804JB  JFK    BQN  183      1576     5    45    \n",
       "5 -25       DL       461   N668DN  LGA    ATL  116       762     6     0    \n",
       "6  12       UA      1696   N39463  EWR    ORD  150       719     5    58    \n",
       "  time_hour          \n",
       "1 2013-01-01 05:00:00\n",
       "2 2013-01-01 05:00:00\n",
       "3 2013-01-01 05:00:00\n",
       "4 2013-01-01 05:00:00\n",
       "5 2013-01-01 06:00:00\n",
       "6 2013-01-01 05:00:00"
      ]
     },
     "metadata": {},
     "output_type": "display_data"
    }
   ],
   "source": [
    "head(flights_data)"
   ]
  },
  {
   "cell_type": "code",
   "execution_count": 4,
   "id": "f726fd90",
   "metadata": {},
   "outputs": [
    {
     "data": {
      "text/html": [
       "<table class=\"dataframe\">\n",
       "<caption>A data.frame: 6 × 3</caption>\n",
       "<thead>\n",
       "\t<tr><th></th><th scope=col>X</th><th scope=col>carrier</th><th scope=col>name</th></tr>\n",
       "\t<tr><th></th><th scope=col>&lt;int&gt;</th><th scope=col>&lt;chr&gt;</th><th scope=col>&lt;chr&gt;</th></tr>\n",
       "</thead>\n",
       "<tbody>\n",
       "\t<tr><th scope=row>1</th><td>1</td><td>9E</td><td>Endeavor Air Inc.       </td></tr>\n",
       "\t<tr><th scope=row>2</th><td>2</td><td>AA</td><td>American Airlines Inc.  </td></tr>\n",
       "\t<tr><th scope=row>3</th><td>3</td><td>AS</td><td>Alaska Airlines Inc.    </td></tr>\n",
       "\t<tr><th scope=row>4</th><td>4</td><td>B6</td><td>JetBlue Airways         </td></tr>\n",
       "\t<tr><th scope=row>5</th><td>5</td><td>DL</td><td>Delta Air Lines Inc.    </td></tr>\n",
       "\t<tr><th scope=row>6</th><td>6</td><td>EV</td><td>ExpressJet Airlines Inc.</td></tr>\n",
       "</tbody>\n",
       "</table>\n"
      ],
      "text/latex": [
       "A data.frame: 6 × 3\n",
       "\\begin{tabular}{r|lll}\n",
       "  & X & carrier & name\\\\\n",
       "  & <int> & <chr> & <chr>\\\\\n",
       "\\hline\n",
       "\t1 & 1 & 9E & Endeavor Air Inc.       \\\\\n",
       "\t2 & 2 & AA & American Airlines Inc.  \\\\\n",
       "\t3 & 3 & AS & Alaska Airlines Inc.    \\\\\n",
       "\t4 & 4 & B6 & JetBlue Airways         \\\\\n",
       "\t5 & 5 & DL & Delta Air Lines Inc.    \\\\\n",
       "\t6 & 6 & EV & ExpressJet Airlines Inc.\\\\\n",
       "\\end{tabular}\n"
      ],
      "text/markdown": [
       "\n",
       "A data.frame: 6 × 3\n",
       "\n",
       "| <!--/--> | X &lt;int&gt; | carrier &lt;chr&gt; | name &lt;chr&gt; |\n",
       "|---|---|---|---|\n",
       "| 1 | 1 | 9E | Endeavor Air Inc.        |\n",
       "| 2 | 2 | AA | American Airlines Inc.   |\n",
       "| 3 | 3 | AS | Alaska Airlines Inc.     |\n",
       "| 4 | 4 | B6 | JetBlue Airways          |\n",
       "| 5 | 5 | DL | Delta Air Lines Inc.     |\n",
       "| 6 | 6 | EV | ExpressJet Airlines Inc. |\n",
       "\n"
      ],
      "text/plain": [
       "  X carrier name                    \n",
       "1 1 9E      Endeavor Air Inc.       \n",
       "2 2 AA      American Airlines Inc.  \n",
       "3 3 AS      Alaska Airlines Inc.    \n",
       "4 4 B6      JetBlue Airways         \n",
       "5 5 DL      Delta Air Lines Inc.    \n",
       "6 6 EV      ExpressJet Airlines Inc."
      ]
     },
     "metadata": {},
     "output_type": "display_data"
    }
   ],
   "source": [
    "head(airlines_data)"
   ]
  },
  {
   "cell_type": "markdown",
   "id": "5ba7efc2",
   "metadata": {},
   "source": [
    "### Subset columns\n",
    "- select `arr_delay`, `carrier` which are relevant columns "
   ]
  },
  {
   "cell_type": "code",
   "execution_count": 5,
   "id": "14c7467b",
   "metadata": {},
   "outputs": [
    {
     "data": {
      "text/html": [
       "<table class=\"dataframe\">\n",
       "<caption>A data.frame: 6 × 2</caption>\n",
       "<thead>\n",
       "\t<tr><th></th><th scope=col>arr_delay</th><th scope=col>carrier</th></tr>\n",
       "\t<tr><th></th><th scope=col>&lt;int&gt;</th><th scope=col>&lt;chr&gt;</th></tr>\n",
       "</thead>\n",
       "<tbody>\n",
       "\t<tr><th scope=row>1</th><td> 11</td><td>UA</td></tr>\n",
       "\t<tr><th scope=row>2</th><td> 20</td><td>UA</td></tr>\n",
       "\t<tr><th scope=row>3</th><td> 33</td><td>AA</td></tr>\n",
       "\t<tr><th scope=row>4</th><td>-18</td><td>B6</td></tr>\n",
       "\t<tr><th scope=row>5</th><td>-25</td><td>DL</td></tr>\n",
       "\t<tr><th scope=row>6</th><td> 12</td><td>UA</td></tr>\n",
       "</tbody>\n",
       "</table>\n"
      ],
      "text/latex": [
       "A data.frame: 6 × 2\n",
       "\\begin{tabular}{r|ll}\n",
       "  & arr\\_delay & carrier\\\\\n",
       "  & <int> & <chr>\\\\\n",
       "\\hline\n",
       "\t1 &  11 & UA\\\\\n",
       "\t2 &  20 & UA\\\\\n",
       "\t3 &  33 & AA\\\\\n",
       "\t4 & -18 & B6\\\\\n",
       "\t5 & -25 & DL\\\\\n",
       "\t6 &  12 & UA\\\\\n",
       "\\end{tabular}\n"
      ],
      "text/markdown": [
       "\n",
       "A data.frame: 6 × 2\n",
       "\n",
       "| <!--/--> | arr_delay &lt;int&gt; | carrier &lt;chr&gt; |\n",
       "|---|---|---|\n",
       "| 1 |  11 | UA |\n",
       "| 2 |  20 | UA |\n",
       "| 3 |  33 | AA |\n",
       "| 4 | -18 | B6 |\n",
       "| 5 | -25 | DL |\n",
       "| 6 |  12 | UA |\n",
       "\n"
      ],
      "text/plain": [
       "  arr_delay carrier\n",
       "1  11       UA     \n",
       "2  20       UA     \n",
       "3  33       AA     \n",
       "4 -18       B6     \n",
       "5 -25       DL     \n",
       "6  12       UA     "
      ]
     },
     "metadata": {},
     "output_type": "display_data"
    }
   ],
   "source": [
    "flights_select <- select(flights_data, arr_delay, carrier)\n",
    "head(flights_select)"
   ]
  },
  {
   "cell_type": "markdown",
   "id": "7648e1b0",
   "metadata": {},
   "source": [
    "### Filter rows\n",
    "- deselect flights with NA in arrival delay\n",
    "- deselect flights arriving on time or earlier than scheduled time"
   ]
  },
  {
   "cell_type": "code",
   "execution_count": 6,
   "id": "9deeac1b",
   "metadata": {},
   "outputs": [
    {
     "data": {
      "text/html": [
       "<table class=\"dataframe\">\n",
       "<caption>A data.frame: 6 × 2</caption>\n",
       "<thead>\n",
       "\t<tr><th></th><th scope=col>arr_delay</th><th scope=col>carrier</th></tr>\n",
       "\t<tr><th></th><th scope=col>&lt;int&gt;</th><th scope=col>&lt;chr&gt;</th></tr>\n",
       "</thead>\n",
       "<tbody>\n",
       "\t<tr><th scope=row>1</th><td>11</td><td>UA</td></tr>\n",
       "\t<tr><th scope=row>2</th><td>20</td><td>UA</td></tr>\n",
       "\t<tr><th scope=row>3</th><td>33</td><td>AA</td></tr>\n",
       "\t<tr><th scope=row>4</th><td>12</td><td>UA</td></tr>\n",
       "\t<tr><th scope=row>5</th><td>19</td><td>B6</td></tr>\n",
       "\t<tr><th scope=row>6</th><td> 8</td><td>AA</td></tr>\n",
       "</tbody>\n",
       "</table>\n"
      ],
      "text/latex": [
       "A data.frame: 6 × 2\n",
       "\\begin{tabular}{r|ll}\n",
       "  & arr\\_delay & carrier\\\\\n",
       "  & <int> & <chr>\\\\\n",
       "\\hline\n",
       "\t1 & 11 & UA\\\\\n",
       "\t2 & 20 & UA\\\\\n",
       "\t3 & 33 & AA\\\\\n",
       "\t4 & 12 & UA\\\\\n",
       "\t5 & 19 & B6\\\\\n",
       "\t6 &  8 & AA\\\\\n",
       "\\end{tabular}\n"
      ],
      "text/markdown": [
       "\n",
       "A data.frame: 6 × 2\n",
       "\n",
       "| <!--/--> | arr_delay &lt;int&gt; | carrier &lt;chr&gt; |\n",
       "|---|---|---|\n",
       "| 1 | 11 | UA |\n",
       "| 2 | 20 | UA |\n",
       "| 3 | 33 | AA |\n",
       "| 4 | 12 | UA |\n",
       "| 5 | 19 | B6 |\n",
       "| 6 |  8 | AA |\n",
       "\n"
      ],
      "text/plain": [
       "  arr_delay carrier\n",
       "1 11        UA     \n",
       "2 20        UA     \n",
       "3 33        AA     \n",
       "4 12        UA     \n",
       "5 19        B6     \n",
       "6  8        AA     "
      ]
     },
     "metadata": {},
     "output_type": "display_data"
    }
   ],
   "source": [
    "flights_select <- filter(flights_select, !is.na(arr_delay) & arr_delay > 0)\n",
    "head(flights_select)"
   ]
  },
  {
   "cell_type": "markdown",
   "id": "2686d69c",
   "metadata": {},
   "source": [
    "### Compute mean delay\n",
    "- group data by carrier and calculate group mean of arrival delay"
   ]
  },
  {
   "cell_type": "code",
   "execution_count": 7,
   "id": "1110c9f9",
   "metadata": {},
   "outputs": [
    {
     "data": {
      "text/html": [
       "<table class=\"dataframe\">\n",
       "<caption>A tibble: 16 × 2</caption>\n",
       "<thead>\n",
       "\t<tr><th scope=col>carrier</th><th scope=col>mean_delay</th></tr>\n",
       "\t<tr><th scope=col>&lt;chr&gt;</th><th scope=col>&lt;dbl&gt;</th></tr>\n",
       "</thead>\n",
       "<tbody>\n",
       "\t<tr><td>9E</td><td>49.27271</td></tr>\n",
       "\t<tr><td>AA</td><td>38.26555</td></tr>\n",
       "\t<tr><td>AS</td><td>34.36508</td></tr>\n",
       "\t<tr><td>B6</td><td>40.00906</td></tr>\n",
       "\t<tr><td>DL</td><td>37.74356</td></tr>\n",
       "\t<tr><td>EV</td><td>48.26858</td></tr>\n",
       "\t<tr><td>F9</td><td>47.57908</td></tr>\n",
       "\t<tr><td>FL</td><td>41.09446</td></tr>\n",
       "\t<tr><td>HA</td><td>35.03093</td></tr>\n",
       "\t<tr><td>MQ</td><td>37.85205</td></tr>\n",
       "\t<tr><td>OO</td><td>60.60000</td></tr>\n",
       "\t<tr><td>UA</td><td>36.65098</td></tr>\n",
       "\t<tr><td>US</td><td>29.01157</td></tr>\n",
       "\t<tr><td>VX</td><td>43.84708</td></tr>\n",
       "\t<tr><td>WN</td><td>40.74755</td></tr>\n",
       "\t<tr><td>YV</td><td>51.08140</td></tr>\n",
       "</tbody>\n",
       "</table>\n"
      ],
      "text/latex": [
       "A tibble: 16 × 2\n",
       "\\begin{tabular}{ll}\n",
       " carrier & mean\\_delay\\\\\n",
       " <chr> & <dbl>\\\\\n",
       "\\hline\n",
       "\t 9E & 49.27271\\\\\n",
       "\t AA & 38.26555\\\\\n",
       "\t AS & 34.36508\\\\\n",
       "\t B6 & 40.00906\\\\\n",
       "\t DL & 37.74356\\\\\n",
       "\t EV & 48.26858\\\\\n",
       "\t F9 & 47.57908\\\\\n",
       "\t FL & 41.09446\\\\\n",
       "\t HA & 35.03093\\\\\n",
       "\t MQ & 37.85205\\\\\n",
       "\t OO & 60.60000\\\\\n",
       "\t UA & 36.65098\\\\\n",
       "\t US & 29.01157\\\\\n",
       "\t VX & 43.84708\\\\\n",
       "\t WN & 40.74755\\\\\n",
       "\t YV & 51.08140\\\\\n",
       "\\end{tabular}\n"
      ],
      "text/markdown": [
       "\n",
       "A tibble: 16 × 2\n",
       "\n",
       "| carrier &lt;chr&gt; | mean_delay &lt;dbl&gt; |\n",
       "|---|---|\n",
       "| 9E | 49.27271 |\n",
       "| AA | 38.26555 |\n",
       "| AS | 34.36508 |\n",
       "| B6 | 40.00906 |\n",
       "| DL | 37.74356 |\n",
       "| EV | 48.26858 |\n",
       "| F9 | 47.57908 |\n",
       "| FL | 41.09446 |\n",
       "| HA | 35.03093 |\n",
       "| MQ | 37.85205 |\n",
       "| OO | 60.60000 |\n",
       "| UA | 36.65098 |\n",
       "| US | 29.01157 |\n",
       "| VX | 43.84708 |\n",
       "| WN | 40.74755 |\n",
       "| YV | 51.08140 |\n",
       "\n"
      ],
      "text/plain": [
       "   carrier mean_delay\n",
       "1  9E      49.27271  \n",
       "2  AA      38.26555  \n",
       "3  AS      34.36508  \n",
       "4  B6      40.00906  \n",
       "5  DL      37.74356  \n",
       "6  EV      48.26858  \n",
       "7  F9      47.57908  \n",
       "8  FL      41.09446  \n",
       "9  HA      35.03093  \n",
       "10 MQ      37.85205  \n",
       "11 OO      60.60000  \n",
       "12 UA      36.65098  \n",
       "13 US      29.01157  \n",
       "14 VX      43.84708  \n",
       "15 WN      40.74755  \n",
       "16 YV      51.08140  "
      ]
     },
     "metadata": {},
     "output_type": "display_data"
    }
   ],
   "source": [
    "mean_arr_delay <- group_by(flights_select, carrier) %>% summarise(mean_delay=mean(arr_delay))\n",
    "mean_arr_delay"
   ]
  },
  {
   "cell_type": "markdown",
   "id": "5748f637",
   "metadata": {},
   "source": [
    "### Sort data\n",
    "- descendingly sort mean arrival delay of aggregated data"
   ]
  },
  {
   "cell_type": "code",
   "execution_count": 8,
   "id": "95e86de6",
   "metadata": {},
   "outputs": [
    {
     "data": {
      "text/html": [
       "<table class=\"dataframe\">\n",
       "<caption>A tibble: 16 × 2</caption>\n",
       "<thead>\n",
       "\t<tr><th scope=col>carrier</th><th scope=col>mean_delay</th></tr>\n",
       "\t<tr><th scope=col>&lt;chr&gt;</th><th scope=col>&lt;dbl&gt;</th></tr>\n",
       "</thead>\n",
       "<tbody>\n",
       "\t<tr><td>OO</td><td>60.60000</td></tr>\n",
       "\t<tr><td>YV</td><td>51.08140</td></tr>\n",
       "\t<tr><td>9E</td><td>49.27271</td></tr>\n",
       "\t<tr><td>EV</td><td>48.26858</td></tr>\n",
       "\t<tr><td>F9</td><td>47.57908</td></tr>\n",
       "\t<tr><td>VX</td><td>43.84708</td></tr>\n",
       "\t<tr><td>FL</td><td>41.09446</td></tr>\n",
       "\t<tr><td>WN</td><td>40.74755</td></tr>\n",
       "\t<tr><td>B6</td><td>40.00906</td></tr>\n",
       "\t<tr><td>AA</td><td>38.26555</td></tr>\n",
       "\t<tr><td>MQ</td><td>37.85205</td></tr>\n",
       "\t<tr><td>DL</td><td>37.74356</td></tr>\n",
       "\t<tr><td>UA</td><td>36.65098</td></tr>\n",
       "\t<tr><td>HA</td><td>35.03093</td></tr>\n",
       "\t<tr><td>AS</td><td>34.36508</td></tr>\n",
       "\t<tr><td>US</td><td>29.01157</td></tr>\n",
       "</tbody>\n",
       "</table>\n"
      ],
      "text/latex": [
       "A tibble: 16 × 2\n",
       "\\begin{tabular}{ll}\n",
       " carrier & mean\\_delay\\\\\n",
       " <chr> & <dbl>\\\\\n",
       "\\hline\n",
       "\t OO & 60.60000\\\\\n",
       "\t YV & 51.08140\\\\\n",
       "\t 9E & 49.27271\\\\\n",
       "\t EV & 48.26858\\\\\n",
       "\t F9 & 47.57908\\\\\n",
       "\t VX & 43.84708\\\\\n",
       "\t FL & 41.09446\\\\\n",
       "\t WN & 40.74755\\\\\n",
       "\t B6 & 40.00906\\\\\n",
       "\t AA & 38.26555\\\\\n",
       "\t MQ & 37.85205\\\\\n",
       "\t DL & 37.74356\\\\\n",
       "\t UA & 36.65098\\\\\n",
       "\t HA & 35.03093\\\\\n",
       "\t AS & 34.36508\\\\\n",
       "\t US & 29.01157\\\\\n",
       "\\end{tabular}\n"
      ],
      "text/markdown": [
       "\n",
       "A tibble: 16 × 2\n",
       "\n",
       "| carrier &lt;chr&gt; | mean_delay &lt;dbl&gt; |\n",
       "|---|---|\n",
       "| OO | 60.60000 |\n",
       "| YV | 51.08140 |\n",
       "| 9E | 49.27271 |\n",
       "| EV | 48.26858 |\n",
       "| F9 | 47.57908 |\n",
       "| VX | 43.84708 |\n",
       "| FL | 41.09446 |\n",
       "| WN | 40.74755 |\n",
       "| B6 | 40.00906 |\n",
       "| AA | 38.26555 |\n",
       "| MQ | 37.85205 |\n",
       "| DL | 37.74356 |\n",
       "| UA | 36.65098 |\n",
       "| HA | 35.03093 |\n",
       "| AS | 34.36508 |\n",
       "| US | 29.01157 |\n",
       "\n"
      ],
      "text/plain": [
       "   carrier mean_delay\n",
       "1  OO      60.60000  \n",
       "2  YV      51.08140  \n",
       "3  9E      49.27271  \n",
       "4  EV      48.26858  \n",
       "5  F9      47.57908  \n",
       "6  VX      43.84708  \n",
       "7  FL      41.09446  \n",
       "8  WN      40.74755  \n",
       "9  B6      40.00906  \n",
       "10 AA      38.26555  \n",
       "11 MQ      37.85205  \n",
       "12 DL      37.74356  \n",
       "13 UA      36.65098  \n",
       "14 HA      35.03093  \n",
       "15 AS      34.36508  \n",
       "16 US      29.01157  "
      ]
     },
     "metadata": {},
     "output_type": "display_data"
    }
   ],
   "source": [
    "mean_arr_delay <- arrange(mean_arr_delay, desc(mean_delay))\n",
    "mean_arr_delay"
   ]
  },
  {
   "cell_type": "markdown",
   "id": "ac45b668",
   "metadata": {},
   "source": [
    "### Join data\n",
    "- join aggregated data with `airlines` table to get more information"
   ]
  },
  {
   "cell_type": "code",
   "execution_count": 9,
   "id": "3d1ad7eb",
   "metadata": {},
   "outputs": [
    {
     "data": {
      "text/html": [
       "<table class=\"dataframe\">\n",
       "<caption>A tibble: 16 × 3</caption>\n",
       "<thead>\n",
       "\t<tr><th scope=col>carrier</th><th scope=col>mean_delay</th><th scope=col>name</th></tr>\n",
       "\t<tr><th scope=col>&lt;chr&gt;</th><th scope=col>&lt;dbl&gt;</th><th scope=col>&lt;chr&gt;</th></tr>\n",
       "</thead>\n",
       "<tbody>\n",
       "\t<tr><td>OO</td><td>60.60000</td><td>SkyWest Airlines Inc.      </td></tr>\n",
       "\t<tr><td>YV</td><td>51.08140</td><td>Mesa Airlines Inc.         </td></tr>\n",
       "\t<tr><td>9E</td><td>49.27271</td><td>Endeavor Air Inc.          </td></tr>\n",
       "\t<tr><td>EV</td><td>48.26858</td><td>ExpressJet Airlines Inc.   </td></tr>\n",
       "\t<tr><td>F9</td><td>47.57908</td><td>Frontier Airlines Inc.     </td></tr>\n",
       "\t<tr><td>VX</td><td>43.84708</td><td>Virgin America             </td></tr>\n",
       "\t<tr><td>FL</td><td>41.09446</td><td>AirTran Airways Corporation</td></tr>\n",
       "\t<tr><td>WN</td><td>40.74755</td><td>Southwest Airlines Co.     </td></tr>\n",
       "\t<tr><td>B6</td><td>40.00906</td><td>JetBlue Airways            </td></tr>\n",
       "\t<tr><td>AA</td><td>38.26555</td><td>American Airlines Inc.     </td></tr>\n",
       "\t<tr><td>MQ</td><td>37.85205</td><td>Envoy Air                  </td></tr>\n",
       "\t<tr><td>DL</td><td>37.74356</td><td>Delta Air Lines Inc.       </td></tr>\n",
       "\t<tr><td>UA</td><td>36.65098</td><td>United Air Lines Inc.      </td></tr>\n",
       "\t<tr><td>HA</td><td>35.03093</td><td>Hawaiian Airlines Inc.     </td></tr>\n",
       "\t<tr><td>AS</td><td>34.36508</td><td>Alaska Airlines Inc.       </td></tr>\n",
       "\t<tr><td>US</td><td>29.01157</td><td>US Airways Inc.            </td></tr>\n",
       "</tbody>\n",
       "</table>\n"
      ],
      "text/latex": [
       "A tibble: 16 × 3\n",
       "\\begin{tabular}{lll}\n",
       " carrier & mean\\_delay & name\\\\\n",
       " <chr> & <dbl> & <chr>\\\\\n",
       "\\hline\n",
       "\t OO & 60.60000 & SkyWest Airlines Inc.      \\\\\n",
       "\t YV & 51.08140 & Mesa Airlines Inc.         \\\\\n",
       "\t 9E & 49.27271 & Endeavor Air Inc.          \\\\\n",
       "\t EV & 48.26858 & ExpressJet Airlines Inc.   \\\\\n",
       "\t F9 & 47.57908 & Frontier Airlines Inc.     \\\\\n",
       "\t VX & 43.84708 & Virgin America             \\\\\n",
       "\t FL & 41.09446 & AirTran Airways Corporation\\\\\n",
       "\t WN & 40.74755 & Southwest Airlines Co.     \\\\\n",
       "\t B6 & 40.00906 & JetBlue Airways            \\\\\n",
       "\t AA & 38.26555 & American Airlines Inc.     \\\\\n",
       "\t MQ & 37.85205 & Envoy Air                  \\\\\n",
       "\t DL & 37.74356 & Delta Air Lines Inc.       \\\\\n",
       "\t UA & 36.65098 & United Air Lines Inc.      \\\\\n",
       "\t HA & 35.03093 & Hawaiian Airlines Inc.     \\\\\n",
       "\t AS & 34.36508 & Alaska Airlines Inc.       \\\\\n",
       "\t US & 29.01157 & US Airways Inc.            \\\\\n",
       "\\end{tabular}\n"
      ],
      "text/markdown": [
       "\n",
       "A tibble: 16 × 3\n",
       "\n",
       "| carrier &lt;chr&gt; | mean_delay &lt;dbl&gt; | name &lt;chr&gt; |\n",
       "|---|---|---|\n",
       "| OO | 60.60000 | SkyWest Airlines Inc.       |\n",
       "| YV | 51.08140 | Mesa Airlines Inc.          |\n",
       "| 9E | 49.27271 | Endeavor Air Inc.           |\n",
       "| EV | 48.26858 | ExpressJet Airlines Inc.    |\n",
       "| F9 | 47.57908 | Frontier Airlines Inc.      |\n",
       "| VX | 43.84708 | Virgin America              |\n",
       "| FL | 41.09446 | AirTran Airways Corporation |\n",
       "| WN | 40.74755 | Southwest Airlines Co.      |\n",
       "| B6 | 40.00906 | JetBlue Airways             |\n",
       "| AA | 38.26555 | American Airlines Inc.      |\n",
       "| MQ | 37.85205 | Envoy Air                   |\n",
       "| DL | 37.74356 | Delta Air Lines Inc.        |\n",
       "| UA | 36.65098 | United Air Lines Inc.       |\n",
       "| HA | 35.03093 | Hawaiian Airlines Inc.      |\n",
       "| AS | 34.36508 | Alaska Airlines Inc.        |\n",
       "| US | 29.01157 | US Airways Inc.             |\n",
       "\n"
      ],
      "text/plain": [
       "   carrier mean_delay name                       \n",
       "1  OO      60.60000   SkyWest Airlines Inc.      \n",
       "2  YV      51.08140   Mesa Airlines Inc.         \n",
       "3  9E      49.27271   Endeavor Air Inc.          \n",
       "4  EV      48.26858   ExpressJet Airlines Inc.   \n",
       "5  F9      47.57908   Frontier Airlines Inc.     \n",
       "6  VX      43.84708   Virgin America             \n",
       "7  FL      41.09446   AirTran Airways Corporation\n",
       "8  WN      40.74755   Southwest Airlines Co.     \n",
       "9  B6      40.00906   JetBlue Airways            \n",
       "10 AA      38.26555   American Airlines Inc.     \n",
       "11 MQ      37.85205   Envoy Air                  \n",
       "12 DL      37.74356   Delta Air Lines Inc.       \n",
       "13 UA      36.65098   United Air Lines Inc.      \n",
       "14 HA      35.03093   Hawaiian Airlines Inc.     \n",
       "15 AS      34.36508   Alaska Airlines Inc.       \n",
       "16 US      29.01157   US Airways Inc.            "
      ]
     },
     "metadata": {},
     "output_type": "display_data"
    }
   ],
   "source": [
    "joined <- left_join(mean_arr_delay, select(airlines_data, -X), by='carrier')\n",
    "joined"
   ]
  },
  {
   "cell_type": "markdown",
   "id": "895b1934",
   "metadata": {},
   "source": [
    "### Pipeline\n",
    "- combine all the data preparation steps into one"
   ]
  },
  {
   "cell_type": "code",
   "execution_count": 10,
   "id": "40fb816a",
   "metadata": {},
   "outputs": [
    {
     "data": {
      "text/html": [
       "<table class=\"dataframe\">\n",
       "<caption>A tibble: 16 × 3</caption>\n",
       "<thead>\n",
       "\t<tr><th scope=col>carrier</th><th scope=col>mean_delay</th><th scope=col>name</th></tr>\n",
       "\t<tr><th scope=col>&lt;chr&gt;</th><th scope=col>&lt;dbl&gt;</th><th scope=col>&lt;chr&gt;</th></tr>\n",
       "</thead>\n",
       "<tbody>\n",
       "\t<tr><td>OO</td><td>60.60000</td><td>SkyWest Airlines Inc.      </td></tr>\n",
       "\t<tr><td>YV</td><td>51.08140</td><td>Mesa Airlines Inc.         </td></tr>\n",
       "\t<tr><td>9E</td><td>49.27271</td><td>Endeavor Air Inc.          </td></tr>\n",
       "\t<tr><td>EV</td><td>48.26858</td><td>ExpressJet Airlines Inc.   </td></tr>\n",
       "\t<tr><td>F9</td><td>47.57908</td><td>Frontier Airlines Inc.     </td></tr>\n",
       "\t<tr><td>VX</td><td>43.84708</td><td>Virgin America             </td></tr>\n",
       "\t<tr><td>FL</td><td>41.09446</td><td>AirTran Airways Corporation</td></tr>\n",
       "\t<tr><td>WN</td><td>40.74755</td><td>Southwest Airlines Co.     </td></tr>\n",
       "\t<tr><td>B6</td><td>40.00906</td><td>JetBlue Airways            </td></tr>\n",
       "\t<tr><td>AA</td><td>38.26555</td><td>American Airlines Inc.     </td></tr>\n",
       "\t<tr><td>MQ</td><td>37.85205</td><td>Envoy Air                  </td></tr>\n",
       "\t<tr><td>DL</td><td>37.74356</td><td>Delta Air Lines Inc.       </td></tr>\n",
       "\t<tr><td>UA</td><td>36.65098</td><td>United Air Lines Inc.      </td></tr>\n",
       "\t<tr><td>HA</td><td>35.03093</td><td>Hawaiian Airlines Inc.     </td></tr>\n",
       "\t<tr><td>AS</td><td>34.36508</td><td>Alaska Airlines Inc.       </td></tr>\n",
       "\t<tr><td>US</td><td>29.01157</td><td>US Airways Inc.            </td></tr>\n",
       "</tbody>\n",
       "</table>\n"
      ],
      "text/latex": [
       "A tibble: 16 × 3\n",
       "\\begin{tabular}{lll}\n",
       " carrier & mean\\_delay & name\\\\\n",
       " <chr> & <dbl> & <chr>\\\\\n",
       "\\hline\n",
       "\t OO & 60.60000 & SkyWest Airlines Inc.      \\\\\n",
       "\t YV & 51.08140 & Mesa Airlines Inc.         \\\\\n",
       "\t 9E & 49.27271 & Endeavor Air Inc.          \\\\\n",
       "\t EV & 48.26858 & ExpressJet Airlines Inc.   \\\\\n",
       "\t F9 & 47.57908 & Frontier Airlines Inc.     \\\\\n",
       "\t VX & 43.84708 & Virgin America             \\\\\n",
       "\t FL & 41.09446 & AirTran Airways Corporation\\\\\n",
       "\t WN & 40.74755 & Southwest Airlines Co.     \\\\\n",
       "\t B6 & 40.00906 & JetBlue Airways            \\\\\n",
       "\t AA & 38.26555 & American Airlines Inc.     \\\\\n",
       "\t MQ & 37.85205 & Envoy Air                  \\\\\n",
       "\t DL & 37.74356 & Delta Air Lines Inc.       \\\\\n",
       "\t UA & 36.65098 & United Air Lines Inc.      \\\\\n",
       "\t HA & 35.03093 & Hawaiian Airlines Inc.     \\\\\n",
       "\t AS & 34.36508 & Alaska Airlines Inc.       \\\\\n",
       "\t US & 29.01157 & US Airways Inc.            \\\\\n",
       "\\end{tabular}\n"
      ],
      "text/markdown": [
       "\n",
       "A tibble: 16 × 3\n",
       "\n",
       "| carrier &lt;chr&gt; | mean_delay &lt;dbl&gt; | name &lt;chr&gt; |\n",
       "|---|---|---|\n",
       "| OO | 60.60000 | SkyWest Airlines Inc.       |\n",
       "| YV | 51.08140 | Mesa Airlines Inc.          |\n",
       "| 9E | 49.27271 | Endeavor Air Inc.           |\n",
       "| EV | 48.26858 | ExpressJet Airlines Inc.    |\n",
       "| F9 | 47.57908 | Frontier Airlines Inc.      |\n",
       "| VX | 43.84708 | Virgin America              |\n",
       "| FL | 41.09446 | AirTran Airways Corporation |\n",
       "| WN | 40.74755 | Southwest Airlines Co.      |\n",
       "| B6 | 40.00906 | JetBlue Airways             |\n",
       "| AA | 38.26555 | American Airlines Inc.      |\n",
       "| MQ | 37.85205 | Envoy Air                   |\n",
       "| DL | 37.74356 | Delta Air Lines Inc.        |\n",
       "| UA | 36.65098 | United Air Lines Inc.       |\n",
       "| HA | 35.03093 | Hawaiian Airlines Inc.      |\n",
       "| AS | 34.36508 | Alaska Airlines Inc.        |\n",
       "| US | 29.01157 | US Airways Inc.             |\n",
       "\n"
      ],
      "text/plain": [
       "   carrier mean_delay name                       \n",
       "1  OO      60.60000   SkyWest Airlines Inc.      \n",
       "2  YV      51.08140   Mesa Airlines Inc.         \n",
       "3  9E      49.27271   Endeavor Air Inc.          \n",
       "4  EV      48.26858   ExpressJet Airlines Inc.   \n",
       "5  F9      47.57908   Frontier Airlines Inc.     \n",
       "6  VX      43.84708   Virgin America             \n",
       "7  FL      41.09446   AirTran Airways Corporation\n",
       "8  WN      40.74755   Southwest Airlines Co.     \n",
       "9  B6      40.00906   JetBlue Airways            \n",
       "10 AA      38.26555   American Airlines Inc.     \n",
       "11 MQ      37.85205   Envoy Air                  \n",
       "12 DL      37.74356   Delta Air Lines Inc.       \n",
       "13 UA      36.65098   United Air Lines Inc.      \n",
       "14 HA      35.03093   Hawaiian Airlines Inc.     \n",
       "15 AS      34.36508   Alaska Airlines Inc.       \n",
       "16 US      29.01157   US Airways Inc.            "
      ]
     },
     "metadata": {},
     "output_type": "display_data"
    }
   ],
   "source": [
    "flights_data %>% \n",
    "select(carrier, arr_delay) %>%\n",
    "filter(!is.na(arr_delay) & arr_delay > 0) %>%\n",
    "group_by(carrier) %>%\n",
    "summarise(mean_delay=mean(arr_delay)) %>%\n",
    "arrange(desc(mean_delay)) %>%\n",
    "left_join(select(airlines_data, -X), by='carrier')"
   ]
  },
  {
   "cell_type": "markdown",
   "id": "4afc9afe",
   "metadata": {},
   "source": [
    "### Conclusion\n",
    "- on average, US Airways is least delaying airline on arrival \n",
    "- SkyWest Airlines is the worst airline in terms of mean arrival delay\n",
    "- mean arrival delay of SkyWest Airlines (the worst) is double of US Airways (the best)"
   ]
  }
 ],
 "metadata": {
  "kernelspec": {
   "display_name": "R",
   "language": "R",
   "name": "ir"
  },
  "language_info": {
   "codemirror_mode": "r",
   "file_extension": ".r",
   "mimetype": "text/x-r-source",
   "name": "R",
   "pygments_lexer": "r",
   "version": "4.1.2"
  }
 },
 "nbformat": 4,
 "nbformat_minor": 2
}
