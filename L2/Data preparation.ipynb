{
 "cells": [
  {
   "cell_type": "markdown",
   "id": "be92f658",
   "metadata": {},
   "source": [
    "## Data Preparation\n",
    "- The purpose is to learn about data preparation functions in R and practice using the functions learned by completing a data preparation task"
   ]
  },
  {
   "cell_type": "markdown",
   "id": "44d1082e",
   "metadata": {},
   "source": [
    "### Load data"
   ]
  },
  {
   "cell_type": "code",
   "execution_count": 1,
   "id": "48e21dc6",
   "metadata": {},
   "outputs": [],
   "source": [
    "load('./L2-data/2-DataPrep.RData')"
   ]
  },
  {
   "cell_type": "markdown",
   "id": "3346fa81",
   "metadata": {},
   "source": [
    "### Display data"
   ]
  },
  {
   "cell_type": "code",
   "execution_count": 2,
   "id": "8d7e6165",
   "metadata": {},
   "outputs": [
    {
     "data": {
      "text/html": [
       "<table class=\"dataframe\">\n",
       "<caption>A tibble: 6 × 4</caption>\n",
       "<thead>\n",
       "\t<tr><th scope=col>storm</th><th scope=col>wind</th><th scope=col>pressure</th><th scope=col>date</th></tr>\n",
       "\t<tr><th scope=col>&lt;chr&gt;</th><th scope=col>&lt;int&gt;</th><th scope=col>&lt;int&gt;</th><th scope=col>&lt;date&gt;</th></tr>\n",
       "</thead>\n",
       "<tbody>\n",
       "\t<tr><td>Alberto</td><td>110</td><td>1007</td><td>2000-08-03</td></tr>\n",
       "\t<tr><td>Alex   </td><td> 45</td><td>1009</td><td>1998-07-27</td></tr>\n",
       "\t<tr><td>Allison</td><td> 65</td><td>1005</td><td>1995-06-03</td></tr>\n",
       "\t<tr><td>Ana    </td><td> 40</td><td>1013</td><td>1997-06-30</td></tr>\n",
       "\t<tr><td>Arlene </td><td> 50</td><td>1010</td><td>1999-06-11</td></tr>\n",
       "\t<tr><td>Arthur </td><td> 45</td><td>1010</td><td>1996-06-17</td></tr>\n",
       "</tbody>\n",
       "</table>\n"
      ],
      "text/latex": [
       "A tibble: 6 × 4\n",
       "\\begin{tabular}{llll}\n",
       " storm & wind & pressure & date\\\\\n",
       " <chr> & <int> & <int> & <date>\\\\\n",
       "\\hline\n",
       "\t Alberto & 110 & 1007 & 2000-08-03\\\\\n",
       "\t Alex    &  45 & 1009 & 1998-07-27\\\\\n",
       "\t Allison &  65 & 1005 & 1995-06-03\\\\\n",
       "\t Ana     &  40 & 1013 & 1997-06-30\\\\\n",
       "\t Arlene  &  50 & 1010 & 1999-06-11\\\\\n",
       "\t Arthur  &  45 & 1010 & 1996-06-17\\\\\n",
       "\\end{tabular}\n"
      ],
      "text/markdown": [
       "\n",
       "A tibble: 6 × 4\n",
       "\n",
       "| storm &lt;chr&gt; | wind &lt;int&gt; | pressure &lt;int&gt; | date &lt;date&gt; |\n",
       "|---|---|---|---|\n",
       "| Alberto | 110 | 1007 | 2000-08-03 |\n",
       "| Alex    |  45 | 1009 | 1998-07-27 |\n",
       "| Allison |  65 | 1005 | 1995-06-03 |\n",
       "| Ana     |  40 | 1013 | 1997-06-30 |\n",
       "| Arlene  |  50 | 1010 | 1999-06-11 |\n",
       "| Arthur  |  45 | 1010 | 1996-06-17 |\n",
       "\n"
      ],
      "text/plain": [
       "  storm   wind pressure date      \n",
       "1 Alberto 110  1007     2000-08-03\n",
       "2 Alex     45  1009     1998-07-27\n",
       "3 Allison  65  1005     1995-06-03\n",
       "4 Ana      40  1013     1997-06-30\n",
       "5 Arlene   50  1010     1999-06-11\n",
       "6 Arthur   45  1010     1996-06-17"
      ]
     },
     "metadata": {},
     "output_type": "display_data"
    }
   ],
   "source": [
    "storms"
   ]
  },
  {
   "cell_type": "code",
   "execution_count": 3,
   "id": "5f42febc",
   "metadata": {},
   "outputs": [
    {
     "data": {
      "text/html": [
       "<table class=\"dataframe\">\n",
       "<caption>A data.frame: 3 × 4</caption>\n",
       "<thead>\n",
       "\t<tr><th scope=col>country</th><th scope=col>2011</th><th scope=col>2012</th><th scope=col>2013</th></tr>\n",
       "\t<tr><th scope=col>&lt;chr&gt;</th><th scope=col>&lt;dbl&gt;</th><th scope=col>&lt;dbl&gt;</th><th scope=col>&lt;dbl&gt;</th></tr>\n",
       "</thead>\n",
       "<tbody>\n",
       "\t<tr><td>FR</td><td> 7000</td><td> 6900</td><td> 7000</td></tr>\n",
       "\t<tr><td>DE</td><td> 5800</td><td> 6000</td><td> 6200</td></tr>\n",
       "\t<tr><td>US</td><td>15000</td><td>14000</td><td>13000</td></tr>\n",
       "</tbody>\n",
       "</table>\n"
      ],
      "text/latex": [
       "A data.frame: 3 × 4\n",
       "\\begin{tabular}{llll}\n",
       " country & 2011 & 2012 & 2013\\\\\n",
       " <chr> & <dbl> & <dbl> & <dbl>\\\\\n",
       "\\hline\n",
       "\t FR &  7000 &  6900 &  7000\\\\\n",
       "\t DE &  5800 &  6000 &  6200\\\\\n",
       "\t US & 15000 & 14000 & 13000\\\\\n",
       "\\end{tabular}\n"
      ],
      "text/markdown": [
       "\n",
       "A data.frame: 3 × 4\n",
       "\n",
       "| country &lt;chr&gt; | 2011 &lt;dbl&gt; | 2012 &lt;dbl&gt; | 2013 &lt;dbl&gt; |\n",
       "|---|---|---|---|\n",
       "| FR |  7000 |  6900 |  7000 |\n",
       "| DE |  5800 |  6000 |  6200 |\n",
       "| US | 15000 | 14000 | 13000 |\n",
       "\n"
      ],
      "text/plain": [
       "  country 2011  2012  2013 \n",
       "1 FR       7000  6900  7000\n",
       "2 DE       5800  6000  6200\n",
       "3 US      15000 14000 13000"
      ]
     },
     "metadata": {},
     "output_type": "display_data"
    }
   ],
   "source": [
    "cases"
   ]
  },
  {
   "cell_type": "code",
   "execution_count": 4,
   "id": "a56e1901",
   "metadata": {},
   "outputs": [
    {
     "data": {
      "text/html": [
       "<table class=\"dataframe\">\n",
       "<caption>A data.frame: 6 × 3</caption>\n",
       "<thead>\n",
       "\t<tr><th scope=col>city</th><th scope=col>size</th><th scope=col>amount</th></tr>\n",
       "\t<tr><th scope=col>&lt;chr&gt;</th><th scope=col>&lt;chr&gt;</th><th scope=col>&lt;dbl&gt;</th></tr>\n",
       "</thead>\n",
       "<tbody>\n",
       "\t<tr><td>New York</td><td>large</td><td> 23</td></tr>\n",
       "\t<tr><td>New York</td><td>small</td><td> 14</td></tr>\n",
       "\t<tr><td>London  </td><td>large</td><td> 22</td></tr>\n",
       "\t<tr><td>London  </td><td>small</td><td> 16</td></tr>\n",
       "\t<tr><td>Beijing </td><td>large</td><td>121</td></tr>\n",
       "\t<tr><td>Beijing </td><td>small</td><td> 56</td></tr>\n",
       "</tbody>\n",
       "</table>\n"
      ],
      "text/latex": [
       "A data.frame: 6 × 3\n",
       "\\begin{tabular}{lll}\n",
       " city & size & amount\\\\\n",
       " <chr> & <chr> & <dbl>\\\\\n",
       "\\hline\n",
       "\t New York & large &  23\\\\\n",
       "\t New York & small &  14\\\\\n",
       "\t London   & large &  22\\\\\n",
       "\t London   & small &  16\\\\\n",
       "\t Beijing  & large & 121\\\\\n",
       "\t Beijing  & small &  56\\\\\n",
       "\\end{tabular}\n"
      ],
      "text/markdown": [
       "\n",
       "A data.frame: 6 × 3\n",
       "\n",
       "| city &lt;chr&gt; | size &lt;chr&gt; | amount &lt;dbl&gt; |\n",
       "|---|---|---|\n",
       "| New York | large |  23 |\n",
       "| New York | small |  14 |\n",
       "| London   | large |  22 |\n",
       "| London   | small |  16 |\n",
       "| Beijing  | large | 121 |\n",
       "| Beijing  | small |  56 |\n",
       "\n"
      ],
      "text/plain": [
       "  city     size  amount\n",
       "1 New York large  23   \n",
       "2 New York small  14   \n",
       "3 London   large  22   \n",
       "4 London   small  16   \n",
       "5 Beijing  large 121   \n",
       "6 Beijing  small  56   "
      ]
     },
     "metadata": {},
     "output_type": "display_data"
    }
   ],
   "source": [
    "pollution"
   ]
  },
  {
   "cell_type": "code",
   "execution_count": 5,
   "id": "872280f5",
   "metadata": {},
   "outputs": [
    {
     "data": {
      "text/html": [
       "<table class=\"dataframe\">\n",
       "<caption>A tibble: 6 × 6</caption>\n",
       "<thead>\n",
       "\t<tr><th></th><th scope=col>country</th><th scope=col>year</th><th scope=col>sex</th><th scope=col>child</th><th scope=col>adult</th><th scope=col>elderly</th></tr>\n",
       "\t<tr><th></th><th scope=col>&lt;chr&gt;</th><th scope=col>&lt;int&gt;</th><th scope=col>&lt;chr&gt;</th><th scope=col>&lt;int&gt;</th><th scope=col>&lt;int&gt;</th><th scope=col>&lt;int&gt;</th></tr>\n",
       "</thead>\n",
       "<tbody>\n",
       "\t<tr><th scope=row>1</th><td>Afghanistan</td><td>1995</td><td>female</td><td>NA</td><td>NA</td><td>NA</td></tr>\n",
       "\t<tr><th scope=row>2</th><td>Afghanistan</td><td>1995</td><td>male  </td><td>NA</td><td>NA</td><td>NA</td></tr>\n",
       "\t<tr><th scope=row>3</th><td>Afghanistan</td><td>1996</td><td>female</td><td>NA</td><td>NA</td><td>NA</td></tr>\n",
       "\t<tr><th scope=row>4</th><td>Afghanistan</td><td>1996</td><td>male  </td><td>NA</td><td>NA</td><td>NA</td></tr>\n",
       "\t<tr><th scope=row>5</th><td>Afghanistan</td><td>1997</td><td>female</td><td> 5</td><td>96</td><td> 1</td></tr>\n",
       "\t<tr><th scope=row>6</th><td>Afghanistan</td><td>1997</td><td>male  </td><td> 0</td><td>26</td><td> 0</td></tr>\n",
       "</tbody>\n",
       "</table>\n"
      ],
      "text/latex": [
       "A tibble: 6 × 6\n",
       "\\begin{tabular}{r|llllll}\n",
       "  & country & year & sex & child & adult & elderly\\\\\n",
       "  & <chr> & <int> & <chr> & <int> & <int> & <int>\\\\\n",
       "\\hline\n",
       "\t1 & Afghanistan & 1995 & female & NA & NA & NA\\\\\n",
       "\t2 & Afghanistan & 1995 & male   & NA & NA & NA\\\\\n",
       "\t3 & Afghanistan & 1996 & female & NA & NA & NA\\\\\n",
       "\t4 & Afghanistan & 1996 & male   & NA & NA & NA\\\\\n",
       "\t5 & Afghanistan & 1997 & female &  5 & 96 &  1\\\\\n",
       "\t6 & Afghanistan & 1997 & male   &  0 & 26 &  0\\\\\n",
       "\\end{tabular}\n"
      ],
      "text/markdown": [
       "\n",
       "A tibble: 6 × 6\n",
       "\n",
       "| <!--/--> | country &lt;chr&gt; | year &lt;int&gt; | sex &lt;chr&gt; | child &lt;int&gt; | adult &lt;int&gt; | elderly &lt;int&gt; |\n",
       "|---|---|---|---|---|---|---|\n",
       "| 1 | Afghanistan | 1995 | female | NA | NA | NA |\n",
       "| 2 | Afghanistan | 1995 | male   | NA | NA | NA |\n",
       "| 3 | Afghanistan | 1996 | female | NA | NA | NA |\n",
       "| 4 | Afghanistan | 1996 | male   | NA | NA | NA |\n",
       "| 5 | Afghanistan | 1997 | female |  5 | 96 |  1 |\n",
       "| 6 | Afghanistan | 1997 | male   |  0 | 26 |  0 |\n",
       "\n"
      ],
      "text/plain": [
       "  country     year sex    child adult elderly\n",
       "1 Afghanistan 1995 female NA    NA    NA     \n",
       "2 Afghanistan 1995 male   NA    NA    NA     \n",
       "3 Afghanistan 1996 female NA    NA    NA     \n",
       "4 Afghanistan 1996 male   NA    NA    NA     \n",
       "5 Afghanistan 1997 female  5    96     1     \n",
       "6 Afghanistan 1997 male    0    26     0     "
      ]
     },
     "metadata": {},
     "output_type": "display_data"
    }
   ],
   "source": [
    "head(tb) # display a few of top rows for large dataset"
   ]
  },
  {
   "cell_type": "markdown",
   "id": "5ad12199",
   "metadata": {},
   "source": [
    "### Install packages"
   ]
  },
  {
   "cell_type": "code",
   "execution_count": 6,
   "id": "58d9d108",
   "metadata": {},
   "outputs": [
    {
     "name": "stdout",
     "output_type": "stream",
     "text": [
      "\n",
      "The downloaded binary packages are in\n",
      "\t/var/folders/71/32h8kjzx1d957cbl0_xhpyvr0000gn/T//RtmpgnlVvd/downloaded_packages\n"
     ]
    },
    {
     "name": "stderr",
     "output_type": "stream",
     "text": [
      "\n",
      "Attaching package: ‘dplyr’\n",
      "\n",
      "\n",
      "The following object is masked _by_ ‘.GlobalEnv’:\n",
      "\n",
      "    storms\n",
      "\n",
      "\n",
      "The following objects are masked from ‘package:stats’:\n",
      "\n",
      "    filter, lag\n",
      "\n",
      "\n",
      "The following objects are masked from ‘package:base’:\n",
      "\n",
      "    intersect, setdiff, setequal, union\n",
      "\n",
      "\n"
     ]
    }
   ],
   "source": [
    "packages <- c('tidyr', 'dplyr')\n",
    "install.packages(packages)\n",
    "library(tidyr)\n",
    "library(dplyr)"
   ]
  },
  {
   "cell_type": "markdown",
   "id": "c44d6850",
   "metadata": {},
   "source": [
    "### Data Preparation Tasks"
   ]
  },
  {
   "cell_type": "markdown",
   "id": "a1da0361",
   "metadata": {},
   "source": [
    "### Reshaping table"
   ]
  },
  {
   "cell_type": "code",
   "execution_count": 7,
   "id": "50518011",
   "metadata": {},
   "outputs": [
    {
     "data": {
      "text/html": [
       "<table class=\"dataframe\">\n",
       "<caption>A data.frame: 9 × 3</caption>\n",
       "<thead>\n",
       "\t<tr><th scope=col>country</th><th scope=col>year</th><th scope=col>n</th></tr>\n",
       "\t<tr><th scope=col>&lt;chr&gt;</th><th scope=col>&lt;chr&gt;</th><th scope=col>&lt;dbl&gt;</th></tr>\n",
       "</thead>\n",
       "<tbody>\n",
       "\t<tr><td>FR</td><td>2011</td><td> 7000</td></tr>\n",
       "\t<tr><td>DE</td><td>2011</td><td> 5800</td></tr>\n",
       "\t<tr><td>US</td><td>2011</td><td>15000</td></tr>\n",
       "\t<tr><td>FR</td><td>2012</td><td> 6900</td></tr>\n",
       "\t<tr><td>DE</td><td>2012</td><td> 6000</td></tr>\n",
       "\t<tr><td>US</td><td>2012</td><td>14000</td></tr>\n",
       "\t<tr><td>FR</td><td>2013</td><td> 7000</td></tr>\n",
       "\t<tr><td>DE</td><td>2013</td><td> 6200</td></tr>\n",
       "\t<tr><td>US</td><td>2013</td><td>13000</td></tr>\n",
       "</tbody>\n",
       "</table>\n"
      ],
      "text/latex": [
       "A data.frame: 9 × 3\n",
       "\\begin{tabular}{lll}\n",
       " country & year & n\\\\\n",
       " <chr> & <chr> & <dbl>\\\\\n",
       "\\hline\n",
       "\t FR & 2011 &  7000\\\\\n",
       "\t DE & 2011 &  5800\\\\\n",
       "\t US & 2011 & 15000\\\\\n",
       "\t FR & 2012 &  6900\\\\\n",
       "\t DE & 2012 &  6000\\\\\n",
       "\t US & 2012 & 14000\\\\\n",
       "\t FR & 2013 &  7000\\\\\n",
       "\t DE & 2013 &  6200\\\\\n",
       "\t US & 2013 & 13000\\\\\n",
       "\\end{tabular}\n"
      ],
      "text/markdown": [
       "\n",
       "A data.frame: 9 × 3\n",
       "\n",
       "| country &lt;chr&gt; | year &lt;chr&gt; | n &lt;dbl&gt; |\n",
       "|---|---|---|\n",
       "| FR | 2011 |  7000 |\n",
       "| DE | 2011 |  5800 |\n",
       "| US | 2011 | 15000 |\n",
       "| FR | 2012 |  6900 |\n",
       "| DE | 2012 |  6000 |\n",
       "| US | 2012 | 14000 |\n",
       "| FR | 2013 |  7000 |\n",
       "| DE | 2013 |  6200 |\n",
       "| US | 2013 | 13000 |\n",
       "\n"
      ],
      "text/plain": [
       "  country year n    \n",
       "1 FR      2011  7000\n",
       "2 DE      2011  5800\n",
       "3 US      2011 15000\n",
       "4 FR      2012  6900\n",
       "5 DE      2012  6000\n",
       "6 US      2012 14000\n",
       "7 FR      2013  7000\n",
       "8 DE      2013  6200\n",
       "9 US      2013 13000"
      ]
     },
     "metadata": {},
     "output_type": "display_data"
    }
   ],
   "source": [
    "gather(cases, 'year', 'n', 2:4) # melt column 2,3,4"
   ]
  },
  {
   "cell_type": "code",
   "execution_count": 8,
   "id": "1571adf6",
   "metadata": {},
   "outputs": [
    {
     "data": {
      "text/html": [
       "<table class=\"dataframe\">\n",
       "<caption>A data.frame: 3 × 3</caption>\n",
       "<thead>\n",
       "\t<tr><th scope=col>city</th><th scope=col>large</th><th scope=col>small</th></tr>\n",
       "\t<tr><th scope=col>&lt;chr&gt;</th><th scope=col>&lt;dbl&gt;</th><th scope=col>&lt;dbl&gt;</th></tr>\n",
       "</thead>\n",
       "<tbody>\n",
       "\t<tr><td>Beijing </td><td>121</td><td>56</td></tr>\n",
       "\t<tr><td>London  </td><td> 22</td><td>16</td></tr>\n",
       "\t<tr><td>New York</td><td> 23</td><td>14</td></tr>\n",
       "</tbody>\n",
       "</table>\n"
      ],
      "text/latex": [
       "A data.frame: 3 × 3\n",
       "\\begin{tabular}{lll}\n",
       " city & large & small\\\\\n",
       " <chr> & <dbl> & <dbl>\\\\\n",
       "\\hline\n",
       "\t Beijing  & 121 & 56\\\\\n",
       "\t London   &  22 & 16\\\\\n",
       "\t New York &  23 & 14\\\\\n",
       "\\end{tabular}\n"
      ],
      "text/markdown": [
       "\n",
       "A data.frame: 3 × 3\n",
       "\n",
       "| city &lt;chr&gt; | large &lt;dbl&gt; | small &lt;dbl&gt; |\n",
       "|---|---|---|\n",
       "| Beijing  | 121 | 56 |\n",
       "| London   |  22 | 16 |\n",
       "| New York |  23 | 14 |\n",
       "\n"
      ],
      "text/plain": [
       "  city     large small\n",
       "1 Beijing  121   56   \n",
       "2 London    22   16   \n",
       "3 New York  23   14   "
      ]
     },
     "metadata": {},
     "output_type": "display_data"
    }
   ],
   "source": [
    "spread(pollution, size, amount) # pivot table using size as column and amount as value"
   ]
  },
  {
   "cell_type": "markdown",
   "id": "122b439f",
   "metadata": {},
   "source": [
    "### Reshaping column"
   ]
  },
  {
   "cell_type": "code",
   "execution_count": 9,
   "id": "dceba93f",
   "metadata": {},
   "outputs": [
    {
     "data": {
      "text/html": [
       "<table class=\"dataframe\">\n",
       "<caption>A tibble: 6 × 6</caption>\n",
       "<thead>\n",
       "\t<tr><th scope=col>storm</th><th scope=col>wind</th><th scope=col>pressure</th><th scope=col>year</th><th scope=col>month</th><th scope=col>date</th></tr>\n",
       "\t<tr><th scope=col>&lt;chr&gt;</th><th scope=col>&lt;int&gt;</th><th scope=col>&lt;int&gt;</th><th scope=col>&lt;chr&gt;</th><th scope=col>&lt;chr&gt;</th><th scope=col>&lt;chr&gt;</th></tr>\n",
       "</thead>\n",
       "<tbody>\n",
       "\t<tr><td>Alberto</td><td>110</td><td>1007</td><td>2000</td><td>08</td><td>03</td></tr>\n",
       "\t<tr><td>Alex   </td><td> 45</td><td>1009</td><td>1998</td><td>07</td><td>27</td></tr>\n",
       "\t<tr><td>Allison</td><td> 65</td><td>1005</td><td>1995</td><td>06</td><td>03</td></tr>\n",
       "\t<tr><td>Ana    </td><td> 40</td><td>1013</td><td>1997</td><td>06</td><td>30</td></tr>\n",
       "\t<tr><td>Arlene </td><td> 50</td><td>1010</td><td>1999</td><td>06</td><td>11</td></tr>\n",
       "\t<tr><td>Arthur </td><td> 45</td><td>1010</td><td>1996</td><td>06</td><td>17</td></tr>\n",
       "</tbody>\n",
       "</table>\n"
      ],
      "text/latex": [
       "A tibble: 6 × 6\n",
       "\\begin{tabular}{llllll}\n",
       " storm & wind & pressure & year & month & date\\\\\n",
       " <chr> & <int> & <int> & <chr> & <chr> & <chr>\\\\\n",
       "\\hline\n",
       "\t Alberto & 110 & 1007 & 2000 & 08 & 03\\\\\n",
       "\t Alex    &  45 & 1009 & 1998 & 07 & 27\\\\\n",
       "\t Allison &  65 & 1005 & 1995 & 06 & 03\\\\\n",
       "\t Ana     &  40 & 1013 & 1997 & 06 & 30\\\\\n",
       "\t Arlene  &  50 & 1010 & 1999 & 06 & 11\\\\\n",
       "\t Arthur  &  45 & 1010 & 1996 & 06 & 17\\\\\n",
       "\\end{tabular}\n"
      ],
      "text/markdown": [
       "\n",
       "A tibble: 6 × 6\n",
       "\n",
       "| storm &lt;chr&gt; | wind &lt;int&gt; | pressure &lt;int&gt; | year &lt;chr&gt; | month &lt;chr&gt; | date &lt;chr&gt; |\n",
       "|---|---|---|---|---|---|\n",
       "| Alberto | 110 | 1007 | 2000 | 08 | 03 |\n",
       "| Alex    |  45 | 1009 | 1998 | 07 | 27 |\n",
       "| Allison |  65 | 1005 | 1995 | 06 | 03 |\n",
       "| Ana     |  40 | 1013 | 1997 | 06 | 30 |\n",
       "| Arlene  |  50 | 1010 | 1999 | 06 | 11 |\n",
       "| Arthur  |  45 | 1010 | 1996 | 06 | 17 |\n",
       "\n"
      ],
      "text/plain": [
       "  storm   wind pressure year month date\n",
       "1 Alberto 110  1007     2000 08    03  \n",
       "2 Alex     45  1009     1998 07    27  \n",
       "3 Allison  65  1005     1995 06    03  \n",
       "4 Ana      40  1013     1997 06    30  \n",
       "5 Arlene   50  1010     1999 06    11  \n",
       "6 Arthur   45  1010     1996 06    17  "
      ]
     },
     "metadata": {},
     "output_type": "display_data"
    }
   ],
   "source": [
    "storms2 <- separate(storms, date, c('year', 'month', 'date'), sep='-') # split date string\n",
    "storms2"
   ]
  },
  {
   "cell_type": "code",
   "execution_count": 10,
   "id": "1e2f748d",
   "metadata": {},
   "outputs": [
    {
     "data": {
      "text/html": [
       "<table class=\"dataframe\">\n",
       "<caption>A tibble: 6 × 4</caption>\n",
       "<thead>\n",
       "\t<tr><th scope=col>storm</th><th scope=col>wind</th><th scope=col>pressure</th><th scope=col>date</th></tr>\n",
       "\t<tr><th scope=col>&lt;chr&gt;</th><th scope=col>&lt;int&gt;</th><th scope=col>&lt;int&gt;</th><th scope=col>&lt;chr&gt;</th></tr>\n",
       "</thead>\n",
       "<tbody>\n",
       "\t<tr><td>Alberto</td><td>110</td><td>1007</td><td>03-08-2000</td></tr>\n",
       "\t<tr><td>Alex   </td><td> 45</td><td>1009</td><td>27-07-1998</td></tr>\n",
       "\t<tr><td>Allison</td><td> 65</td><td>1005</td><td>03-06-1995</td></tr>\n",
       "\t<tr><td>Ana    </td><td> 40</td><td>1013</td><td>30-06-1997</td></tr>\n",
       "\t<tr><td>Arlene </td><td> 50</td><td>1010</td><td>11-06-1999</td></tr>\n",
       "\t<tr><td>Arthur </td><td> 45</td><td>1010</td><td>17-06-1996</td></tr>\n",
       "</tbody>\n",
       "</table>\n"
      ],
      "text/latex": [
       "A tibble: 6 × 4\n",
       "\\begin{tabular}{llll}\n",
       " storm & wind & pressure & date\\\\\n",
       " <chr> & <int> & <int> & <chr>\\\\\n",
       "\\hline\n",
       "\t Alberto & 110 & 1007 & 03-08-2000\\\\\n",
       "\t Alex    &  45 & 1009 & 27-07-1998\\\\\n",
       "\t Allison &  65 & 1005 & 03-06-1995\\\\\n",
       "\t Ana     &  40 & 1013 & 30-06-1997\\\\\n",
       "\t Arlene  &  50 & 1010 & 11-06-1999\\\\\n",
       "\t Arthur  &  45 & 1010 & 17-06-1996\\\\\n",
       "\\end{tabular}\n"
      ],
      "text/markdown": [
       "\n",
       "A tibble: 6 × 4\n",
       "\n",
       "| storm &lt;chr&gt; | wind &lt;int&gt; | pressure &lt;int&gt; | date &lt;chr&gt; |\n",
       "|---|---|---|---|\n",
       "| Alberto | 110 | 1007 | 03-08-2000 |\n",
       "| Alex    |  45 | 1009 | 27-07-1998 |\n",
       "| Allison |  65 | 1005 | 03-06-1995 |\n",
       "| Ana     |  40 | 1013 | 30-06-1997 |\n",
       "| Arlene  |  50 | 1010 | 11-06-1999 |\n",
       "| Arthur  |  45 | 1010 | 17-06-1996 |\n",
       "\n"
      ],
      "text/plain": [
       "  storm   wind pressure date      \n",
       "1 Alberto 110  1007     03-08-2000\n",
       "2 Alex     45  1009     27-07-1998\n",
       "3 Allison  65  1005     03-06-1995\n",
       "4 Ana      40  1013     30-06-1997\n",
       "5 Arlene   50  1010     11-06-1999\n",
       "6 Arthur   45  1010     17-06-1996"
      ]
     },
     "metadata": {},
     "output_type": "display_data"
    }
   ],
   "source": [
    "unite(storms2, \"date\", date, month, year, sep=\"-\") # combine date parts"
   ]
  },
  {
   "cell_type": "markdown",
   "id": "e702549b",
   "metadata": {},
   "source": [
    "### Subsetting columns"
   ]
  },
  {
   "cell_type": "code",
   "execution_count": 11,
   "id": "66243035",
   "metadata": {},
   "outputs": [
    {
     "data": {
      "text/html": [
       "<table class=\"dataframe\">\n",
       "<caption>A tibble: 6 × 3</caption>\n",
       "<thead>\n",
       "\t<tr><th scope=col>storm</th><th scope=col>pressure</th><th scope=col>date</th></tr>\n",
       "\t<tr><th scope=col>&lt;chr&gt;</th><th scope=col>&lt;int&gt;</th><th scope=col>&lt;date&gt;</th></tr>\n",
       "</thead>\n",
       "<tbody>\n",
       "\t<tr><td>Alberto</td><td>1007</td><td>2000-08-03</td></tr>\n",
       "\t<tr><td>Alex   </td><td>1009</td><td>1998-07-27</td></tr>\n",
       "\t<tr><td>Allison</td><td>1005</td><td>1995-06-03</td></tr>\n",
       "\t<tr><td>Ana    </td><td>1013</td><td>1997-06-30</td></tr>\n",
       "\t<tr><td>Arlene </td><td>1010</td><td>1999-06-11</td></tr>\n",
       "\t<tr><td>Arthur </td><td>1010</td><td>1996-06-17</td></tr>\n",
       "</tbody>\n",
       "</table>\n"
      ],
      "text/latex": [
       "A tibble: 6 × 3\n",
       "\\begin{tabular}{lll}\n",
       " storm & pressure & date\\\\\n",
       " <chr> & <int> & <date>\\\\\n",
       "\\hline\n",
       "\t Alberto & 1007 & 2000-08-03\\\\\n",
       "\t Alex    & 1009 & 1998-07-27\\\\\n",
       "\t Allison & 1005 & 1995-06-03\\\\\n",
       "\t Ana     & 1013 & 1997-06-30\\\\\n",
       "\t Arlene  & 1010 & 1999-06-11\\\\\n",
       "\t Arthur  & 1010 & 1996-06-17\\\\\n",
       "\\end{tabular}\n"
      ],
      "text/markdown": [
       "\n",
       "A tibble: 6 × 3\n",
       "\n",
       "| storm &lt;chr&gt; | pressure &lt;int&gt; | date &lt;date&gt; |\n",
       "|---|---|---|\n",
       "| Alberto | 1007 | 2000-08-03 |\n",
       "| Alex    | 1009 | 1998-07-27 |\n",
       "| Allison | 1005 | 1995-06-03 |\n",
       "| Ana     | 1013 | 1997-06-30 |\n",
       "| Arlene  | 1010 | 1999-06-11 |\n",
       "| Arthur  | 1010 | 1996-06-17 |\n",
       "\n"
      ],
      "text/plain": [
       "  storm   pressure date      \n",
       "1 Alberto 1007     2000-08-03\n",
       "2 Alex    1009     1998-07-27\n",
       "3 Allison 1005     1995-06-03\n",
       "4 Ana     1013     1997-06-30\n",
       "5 Arlene  1010     1999-06-11\n",
       "6 Arthur  1010     1996-06-17"
      ]
     },
     "metadata": {},
     "output_type": "display_data"
    }
   ],
   "source": [
    "select(storms, storm, pressure, date) # select columns"
   ]
  },
  {
   "cell_type": "code",
   "execution_count": 12,
   "id": "684155ba",
   "metadata": {},
   "outputs": [
    {
     "data": {
      "text/html": [
       "<table class=\"dataframe\">\n",
       "<caption>A tibble: 6 × 3</caption>\n",
       "<thead>\n",
       "\t<tr><th scope=col>storm</th><th scope=col>pressure</th><th scope=col>date</th></tr>\n",
       "\t<tr><th scope=col>&lt;chr&gt;</th><th scope=col>&lt;int&gt;</th><th scope=col>&lt;date&gt;</th></tr>\n",
       "</thead>\n",
       "<tbody>\n",
       "\t<tr><td>Alberto</td><td>1007</td><td>2000-08-03</td></tr>\n",
       "\t<tr><td>Alex   </td><td>1009</td><td>1998-07-27</td></tr>\n",
       "\t<tr><td>Allison</td><td>1005</td><td>1995-06-03</td></tr>\n",
       "\t<tr><td>Ana    </td><td>1013</td><td>1997-06-30</td></tr>\n",
       "\t<tr><td>Arlene </td><td>1010</td><td>1999-06-11</td></tr>\n",
       "\t<tr><td>Arthur </td><td>1010</td><td>1996-06-17</td></tr>\n",
       "</tbody>\n",
       "</table>\n"
      ],
      "text/latex": [
       "A tibble: 6 × 3\n",
       "\\begin{tabular}{lll}\n",
       " storm & pressure & date\\\\\n",
       " <chr> & <int> & <date>\\\\\n",
       "\\hline\n",
       "\t Alberto & 1007 & 2000-08-03\\\\\n",
       "\t Alex    & 1009 & 1998-07-27\\\\\n",
       "\t Allison & 1005 & 1995-06-03\\\\\n",
       "\t Ana     & 1013 & 1997-06-30\\\\\n",
       "\t Arlene  & 1010 & 1999-06-11\\\\\n",
       "\t Arthur  & 1010 & 1996-06-17\\\\\n",
       "\\end{tabular}\n"
      ],
      "text/markdown": [
       "\n",
       "A tibble: 6 × 3\n",
       "\n",
       "| storm &lt;chr&gt; | pressure &lt;int&gt; | date &lt;date&gt; |\n",
       "|---|---|---|\n",
       "| Alberto | 1007 | 2000-08-03 |\n",
       "| Alex    | 1009 | 1998-07-27 |\n",
       "| Allison | 1005 | 1995-06-03 |\n",
       "| Ana     | 1013 | 1997-06-30 |\n",
       "| Arlene  | 1010 | 1999-06-11 |\n",
       "| Arthur  | 1010 | 1996-06-17 |\n",
       "\n"
      ],
      "text/plain": [
       "  storm   pressure date      \n",
       "1 Alberto 1007     2000-08-03\n",
       "2 Alex    1009     1998-07-27\n",
       "3 Allison 1005     1995-06-03\n",
       "4 Ana     1013     1997-06-30\n",
       "5 Arlene  1010     1999-06-11\n",
       "6 Arthur  1010     1996-06-17"
      ]
     },
     "metadata": {},
     "output_type": "display_data"
    }
   ],
   "source": [
    "select(storms, -wind) # select all columns but wind"
   ]
  },
  {
   "cell_type": "code",
   "execution_count": 13,
   "id": "5010c2eb",
   "metadata": {},
   "outputs": [
    {
     "data": {
      "text/html": [
       "<table class=\"dataframe\">\n",
       "<caption>A tibble: 6 × 3</caption>\n",
       "<thead>\n",
       "\t<tr><th scope=col>storm</th><th scope=col>wind</th><th scope=col>pressure</th></tr>\n",
       "\t<tr><th scope=col>&lt;chr&gt;</th><th scope=col>&lt;int&gt;</th><th scope=col>&lt;int&gt;</th></tr>\n",
       "</thead>\n",
       "<tbody>\n",
       "\t<tr><td>Alberto</td><td>110</td><td>1007</td></tr>\n",
       "\t<tr><td>Alex   </td><td> 45</td><td>1009</td></tr>\n",
       "\t<tr><td>Allison</td><td> 65</td><td>1005</td></tr>\n",
       "\t<tr><td>Ana    </td><td> 40</td><td>1013</td></tr>\n",
       "\t<tr><td>Arlene </td><td> 50</td><td>1010</td></tr>\n",
       "\t<tr><td>Arthur </td><td> 45</td><td>1010</td></tr>\n",
       "</tbody>\n",
       "</table>\n"
      ],
      "text/latex": [
       "A tibble: 6 × 3\n",
       "\\begin{tabular}{lll}\n",
       " storm & wind & pressure\\\\\n",
       " <chr> & <int> & <int>\\\\\n",
       "\\hline\n",
       "\t Alberto & 110 & 1007\\\\\n",
       "\t Alex    &  45 & 1009\\\\\n",
       "\t Allison &  65 & 1005\\\\\n",
       "\t Ana     &  40 & 1013\\\\\n",
       "\t Arlene  &  50 & 1010\\\\\n",
       "\t Arthur  &  45 & 1010\\\\\n",
       "\\end{tabular}\n"
      ],
      "text/markdown": [
       "\n",
       "A tibble: 6 × 3\n",
       "\n",
       "| storm &lt;chr&gt; | wind &lt;int&gt; | pressure &lt;int&gt; |\n",
       "|---|---|---|\n",
       "| Alberto | 110 | 1007 |\n",
       "| Alex    |  45 | 1009 |\n",
       "| Allison |  65 | 1005 |\n",
       "| Ana     |  40 | 1013 |\n",
       "| Arlene  |  50 | 1010 |\n",
       "| Arthur  |  45 | 1010 |\n",
       "\n"
      ],
      "text/plain": [
       "  storm   wind pressure\n",
       "1 Alberto 110  1007    \n",
       "2 Alex     45  1009    \n",
       "3 Allison  65  1005    \n",
       "4 Ana      40  1013    \n",
       "5 Arlene   50  1010    \n",
       "6 Arthur   45  1010    "
      ]
     },
     "metadata": {},
     "output_type": "display_data"
    }
   ],
   "source": [
    "select(storms, 1:3) # select column 1, 2, 3"
   ]
  },
  {
   "cell_type": "code",
   "execution_count": 14,
   "id": "8f12ccdc",
   "metadata": {},
   "outputs": [
    {
     "data": {
      "text/html": [
       "<table class=\"dataframe\">\n",
       "<caption>A tibble: 6 × 3</caption>\n",
       "<thead>\n",
       "\t<tr><th scope=col>storm</th><th scope=col>wind</th><th scope=col>pressure</th></tr>\n",
       "\t<tr><th scope=col>&lt;chr&gt;</th><th scope=col>&lt;int&gt;</th><th scope=col>&lt;int&gt;</th></tr>\n",
       "</thead>\n",
       "<tbody>\n",
       "\t<tr><td>Alberto</td><td>110</td><td>1007</td></tr>\n",
       "\t<tr><td>Alex   </td><td> 45</td><td>1009</td></tr>\n",
       "\t<tr><td>Allison</td><td> 65</td><td>1005</td></tr>\n",
       "\t<tr><td>Ana    </td><td> 40</td><td>1013</td></tr>\n",
       "\t<tr><td>Arlene </td><td> 50</td><td>1010</td></tr>\n",
       "\t<tr><td>Arthur </td><td> 45</td><td>1010</td></tr>\n",
       "</tbody>\n",
       "</table>\n"
      ],
      "text/latex": [
       "A tibble: 6 × 3\n",
       "\\begin{tabular}{lll}\n",
       " storm & wind & pressure\\\\\n",
       " <chr> & <int> & <int>\\\\\n",
       "\\hline\n",
       "\t Alberto & 110 & 1007\\\\\n",
       "\t Alex    &  45 & 1009\\\\\n",
       "\t Allison &  65 & 1005\\\\\n",
       "\t Ana     &  40 & 1013\\\\\n",
       "\t Arlene  &  50 & 1010\\\\\n",
       "\t Arthur  &  45 & 1010\\\\\n",
       "\\end{tabular}\n"
      ],
      "text/markdown": [
       "\n",
       "A tibble: 6 × 3\n",
       "\n",
       "| storm &lt;chr&gt; | wind &lt;int&gt; | pressure &lt;int&gt; |\n",
       "|---|---|---|\n",
       "| Alberto | 110 | 1007 |\n",
       "| Alex    |  45 | 1009 |\n",
       "| Allison |  65 | 1005 |\n",
       "| Ana     |  40 | 1013 |\n",
       "| Arlene  |  50 | 1010 |\n",
       "| Arthur  |  45 | 1010 |\n",
       "\n"
      ],
      "text/plain": [
       "  storm   wind pressure\n",
       "1 Alberto 110  1007    \n",
       "2 Alex     45  1009    \n",
       "3 Allison  65  1005    \n",
       "4 Ana      40  1013    \n",
       "5 Arlene   50  1010    \n",
       "6 Arthur   45  1010    "
      ]
     },
     "metadata": {},
     "output_type": "display_data"
    }
   ],
   "source": [
    "select(storms, storm:pressure) # select column storm, pressure and all in between"
   ]
  },
  {
   "cell_type": "code",
   "execution_count": 15,
   "id": "4e2545c4",
   "metadata": {},
   "outputs": [
    {
     "data": {
      "text/html": [
       "<table class=\"dataframe\">\n",
       "<caption>A tibble: 6 × 2</caption>\n",
       "<thead>\n",
       "\t<tr><th scope=col>pressure</th><th scope=col>date</th></tr>\n",
       "\t<tr><th scope=col>&lt;int&gt;</th><th scope=col>&lt;date&gt;</th></tr>\n",
       "</thead>\n",
       "<tbody>\n",
       "\t<tr><td>1007</td><td>2000-08-03</td></tr>\n",
       "\t<tr><td>1009</td><td>1998-07-27</td></tr>\n",
       "\t<tr><td>1005</td><td>1995-06-03</td></tr>\n",
       "\t<tr><td>1013</td><td>1997-06-30</td></tr>\n",
       "\t<tr><td>1010</td><td>1999-06-11</td></tr>\n",
       "\t<tr><td>1010</td><td>1996-06-17</td></tr>\n",
       "</tbody>\n",
       "</table>\n"
      ],
      "text/latex": [
       "A tibble: 6 × 2\n",
       "\\begin{tabular}{ll}\n",
       " pressure & date\\\\\n",
       " <int> & <date>\\\\\n",
       "\\hline\n",
       "\t 1007 & 2000-08-03\\\\\n",
       "\t 1009 & 1998-07-27\\\\\n",
       "\t 1005 & 1995-06-03\\\\\n",
       "\t 1013 & 1997-06-30\\\\\n",
       "\t 1010 & 1999-06-11\\\\\n",
       "\t 1010 & 1996-06-17\\\\\n",
       "\\end{tabular}\n"
      ],
      "text/markdown": [
       "\n",
       "A tibble: 6 × 2\n",
       "\n",
       "| pressure &lt;int&gt; | date &lt;date&gt; |\n",
       "|---|---|\n",
       "| 1007 | 2000-08-03 |\n",
       "| 1009 | 1998-07-27 |\n",
       "| 1005 | 1995-06-03 |\n",
       "| 1013 | 1997-06-30 |\n",
       "| 1010 | 1999-06-11 |\n",
       "| 1010 | 1996-06-17 |\n",
       "\n"
      ],
      "text/plain": [
       "  pressure date      \n",
       "1 1007     2000-08-03\n",
       "2 1009     1998-07-27\n",
       "3 1005     1995-06-03\n",
       "4 1013     1997-06-30\n",
       "5 1010     1999-06-11\n",
       "6 1010     1996-06-17"
      ]
     },
     "metadata": {},
     "output_type": "display_data"
    }
   ],
   "source": [
    "select(storms, ends_with('e')) # select column whose name end with e"
   ]
  },
  {
   "cell_type": "markdown",
   "id": "1a3c3af4",
   "metadata": {},
   "source": [
    "### Subsetting rows"
   ]
  },
  {
   "cell_type": "code",
   "execution_count": 16,
   "id": "45082412",
   "metadata": {},
   "outputs": [
    {
     "data": {
      "text/html": [
       "<table class=\"dataframe\">\n",
       "<caption>A tibble: 3 × 4</caption>\n",
       "<thead>\n",
       "\t<tr><th scope=col>storm</th><th scope=col>wind</th><th scope=col>pressure</th><th scope=col>date</th></tr>\n",
       "\t<tr><th scope=col>&lt;chr&gt;</th><th scope=col>&lt;int&gt;</th><th scope=col>&lt;int&gt;</th><th scope=col>&lt;date&gt;</th></tr>\n",
       "</thead>\n",
       "<tbody>\n",
       "\t<tr><td>Alberto</td><td>110</td><td>1007</td><td>2000-08-03</td></tr>\n",
       "\t<tr><td>Allison</td><td> 65</td><td>1005</td><td>1995-06-03</td></tr>\n",
       "\t<tr><td>Arlene </td><td> 50</td><td>1010</td><td>1999-06-11</td></tr>\n",
       "</tbody>\n",
       "</table>\n"
      ],
      "text/latex": [
       "A tibble: 3 × 4\n",
       "\\begin{tabular}{llll}\n",
       " storm & wind & pressure & date\\\\\n",
       " <chr> & <int> & <int> & <date>\\\\\n",
       "\\hline\n",
       "\t Alberto & 110 & 1007 & 2000-08-03\\\\\n",
       "\t Allison &  65 & 1005 & 1995-06-03\\\\\n",
       "\t Arlene  &  50 & 1010 & 1999-06-11\\\\\n",
       "\\end{tabular}\n"
      ],
      "text/markdown": [
       "\n",
       "A tibble: 3 × 4\n",
       "\n",
       "| storm &lt;chr&gt; | wind &lt;int&gt; | pressure &lt;int&gt; | date &lt;date&gt; |\n",
       "|---|---|---|---|\n",
       "| Alberto | 110 | 1007 | 2000-08-03 |\n",
       "| Allison |  65 | 1005 | 1995-06-03 |\n",
       "| Arlene  |  50 | 1010 | 1999-06-11 |\n",
       "\n"
      ],
      "text/plain": [
       "  storm   wind pressure date      \n",
       "1 Alberto 110  1007     2000-08-03\n",
       "2 Allison  65  1005     1995-06-03\n",
       "3 Arlene   50  1010     1999-06-11"
      ]
     },
     "metadata": {},
     "output_type": "display_data"
    }
   ],
   "source": [
    "filter(storms, wind >= 50)"
   ]
  },
  {
   "cell_type": "code",
   "execution_count": 17,
   "id": "fe467877",
   "metadata": {},
   "outputs": [
    {
     "data": {
      "text/html": [
       "<table class=\"dataframe\">\n",
       "<caption>A tibble: 2 × 4</caption>\n",
       "<thead>\n",
       "\t<tr><th scope=col>storm</th><th scope=col>wind</th><th scope=col>pressure</th><th scope=col>date</th></tr>\n",
       "\t<tr><th scope=col>&lt;chr&gt;</th><th scope=col>&lt;int&gt;</th><th scope=col>&lt;int&gt;</th><th scope=col>&lt;date&gt;</th></tr>\n",
       "</thead>\n",
       "<tbody>\n",
       "\t<tr><td>Allison</td><td>65</td><td>1005</td><td>1995-06-03</td></tr>\n",
       "\t<tr><td>Arlene </td><td>50</td><td>1010</td><td>1999-06-11</td></tr>\n",
       "</tbody>\n",
       "</table>\n"
      ],
      "text/latex": [
       "A tibble: 2 × 4\n",
       "\\begin{tabular}{llll}\n",
       " storm & wind & pressure & date\\\\\n",
       " <chr> & <int> & <int> & <date>\\\\\n",
       "\\hline\n",
       "\t Allison & 65 & 1005 & 1995-06-03\\\\\n",
       "\t Arlene  & 50 & 1010 & 1999-06-11\\\\\n",
       "\\end{tabular}\n"
      ],
      "text/markdown": [
       "\n",
       "A tibble: 2 × 4\n",
       "\n",
       "| storm &lt;chr&gt; | wind &lt;int&gt; | pressure &lt;int&gt; | date &lt;date&gt; |\n",
       "|---|---|---|---|\n",
       "| Allison | 65 | 1005 | 1995-06-03 |\n",
       "| Arlene  | 50 | 1010 | 1999-06-11 |\n",
       "\n"
      ],
      "text/plain": [
       "  storm   wind pressure date      \n",
       "1 Allison 65   1005     1995-06-03\n",
       "2 Arlene  50   1010     1999-06-11"
      ]
     },
     "metadata": {},
     "output_type": "display_data"
    }
   ],
   "source": [
    "filter(storms, wind >= 50, storm %in% c('Arlene', 'Allison')) # multiple conditions joined by and"
   ]
  },
  {
   "cell_type": "code",
   "execution_count": 18,
   "id": "4f236e0e",
   "metadata": {},
   "outputs": [
    {
     "data": {
      "text/html": [
       "<table class=\"dataframe\">\n",
       "<caption>A tibble: 5 × 4</caption>\n",
       "<thead>\n",
       "\t<tr><th scope=col>storm</th><th scope=col>wind</th><th scope=col>pressure</th><th scope=col>date</th></tr>\n",
       "\t<tr><th scope=col>&lt;chr&gt;</th><th scope=col>&lt;int&gt;</th><th scope=col>&lt;int&gt;</th><th scope=col>&lt;date&gt;</th></tr>\n",
       "</thead>\n",
       "<tbody>\n",
       "\t<tr><td>Alberto</td><td>110</td><td>1007</td><td>2000-08-03</td></tr>\n",
       "\t<tr><td>Allison</td><td> 65</td><td>1005</td><td>1995-06-03</td></tr>\n",
       "\t<tr><td>Ana    </td><td> 40</td><td>1013</td><td>1997-06-30</td></tr>\n",
       "\t<tr><td>Arlene </td><td> 50</td><td>1010</td><td>1999-06-11</td></tr>\n",
       "\t<tr><td>Arthur </td><td> 45</td><td>1010</td><td>1996-06-17</td></tr>\n",
       "</tbody>\n",
       "</table>\n"
      ],
      "text/latex": [
       "A tibble: 5 × 4\n",
       "\\begin{tabular}{llll}\n",
       " storm & wind & pressure & date\\\\\n",
       " <chr> & <int> & <int> & <date>\\\\\n",
       "\\hline\n",
       "\t Alberto & 110 & 1007 & 2000-08-03\\\\\n",
       "\t Allison &  65 & 1005 & 1995-06-03\\\\\n",
       "\t Ana     &  40 & 1013 & 1997-06-30\\\\\n",
       "\t Arlene  &  50 & 1010 & 1999-06-11\\\\\n",
       "\t Arthur  &  45 & 1010 & 1996-06-17\\\\\n",
       "\\end{tabular}\n"
      ],
      "text/markdown": [
       "\n",
       "A tibble: 5 × 4\n",
       "\n",
       "| storm &lt;chr&gt; | wind &lt;int&gt; | pressure &lt;int&gt; | date &lt;date&gt; |\n",
       "|---|---|---|---|\n",
       "| Alberto | 110 | 1007 | 2000-08-03 |\n",
       "| Allison |  65 | 1005 | 1995-06-03 |\n",
       "| Ana     |  40 | 1013 | 1997-06-30 |\n",
       "| Arlene  |  50 | 1010 | 1999-06-11 |\n",
       "| Arthur  |  45 | 1010 | 1996-06-17 |\n",
       "\n"
      ],
      "text/plain": [
       "  storm   wind pressure date      \n",
       "1 Alberto 110  1007     2000-08-03\n",
       "2 Allison  65  1005     1995-06-03\n",
       "3 Ana      40  1013     1997-06-30\n",
       "4 Arlene   50  1010     1999-06-11\n",
       "5 Arthur   45  1010     1996-06-17"
      ]
     },
     "metadata": {},
     "output_type": "display_data"
    }
   ],
   "source": [
    "filter(storms, wind >= 50 | storm %in% c('Ana', 'Arthur')) # filter by wind or storm name"
   ]
  },
  {
   "cell_type": "markdown",
   "id": "38c76d62",
   "metadata": {},
   "source": [
    "### Make new variables"
   ]
  },
  {
   "cell_type": "code",
   "execution_count": 19,
   "id": "c34dde06",
   "metadata": {},
   "outputs": [
    {
     "data": {
      "text/html": [
       "<table class=\"dataframe\">\n",
       "<caption>A tibble: 6 × 6</caption>\n",
       "<thead>\n",
       "\t<tr><th scope=col>storm</th><th scope=col>wind</th><th scope=col>pressure</th><th scope=col>date</th><th scope=col>ratio</th><th scope=col>inverse</th></tr>\n",
       "\t<tr><th scope=col>&lt;chr&gt;</th><th scope=col>&lt;int&gt;</th><th scope=col>&lt;int&gt;</th><th scope=col>&lt;date&gt;</th><th scope=col>&lt;dbl&gt;</th><th scope=col>&lt;dbl&gt;</th></tr>\n",
       "</thead>\n",
       "<tbody>\n",
       "\t<tr><td>Alberto</td><td>110</td><td>1007</td><td>2000-08-03</td><td> 9.154545</td><td>0.10923535</td></tr>\n",
       "\t<tr><td>Alex   </td><td> 45</td><td>1009</td><td>1998-07-27</td><td>22.422222</td><td>0.04459861</td></tr>\n",
       "\t<tr><td>Allison</td><td> 65</td><td>1005</td><td>1995-06-03</td><td>15.461538</td><td>0.06467662</td></tr>\n",
       "\t<tr><td>Ana    </td><td> 40</td><td>1013</td><td>1997-06-30</td><td>25.325000</td><td>0.03948667</td></tr>\n",
       "\t<tr><td>Arlene </td><td> 50</td><td>1010</td><td>1999-06-11</td><td>20.200000</td><td>0.04950495</td></tr>\n",
       "\t<tr><td>Arthur </td><td> 45</td><td>1010</td><td>1996-06-17</td><td>22.444444</td><td>0.04455446</td></tr>\n",
       "</tbody>\n",
       "</table>\n"
      ],
      "text/latex": [
       "A tibble: 6 × 6\n",
       "\\begin{tabular}{llllll}\n",
       " storm & wind & pressure & date & ratio & inverse\\\\\n",
       " <chr> & <int> & <int> & <date> & <dbl> & <dbl>\\\\\n",
       "\\hline\n",
       "\t Alberto & 110 & 1007 & 2000-08-03 &  9.154545 & 0.10923535\\\\\n",
       "\t Alex    &  45 & 1009 & 1998-07-27 & 22.422222 & 0.04459861\\\\\n",
       "\t Allison &  65 & 1005 & 1995-06-03 & 15.461538 & 0.06467662\\\\\n",
       "\t Ana     &  40 & 1013 & 1997-06-30 & 25.325000 & 0.03948667\\\\\n",
       "\t Arlene  &  50 & 1010 & 1999-06-11 & 20.200000 & 0.04950495\\\\\n",
       "\t Arthur  &  45 & 1010 & 1996-06-17 & 22.444444 & 0.04455446\\\\\n",
       "\\end{tabular}\n"
      ],
      "text/markdown": [
       "\n",
       "A tibble: 6 × 6\n",
       "\n",
       "| storm &lt;chr&gt; | wind &lt;int&gt; | pressure &lt;int&gt; | date &lt;date&gt; | ratio &lt;dbl&gt; | inverse &lt;dbl&gt; |\n",
       "|---|---|---|---|---|---|\n",
       "| Alberto | 110 | 1007 | 2000-08-03 |  9.154545 | 0.10923535 |\n",
       "| Alex    |  45 | 1009 | 1998-07-27 | 22.422222 | 0.04459861 |\n",
       "| Allison |  65 | 1005 | 1995-06-03 | 15.461538 | 0.06467662 |\n",
       "| Ana     |  40 | 1013 | 1997-06-30 | 25.325000 | 0.03948667 |\n",
       "| Arlene  |  50 | 1010 | 1999-06-11 | 20.200000 | 0.04950495 |\n",
       "| Arthur  |  45 | 1010 | 1996-06-17 | 22.444444 | 0.04455446 |\n",
       "\n"
      ],
      "text/plain": [
       "  storm   wind pressure date       ratio     inverse   \n",
       "1 Alberto 110  1007     2000-08-03  9.154545 0.10923535\n",
       "2 Alex     45  1009     1998-07-27 22.422222 0.04459861\n",
       "3 Allison  65  1005     1995-06-03 15.461538 0.06467662\n",
       "4 Ana      40  1013     1997-06-30 25.325000 0.03948667\n",
       "5 Arlene   50  1010     1999-06-11 20.200000 0.04950495\n",
       "6 Arthur   45  1010     1996-06-17 22.444444 0.04455446"
      ]
     },
     "metadata": {},
     "output_type": "display_data"
    }
   ],
   "source": [
    "mutate(storms, ratio=pressure / wind, inverse=ratio ^ -1)"
   ]
  },
  {
   "cell_type": "code",
   "execution_count": 20,
   "id": "be8136f6",
   "metadata": {},
   "outputs": [
    {
     "data": {
      "text/html": [
       "<table class=\"dataframe\">\n",
       "<caption>A tibble: 6 × 6</caption>\n",
       "<thead>\n",
       "\t<tr><th scope=col>storm</th><th scope=col>wind</th><th scope=col>pressure</th><th scope=col>date</th><th scope=col>cum_min</th><th scope=col>p_max</th></tr>\n",
       "\t<tr><th scope=col>&lt;chr&gt;</th><th scope=col>&lt;int&gt;</th><th scope=col>&lt;int&gt;</th><th scope=col>&lt;date&gt;</th><th scope=col>&lt;int&gt;</th><th scope=col>&lt;int&gt;</th></tr>\n",
       "</thead>\n",
       "<tbody>\n",
       "\t<tr><td>Alberto</td><td>110</td><td>1007</td><td>2000-08-03</td><td>1007</td><td>1007</td></tr>\n",
       "\t<tr><td>Alex   </td><td> 45</td><td>1009</td><td>1998-07-27</td><td>1007</td><td>1009</td></tr>\n",
       "\t<tr><td>Allison</td><td> 65</td><td>1005</td><td>1995-06-03</td><td>1005</td><td>1005</td></tr>\n",
       "\t<tr><td>Ana    </td><td> 40</td><td>1013</td><td>1997-06-30</td><td>1005</td><td>1013</td></tr>\n",
       "\t<tr><td>Arlene </td><td> 50</td><td>1010</td><td>1999-06-11</td><td>1005</td><td>1010</td></tr>\n",
       "\t<tr><td>Arthur </td><td> 45</td><td>1010</td><td>1996-06-17</td><td>1005</td><td>1010</td></tr>\n",
       "</tbody>\n",
       "</table>\n"
      ],
      "text/latex": [
       "A tibble: 6 × 6\n",
       "\\begin{tabular}{llllll}\n",
       " storm & wind & pressure & date & cum\\_min & p\\_max\\\\\n",
       " <chr> & <int> & <int> & <date> & <int> & <int>\\\\\n",
       "\\hline\n",
       "\t Alberto & 110 & 1007 & 2000-08-03 & 1007 & 1007\\\\\n",
       "\t Alex    &  45 & 1009 & 1998-07-27 & 1007 & 1009\\\\\n",
       "\t Allison &  65 & 1005 & 1995-06-03 & 1005 & 1005\\\\\n",
       "\t Ana     &  40 & 1013 & 1997-06-30 & 1005 & 1013\\\\\n",
       "\t Arlene  &  50 & 1010 & 1999-06-11 & 1005 & 1010\\\\\n",
       "\t Arthur  &  45 & 1010 & 1996-06-17 & 1005 & 1010\\\\\n",
       "\\end{tabular}\n"
      ],
      "text/markdown": [
       "\n",
       "A tibble: 6 × 6\n",
       "\n",
       "| storm &lt;chr&gt; | wind &lt;int&gt; | pressure &lt;int&gt; | date &lt;date&gt; | cum_min &lt;int&gt; | p_max &lt;int&gt; |\n",
       "|---|---|---|---|---|---|\n",
       "| Alberto | 110 | 1007 | 2000-08-03 | 1007 | 1007 |\n",
       "| Alex    |  45 | 1009 | 1998-07-27 | 1007 | 1009 |\n",
       "| Allison |  65 | 1005 | 1995-06-03 | 1005 | 1005 |\n",
       "| Ana     |  40 | 1013 | 1997-06-30 | 1005 | 1013 |\n",
       "| Arlene  |  50 | 1010 | 1999-06-11 | 1005 | 1010 |\n",
       "| Arthur  |  45 | 1010 | 1996-06-17 | 1005 | 1010 |\n",
       "\n"
      ],
      "text/plain": [
       "  storm   wind pressure date       cum_min p_max\n",
       "1 Alberto 110  1007     2000-08-03 1007    1007 \n",
       "2 Alex     45  1009     1998-07-27 1007    1009 \n",
       "3 Allison  65  1005     1995-06-03 1005    1005 \n",
       "4 Ana      40  1013     1997-06-30 1005    1013 \n",
       "5 Arlene   50  1010     1999-06-11 1005    1010 \n",
       "6 Arthur   45  1010     1996-06-17 1005    1010 "
      ]
     },
     "metadata": {},
     "output_type": "display_data"
    }
   ],
   "source": [
    "# find cumulative minimum of pressure and element-wise maximum between pressure and the cummulative minimum\n",
    "mutate(storms, cum_min=cummin(pressure), p_max=pmax(pressure, cum_min))"
   ]
  },
  {
   "cell_type": "code",
   "execution_count": 21,
   "id": "a449195f",
   "metadata": {},
   "outputs": [
    {
     "data": {
      "text/html": [
       "<table class=\"dataframe\">\n",
       "<caption>A tibble: 6 × 5</caption>\n",
       "<thead>\n",
       "\t<tr><th scope=col>storm</th><th scope=col>wind</th><th scope=col>pressure</th><th scope=col>date</th><th scope=col>tile</th></tr>\n",
       "\t<tr><th scope=col>&lt;chr&gt;</th><th scope=col>&lt;int&gt;</th><th scope=col>&lt;int&gt;</th><th scope=col>&lt;date&gt;</th><th scope=col>&lt;int&gt;</th></tr>\n",
       "</thead>\n",
       "<tbody>\n",
       "\t<tr><td>Alberto</td><td>110</td><td>1007</td><td>2000-08-03</td><td>1</td></tr>\n",
       "\t<tr><td>Alex   </td><td> 45</td><td>1009</td><td>1998-07-27</td><td>2</td></tr>\n",
       "\t<tr><td>Allison</td><td> 65</td><td>1005</td><td>1995-06-03</td><td>1</td></tr>\n",
       "\t<tr><td>Ana    </td><td> 40</td><td>1013</td><td>1997-06-30</td><td>4</td></tr>\n",
       "\t<tr><td>Arlene </td><td> 50</td><td>1010</td><td>1999-06-11</td><td>2</td></tr>\n",
       "\t<tr><td>Arthur </td><td> 45</td><td>1010</td><td>1996-06-17</td><td>3</td></tr>\n",
       "</tbody>\n",
       "</table>\n"
      ],
      "text/latex": [
       "A tibble: 6 × 5\n",
       "\\begin{tabular}{lllll}\n",
       " storm & wind & pressure & date & tile\\\\\n",
       " <chr> & <int> & <int> & <date> & <int>\\\\\n",
       "\\hline\n",
       "\t Alberto & 110 & 1007 & 2000-08-03 & 1\\\\\n",
       "\t Alex    &  45 & 1009 & 1998-07-27 & 2\\\\\n",
       "\t Allison &  65 & 1005 & 1995-06-03 & 1\\\\\n",
       "\t Ana     &  40 & 1013 & 1997-06-30 & 4\\\\\n",
       "\t Arlene  &  50 & 1010 & 1999-06-11 & 2\\\\\n",
       "\t Arthur  &  45 & 1010 & 1996-06-17 & 3\\\\\n",
       "\\end{tabular}\n"
      ],
      "text/markdown": [
       "\n",
       "A tibble: 6 × 5\n",
       "\n",
       "| storm &lt;chr&gt; | wind &lt;int&gt; | pressure &lt;int&gt; | date &lt;date&gt; | tile &lt;int&gt; |\n",
       "|---|---|---|---|---|\n",
       "| Alberto | 110 | 1007 | 2000-08-03 | 1 |\n",
       "| Alex    |  45 | 1009 | 1998-07-27 | 2 |\n",
       "| Allison |  65 | 1005 | 1995-06-03 | 1 |\n",
       "| Ana     |  40 | 1013 | 1997-06-30 | 4 |\n",
       "| Arlene  |  50 | 1010 | 1999-06-11 | 2 |\n",
       "| Arthur  |  45 | 1010 | 1996-06-17 | 3 |\n",
       "\n"
      ],
      "text/plain": [
       "  storm   wind pressure date       tile\n",
       "1 Alberto 110  1007     2000-08-03 1   \n",
       "2 Alex     45  1009     1998-07-27 2   \n",
       "3 Allison  65  1005     1995-06-03 1   \n",
       "4 Ana      40  1013     1997-06-30 4   \n",
       "5 Arlene   50  1010     1999-06-11 2   \n",
       "6 Arthur   45  1010     1996-06-17 3   "
      ]
     },
     "metadata": {},
     "output_type": "display_data"
    }
   ],
   "source": [
    "mutate(storms, tile=ntile(pressure, n=4)) # group presssure into near equally sized 4 groups"
   ]
  },
  {
   "cell_type": "code",
   "execution_count": 22,
   "id": "8d6bd163",
   "metadata": {},
   "outputs": [
    {
     "data": {
      "text/html": [
       "<table class=\"dataframe\">\n",
       "<caption>A tibble: 6 × 5</caption>\n",
       "<thead>\n",
       "\t<tr><th scope=col>storm</th><th scope=col>wind</th><th scope=col>pressure</th><th scope=col>date</th><th scope=col>lag_p</th></tr>\n",
       "\t<tr><th scope=col>&lt;chr&gt;</th><th scope=col>&lt;int&gt;</th><th scope=col>&lt;int&gt;</th><th scope=col>&lt;date&gt;</th><th scope=col>&lt;int&gt;</th></tr>\n",
       "</thead>\n",
       "<tbody>\n",
       "\t<tr><td>Alberto</td><td>110</td><td>1007</td><td>2000-08-03</td><td>  NA</td></tr>\n",
       "\t<tr><td>Alex   </td><td> 45</td><td>1009</td><td>1998-07-27</td><td>1007</td></tr>\n",
       "\t<tr><td>Allison</td><td> 65</td><td>1005</td><td>1995-06-03</td><td>1009</td></tr>\n",
       "\t<tr><td>Ana    </td><td> 40</td><td>1013</td><td>1997-06-30</td><td>1005</td></tr>\n",
       "\t<tr><td>Arlene </td><td> 50</td><td>1010</td><td>1999-06-11</td><td>1013</td></tr>\n",
       "\t<tr><td>Arthur </td><td> 45</td><td>1010</td><td>1996-06-17</td><td>1010</td></tr>\n",
       "</tbody>\n",
       "</table>\n"
      ],
      "text/latex": [
       "A tibble: 6 × 5\n",
       "\\begin{tabular}{lllll}\n",
       " storm & wind & pressure & date & lag\\_p\\\\\n",
       " <chr> & <int> & <int> & <date> & <int>\\\\\n",
       "\\hline\n",
       "\t Alberto & 110 & 1007 & 2000-08-03 &   NA\\\\\n",
       "\t Alex    &  45 & 1009 & 1998-07-27 & 1007\\\\\n",
       "\t Allison &  65 & 1005 & 1995-06-03 & 1009\\\\\n",
       "\t Ana     &  40 & 1013 & 1997-06-30 & 1005\\\\\n",
       "\t Arlene  &  50 & 1010 & 1999-06-11 & 1013\\\\\n",
       "\t Arthur  &  45 & 1010 & 1996-06-17 & 1010\\\\\n",
       "\\end{tabular}\n"
      ],
      "text/markdown": [
       "\n",
       "A tibble: 6 × 5\n",
       "\n",
       "| storm &lt;chr&gt; | wind &lt;int&gt; | pressure &lt;int&gt; | date &lt;date&gt; | lag_p &lt;int&gt; |\n",
       "|---|---|---|---|---|\n",
       "| Alberto | 110 | 1007 | 2000-08-03 |   NA |\n",
       "| Alex    |  45 | 1009 | 1998-07-27 | 1007 |\n",
       "| Allison |  65 | 1005 | 1995-06-03 | 1009 |\n",
       "| Ana     |  40 | 1013 | 1997-06-30 | 1005 |\n",
       "| Arlene  |  50 | 1010 | 1999-06-11 | 1013 |\n",
       "| Arthur  |  45 | 1010 | 1996-06-17 | 1010 |\n",
       "\n"
      ],
      "text/plain": [
       "  storm   wind pressure date       lag_p\n",
       "1 Alberto 110  1007     2000-08-03   NA \n",
       "2 Alex     45  1009     1998-07-27 1007 \n",
       "3 Allison  65  1005     1995-06-03 1009 \n",
       "4 Ana      40  1013     1997-06-30 1005 \n",
       "5 Arlene   50  1010     1999-06-11 1013 \n",
       "6 Arthur   45  1010     1996-06-17 1010 "
      ]
     },
     "metadata": {},
     "output_type": "display_data"
    }
   ],
   "source": [
    "mutate(storms, lag_p=lag(pressure)) # create new pressure column shifted down one row"
   ]
  },
  {
   "cell_type": "code",
   "execution_count": 23,
   "id": "ea53eb3c",
   "metadata": {},
   "outputs": [
    {
     "data": {
      "text/html": [
       "<table class=\"dataframe\">\n",
       "<caption>A tibble: 6 × 5</caption>\n",
       "<thead>\n",
       "\t<tr><th scope=col>storm</th><th scope=col>wind</th><th scope=col>pressure</th><th scope=col>date</th><th scope=col>is_between</th></tr>\n",
       "\t<tr><th scope=col>&lt;chr&gt;</th><th scope=col>&lt;int&gt;</th><th scope=col>&lt;int&gt;</th><th scope=col>&lt;date&gt;</th><th scope=col>&lt;lgl&gt;</th></tr>\n",
       "</thead>\n",
       "<tbody>\n",
       "\t<tr><td>Alberto</td><td>110</td><td>1007</td><td>2000-08-03</td><td> TRUE</td></tr>\n",
       "\t<tr><td>Alex   </td><td> 45</td><td>1009</td><td>1998-07-27</td><td> TRUE</td></tr>\n",
       "\t<tr><td>Allison</td><td> 65</td><td>1005</td><td>1995-06-03</td><td> TRUE</td></tr>\n",
       "\t<tr><td>Ana    </td><td> 40</td><td>1013</td><td>1997-06-30</td><td>FALSE</td></tr>\n",
       "\t<tr><td>Arlene </td><td> 50</td><td>1010</td><td>1999-06-11</td><td> TRUE</td></tr>\n",
       "\t<tr><td>Arthur </td><td> 45</td><td>1010</td><td>1996-06-17</td><td> TRUE</td></tr>\n",
       "</tbody>\n",
       "</table>\n"
      ],
      "text/latex": [
       "A tibble: 6 × 5\n",
       "\\begin{tabular}{lllll}\n",
       " storm & wind & pressure & date & is\\_between\\\\\n",
       " <chr> & <int> & <int> & <date> & <lgl>\\\\\n",
       "\\hline\n",
       "\t Alberto & 110 & 1007 & 2000-08-03 &  TRUE\\\\\n",
       "\t Alex    &  45 & 1009 & 1998-07-27 &  TRUE\\\\\n",
       "\t Allison &  65 & 1005 & 1995-06-03 &  TRUE\\\\\n",
       "\t Ana     &  40 & 1013 & 1997-06-30 & FALSE\\\\\n",
       "\t Arlene  &  50 & 1010 & 1999-06-11 &  TRUE\\\\\n",
       "\t Arthur  &  45 & 1010 & 1996-06-17 &  TRUE\\\\\n",
       "\\end{tabular}\n"
      ],
      "text/markdown": [
       "\n",
       "A tibble: 6 × 5\n",
       "\n",
       "| storm &lt;chr&gt; | wind &lt;int&gt; | pressure &lt;int&gt; | date &lt;date&gt; | is_between &lt;lgl&gt; |\n",
       "|---|---|---|---|---|\n",
       "| Alberto | 110 | 1007 | 2000-08-03 |  TRUE |\n",
       "| Alex    |  45 | 1009 | 1998-07-27 |  TRUE |\n",
       "| Allison |  65 | 1005 | 1995-06-03 |  TRUE |\n",
       "| Ana     |  40 | 1013 | 1997-06-30 | FALSE |\n",
       "| Arlene  |  50 | 1010 | 1999-06-11 |  TRUE |\n",
       "| Arthur  |  45 | 1010 | 1996-06-17 |  TRUE |\n",
       "\n"
      ],
      "text/plain": [
       "  storm   wind pressure date       is_between\n",
       "1 Alberto 110  1007     2000-08-03  TRUE     \n",
       "2 Alex     45  1009     1998-07-27  TRUE     \n",
       "3 Allison  65  1005     1995-06-03  TRUE     \n",
       "4 Ana      40  1013     1997-06-30 FALSE     \n",
       "5 Arlene   50  1010     1999-06-11  TRUE     \n",
       "6 Arthur   45  1010     1996-06-17  TRUE     "
      ]
     },
     "metadata": {},
     "output_type": "display_data"
    }
   ],
   "source": [
    "# create new flag column giving TRUE for pressure between 1000 and 1010\n",
    "mutate(storms, is_between=between(pressure, 1000, 1010))"
   ]
  },
  {
   "cell_type": "code",
   "execution_count": 24,
   "id": "2679a2c4",
   "metadata": {},
   "outputs": [
    {
     "data": {
      "text/html": [
       "<table class=\"dataframe\">\n",
       "<caption>A tibble: 6 × 5</caption>\n",
       "<thead>\n",
       "\t<tr><th scope=col>storm</th><th scope=col>wind</th><th scope=col>pressure</th><th scope=col>date</th><th scope=col>cum_d</th></tr>\n",
       "\t<tr><th scope=col>&lt;chr&gt;</th><th scope=col>&lt;int&gt;</th><th scope=col>&lt;int&gt;</th><th scope=col>&lt;date&gt;</th><th scope=col>&lt;dbl&gt;</th></tr>\n",
       "</thead>\n",
       "<tbody>\n",
       "\t<tr><td>Alberto</td><td>110</td><td>1007</td><td>2000-08-03</td><td>0.3333333</td></tr>\n",
       "\t<tr><td>Alex   </td><td> 45</td><td>1009</td><td>1998-07-27</td><td>0.5000000</td></tr>\n",
       "\t<tr><td>Allison</td><td> 65</td><td>1005</td><td>1995-06-03</td><td>0.1666667</td></tr>\n",
       "\t<tr><td>Ana    </td><td> 40</td><td>1013</td><td>1997-06-30</td><td>1.0000000</td></tr>\n",
       "\t<tr><td>Arlene </td><td> 50</td><td>1010</td><td>1999-06-11</td><td>0.8333333</td></tr>\n",
       "\t<tr><td>Arthur </td><td> 45</td><td>1010</td><td>1996-06-17</td><td>0.8333333</td></tr>\n",
       "</tbody>\n",
       "</table>\n"
      ],
      "text/latex": [
       "A tibble: 6 × 5\n",
       "\\begin{tabular}{lllll}\n",
       " storm & wind & pressure & date & cum\\_d\\\\\n",
       " <chr> & <int> & <int> & <date> & <dbl>\\\\\n",
       "\\hline\n",
       "\t Alberto & 110 & 1007 & 2000-08-03 & 0.3333333\\\\\n",
       "\t Alex    &  45 & 1009 & 1998-07-27 & 0.5000000\\\\\n",
       "\t Allison &  65 & 1005 & 1995-06-03 & 0.1666667\\\\\n",
       "\t Ana     &  40 & 1013 & 1997-06-30 & 1.0000000\\\\\n",
       "\t Arlene  &  50 & 1010 & 1999-06-11 & 0.8333333\\\\\n",
       "\t Arthur  &  45 & 1010 & 1996-06-17 & 0.8333333\\\\\n",
       "\\end{tabular}\n"
      ],
      "text/markdown": [
       "\n",
       "A tibble: 6 × 5\n",
       "\n",
       "| storm &lt;chr&gt; | wind &lt;int&gt; | pressure &lt;int&gt; | date &lt;date&gt; | cum_d &lt;dbl&gt; |\n",
       "|---|---|---|---|---|\n",
       "| Alberto | 110 | 1007 | 2000-08-03 | 0.3333333 |\n",
       "| Alex    |  45 | 1009 | 1998-07-27 | 0.5000000 |\n",
       "| Allison |  65 | 1005 | 1995-06-03 | 0.1666667 |\n",
       "| Ana     |  40 | 1013 | 1997-06-30 | 1.0000000 |\n",
       "| Arlene  |  50 | 1010 | 1999-06-11 | 0.8333333 |\n",
       "| Arthur  |  45 | 1010 | 1996-06-17 | 0.8333333 |\n",
       "\n"
      ],
      "text/plain": [
       "  storm   wind pressure date       cum_d    \n",
       "1 Alberto 110  1007     2000-08-03 0.3333333\n",
       "2 Alex     45  1009     1998-07-27 0.5000000\n",
       "3 Allison  65  1005     1995-06-03 0.1666667\n",
       "4 Ana      40  1013     1997-06-30 1.0000000\n",
       "5 Arlene   50  1010     1999-06-11 0.8333333\n",
       "6 Arthur   45  1010     1996-06-17 0.8333333"
      ]
     },
     "metadata": {},
     "output_type": "display_data"
    }
   ],
   "source": [
    "# create new column denoting proportion of rows with pressure value not exceeding current row pressure\n",
    "mutate(storms, cum_d=cume_dist(pressure))"
   ]
  },
  {
   "cell_type": "markdown",
   "id": "f84bd977",
   "metadata": {},
   "source": [
    "### Summarise data"
   ]
  },
  {
   "cell_type": "code",
   "execution_count": 25,
   "id": "3b5d4f85",
   "metadata": {},
   "outputs": [
    {
     "data": {
      "text/html": [
       "<table class=\"dataframe\">\n",
       "<caption>A data.frame: 1 × 3</caption>\n",
       "<thead>\n",
       "\t<tr><th scope=col>mean</th><th scope=col>variance</th><th scope=col>n</th></tr>\n",
       "\t<tr><th scope=col>&lt;dbl&gt;</th><th scope=col>&lt;dbl&gt;</th><th scope=col>&lt;int&gt;</th></tr>\n",
       "</thead>\n",
       "<tbody>\n",
       "\t<tr><td>8988.889</td><td>14561111</td><td>9</td></tr>\n",
       "</tbody>\n",
       "</table>\n"
      ],
      "text/latex": [
       "A data.frame: 1 × 3\n",
       "\\begin{tabular}{lll}\n",
       " mean & variance & n\\\\\n",
       " <dbl> & <dbl> & <int>\\\\\n",
       "\\hline\n",
       "\t 8988.889 & 14561111 & 9\\\\\n",
       "\\end{tabular}\n"
      ],
      "text/markdown": [
       "\n",
       "A data.frame: 1 × 3\n",
       "\n",
       "| mean &lt;dbl&gt; | variance &lt;dbl&gt; | n &lt;int&gt; |\n",
       "|---|---|---|\n",
       "| 8988.889 | 14561111 | 9 |\n",
       "\n"
      ],
      "text/plain": [
       "  mean     variance n\n",
       "1 8988.889 14561111 9"
      ]
     },
     "metadata": {},
     "output_type": "display_data"
    }
   ],
   "source": [
    "# compute mean, variace, no. of observation of all time cases \n",
    "cases %>% gather('year', 'n', 2:4) %>% summarise(mean=mean(n), variance=var(n), n=n())"
   ]
  },
  {
   "cell_type": "markdown",
   "id": "8a424168",
   "metadata": {},
   "source": [
    "### Sort data"
   ]
  },
  {
   "cell_type": "code",
   "execution_count": 26,
   "id": "b986cb30",
   "metadata": {},
   "outputs": [
    {
     "data": {
      "text/html": [
       "<table class=\"dataframe\">\n",
       "<caption>A data.frame: 6 × 3</caption>\n",
       "<thead>\n",
       "\t<tr><th scope=col>city</th><th scope=col>size</th><th scope=col>amount</th></tr>\n",
       "\t<tr><th scope=col>&lt;chr&gt;</th><th scope=col>&lt;chr&gt;</th><th scope=col>&lt;dbl&gt;</th></tr>\n",
       "</thead>\n",
       "<tbody>\n",
       "\t<tr><td>Beijing </td><td>large</td><td>121</td></tr>\n",
       "\t<tr><td>Beijing </td><td>small</td><td> 56</td></tr>\n",
       "\t<tr><td>New York</td><td>large</td><td> 23</td></tr>\n",
       "\t<tr><td>London  </td><td>large</td><td> 22</td></tr>\n",
       "\t<tr><td>London  </td><td>small</td><td> 16</td></tr>\n",
       "\t<tr><td>New York</td><td>small</td><td> 14</td></tr>\n",
       "</tbody>\n",
       "</table>\n"
      ],
      "text/latex": [
       "A data.frame: 6 × 3\n",
       "\\begin{tabular}{lll}\n",
       " city & size & amount\\\\\n",
       " <chr> & <chr> & <dbl>\\\\\n",
       "\\hline\n",
       "\t Beijing  & large & 121\\\\\n",
       "\t Beijing  & small &  56\\\\\n",
       "\t New York & large &  23\\\\\n",
       "\t London   & large &  22\\\\\n",
       "\t London   & small &  16\\\\\n",
       "\t New York & small &  14\\\\\n",
       "\\end{tabular}\n"
      ],
      "text/markdown": [
       "\n",
       "A data.frame: 6 × 3\n",
       "\n",
       "| city &lt;chr&gt; | size &lt;chr&gt; | amount &lt;dbl&gt; |\n",
       "|---|---|---|\n",
       "| Beijing  | large | 121 |\n",
       "| Beijing  | small |  56 |\n",
       "| New York | large |  23 |\n",
       "| London   | large |  22 |\n",
       "| London   | small |  16 |\n",
       "| New York | small |  14 |\n",
       "\n"
      ],
      "text/plain": [
       "  city     size  amount\n",
       "1 Beijing  large 121   \n",
       "2 Beijing  small  56   \n",
       "3 New York large  23   \n",
       "4 London   large  22   \n",
       "5 London   small  16   \n",
       "6 New York small  14   "
      ]
     },
     "metadata": {},
     "output_type": "display_data"
    }
   ],
   "source": [
    "arrange(pollution, desc(amount)) # sort data by pollution amount descendingly"
   ]
  },
  {
   "cell_type": "markdown",
   "id": "7be62359",
   "metadata": {},
   "source": [
    "### Group data"
   ]
  },
  {
   "cell_type": "code",
   "execution_count": 27,
   "id": "c8ad33ae",
   "metadata": {},
   "outputs": [
    {
     "data": {
      "text/html": [
       "<table class=\"dataframe\">\n",
       "<caption>A tibble: 3 × 3</caption>\n",
       "<thead>\n",
       "\t<tr><th scope=col>city</th><th scope=col>mean</th><th scope=col>max</th></tr>\n",
       "\t<tr><th scope=col>&lt;chr&gt;</th><th scope=col>&lt;dbl&gt;</th><th scope=col>&lt;dbl&gt;</th></tr>\n",
       "</thead>\n",
       "<tbody>\n",
       "\t<tr><td>Beijing </td><td>88.5</td><td>121</td></tr>\n",
       "\t<tr><td>London  </td><td>19.0</td><td> 22</td></tr>\n",
       "\t<tr><td>New York</td><td>18.5</td><td> 23</td></tr>\n",
       "</tbody>\n",
       "</table>\n"
      ],
      "text/latex": [
       "A tibble: 3 × 3\n",
       "\\begin{tabular}{lll}\n",
       " city & mean & max\\\\\n",
       " <chr> & <dbl> & <dbl>\\\\\n",
       "\\hline\n",
       "\t Beijing  & 88.5 & 121\\\\\n",
       "\t London   & 19.0 &  22\\\\\n",
       "\t New York & 18.5 &  23\\\\\n",
       "\\end{tabular}\n"
      ],
      "text/markdown": [
       "\n",
       "A tibble: 3 × 3\n",
       "\n",
       "| city &lt;chr&gt; | mean &lt;dbl&gt; | max &lt;dbl&gt; |\n",
       "|---|---|---|\n",
       "| Beijing  | 88.5 | 121 |\n",
       "| London   | 19.0 |  22 |\n",
       "| New York | 18.5 |  23 |\n",
       "\n"
      ],
      "text/plain": [
       "  city     mean max\n",
       "1 Beijing  88.5 121\n",
       "2 London   19.0  22\n",
       "3 New York 18.5  23"
      ]
     },
     "metadata": {},
     "output_type": "display_data"
    }
   ],
   "source": [
    "# group data by city then compute group mean and maximum polution\n",
    "agg_poll <- pollution %>% group_by(city) %>% summarise(mean=mean(amount), max=max(amount))\n",
    "agg_poll"
   ]
  },
  {
   "cell_type": "markdown",
   "id": "c421a579",
   "metadata": {},
   "source": [
    "### Join"
   ]
  },
  {
   "cell_type": "code",
   "execution_count": 28,
   "id": "d9311fff",
   "metadata": {},
   "outputs": [
    {
     "data": {
      "text/html": [
       "<table class=\"dataframe\">\n",
       "<caption>A data.frame: 6 × 5</caption>\n",
       "<thead>\n",
       "\t<tr><th scope=col>city</th><th scope=col>size</th><th scope=col>amount</th><th scope=col>mean</th><th scope=col>max</th></tr>\n",
       "\t<tr><th scope=col>&lt;chr&gt;</th><th scope=col>&lt;chr&gt;</th><th scope=col>&lt;dbl&gt;</th><th scope=col>&lt;dbl&gt;</th><th scope=col>&lt;dbl&gt;</th></tr>\n",
       "</thead>\n",
       "<tbody>\n",
       "\t<tr><td>New York</td><td>small</td><td> 14</td><td>18.5</td><td> 23</td></tr>\n",
       "\t<tr><td>London  </td><td>small</td><td> 16</td><td>19.0</td><td> 22</td></tr>\n",
       "\t<tr><td>London  </td><td>large</td><td> 22</td><td>19.0</td><td> 22</td></tr>\n",
       "\t<tr><td>New York</td><td>large</td><td> 23</td><td>18.5</td><td> 23</td></tr>\n",
       "\t<tr><td>Beijing </td><td>small</td><td> 56</td><td>88.5</td><td>121</td></tr>\n",
       "\t<tr><td>Beijing </td><td>large</td><td>121</td><td>88.5</td><td>121</td></tr>\n",
       "</tbody>\n",
       "</table>\n"
      ],
      "text/latex": [
       "A data.frame: 6 × 5\n",
       "\\begin{tabular}{lllll}\n",
       " city & size & amount & mean & max\\\\\n",
       " <chr> & <chr> & <dbl> & <dbl> & <dbl>\\\\\n",
       "\\hline\n",
       "\t New York & small &  14 & 18.5 &  23\\\\\n",
       "\t London   & small &  16 & 19.0 &  22\\\\\n",
       "\t London   & large &  22 & 19.0 &  22\\\\\n",
       "\t New York & large &  23 & 18.5 &  23\\\\\n",
       "\t Beijing  & small &  56 & 88.5 & 121\\\\\n",
       "\t Beijing  & large & 121 & 88.5 & 121\\\\\n",
       "\\end{tabular}\n"
      ],
      "text/markdown": [
       "\n",
       "A data.frame: 6 × 5\n",
       "\n",
       "| city &lt;chr&gt; | size &lt;chr&gt; | amount &lt;dbl&gt; | mean &lt;dbl&gt; | max &lt;dbl&gt; |\n",
       "|---|---|---|---|---|\n",
       "| New York | small |  14 | 18.5 |  23 |\n",
       "| London   | small |  16 | 19.0 |  22 |\n",
       "| London   | large |  22 | 19.0 |  22 |\n",
       "| New York | large |  23 | 18.5 |  23 |\n",
       "| Beijing  | small |  56 | 88.5 | 121 |\n",
       "| Beijing  | large | 121 | 88.5 | 121 |\n",
       "\n"
      ],
      "text/plain": [
       "  city     size  amount mean max\n",
       "1 New York small  14    18.5  23\n",
       "2 London   small  16    19.0  22\n",
       "3 London   large  22    19.0  22\n",
       "4 New York large  23    18.5  23\n",
       "5 Beijing  small  56    88.5 121\n",
       "6 Beijing  large 121    88.5 121"
      ]
     },
     "metadata": {},
     "output_type": "display_data"
    }
   ],
   "source": [
    "# sort data by pollution amount then left join with aggregated pollution data above\n",
    "pollution %>% arrange(amount) %>% left_join(agg_poll, by='city')"
   ]
  },
  {
   "cell_type": "markdown",
   "id": "cc2d5040",
   "metadata": {},
   "source": [
    "## Data preparation task\n",
    "- what is the average arrival delay of airlines ?\n",
    "- what airline is the worst in terms of average arrival delay ?"
   ]
  },
  {
   "cell_type": "markdown",
   "id": "81ed474d",
   "metadata": {},
   "source": [
    "### Load data"
   ]
  },
  {
   "cell_type": "code",
   "execution_count": 29,
   "id": "cfc06678",
   "metadata": {},
   "outputs": [],
   "source": [
    "flights_data <- read.csv('L2-data/flights.csv')\n",
    "airlines_data <- read.csv('L2-data/airlines.csv')"
   ]
  },
  {
   "cell_type": "code",
   "execution_count": 30,
   "id": "605ecb82",
   "metadata": {},
   "outputs": [
    {
     "data": {
      "text/html": [
       "<table class=\"dataframe\">\n",
       "<caption>A data.frame: 6 × 20</caption>\n",
       "<thead>\n",
       "\t<tr><th></th><th scope=col>X</th><th scope=col>year</th><th scope=col>month</th><th scope=col>day</th><th scope=col>dep_time</th><th scope=col>sched_dep_time</th><th scope=col>dep_delay</th><th scope=col>arr_time</th><th scope=col>sched_arr_time</th><th scope=col>arr_delay</th><th scope=col>carrier</th><th scope=col>flight</th><th scope=col>tailnum</th><th scope=col>origin</th><th scope=col>dest</th><th scope=col>air_time</th><th scope=col>distance</th><th scope=col>hour</th><th scope=col>minute</th><th scope=col>time_hour</th></tr>\n",
       "\t<tr><th></th><th scope=col>&lt;int&gt;</th><th scope=col>&lt;int&gt;</th><th scope=col>&lt;int&gt;</th><th scope=col>&lt;int&gt;</th><th scope=col>&lt;int&gt;</th><th scope=col>&lt;int&gt;</th><th scope=col>&lt;int&gt;</th><th scope=col>&lt;int&gt;</th><th scope=col>&lt;int&gt;</th><th scope=col>&lt;int&gt;</th><th scope=col>&lt;chr&gt;</th><th scope=col>&lt;int&gt;</th><th scope=col>&lt;chr&gt;</th><th scope=col>&lt;chr&gt;</th><th scope=col>&lt;chr&gt;</th><th scope=col>&lt;int&gt;</th><th scope=col>&lt;int&gt;</th><th scope=col>&lt;int&gt;</th><th scope=col>&lt;int&gt;</th><th scope=col>&lt;chr&gt;</th></tr>\n",
       "</thead>\n",
       "<tbody>\n",
       "\t<tr><th scope=row>1</th><td>1</td><td>2013</td><td>1</td><td>1</td><td>517</td><td>515</td><td> 2</td><td> 830</td><td> 819</td><td> 11</td><td>UA</td><td>1545</td><td>N14228</td><td>EWR</td><td>IAH</td><td>227</td><td>1400</td><td>5</td><td>15</td><td>2013-01-01 05:00:00</td></tr>\n",
       "\t<tr><th scope=row>2</th><td>2</td><td>2013</td><td>1</td><td>1</td><td>533</td><td>529</td><td> 4</td><td> 850</td><td> 830</td><td> 20</td><td>UA</td><td>1714</td><td>N24211</td><td>LGA</td><td>IAH</td><td>227</td><td>1416</td><td>5</td><td>29</td><td>2013-01-01 05:00:00</td></tr>\n",
       "\t<tr><th scope=row>3</th><td>3</td><td>2013</td><td>1</td><td>1</td><td>542</td><td>540</td><td> 2</td><td> 923</td><td> 850</td><td> 33</td><td>AA</td><td>1141</td><td>N619AA</td><td>JFK</td><td>MIA</td><td>160</td><td>1089</td><td>5</td><td>40</td><td>2013-01-01 05:00:00</td></tr>\n",
       "\t<tr><th scope=row>4</th><td>4</td><td>2013</td><td>1</td><td>1</td><td>544</td><td>545</td><td>-1</td><td>1004</td><td>1022</td><td>-18</td><td>B6</td><td> 725</td><td>N804JB</td><td>JFK</td><td>BQN</td><td>183</td><td>1576</td><td>5</td><td>45</td><td>2013-01-01 05:00:00</td></tr>\n",
       "\t<tr><th scope=row>5</th><td>5</td><td>2013</td><td>1</td><td>1</td><td>554</td><td>600</td><td>-6</td><td> 812</td><td> 837</td><td>-25</td><td>DL</td><td> 461</td><td>N668DN</td><td>LGA</td><td>ATL</td><td>116</td><td> 762</td><td>6</td><td> 0</td><td>2013-01-01 06:00:00</td></tr>\n",
       "\t<tr><th scope=row>6</th><td>6</td><td>2013</td><td>1</td><td>1</td><td>554</td><td>558</td><td>-4</td><td> 740</td><td> 728</td><td> 12</td><td>UA</td><td>1696</td><td>N39463</td><td>EWR</td><td>ORD</td><td>150</td><td> 719</td><td>5</td><td>58</td><td>2013-01-01 05:00:00</td></tr>\n",
       "</tbody>\n",
       "</table>\n"
      ],
      "text/latex": [
       "A data.frame: 6 × 20\n",
       "\\begin{tabular}{r|llllllllllllllllllll}\n",
       "  & X & year & month & day & dep\\_time & sched\\_dep\\_time & dep\\_delay & arr\\_time & sched\\_arr\\_time & arr\\_delay & carrier & flight & tailnum & origin & dest & air\\_time & distance & hour & minute & time\\_hour\\\\\n",
       "  & <int> & <int> & <int> & <int> & <int> & <int> & <int> & <int> & <int> & <int> & <chr> & <int> & <chr> & <chr> & <chr> & <int> & <int> & <int> & <int> & <chr>\\\\\n",
       "\\hline\n",
       "\t1 & 1 & 2013 & 1 & 1 & 517 & 515 &  2 &  830 &  819 &  11 & UA & 1545 & N14228 & EWR & IAH & 227 & 1400 & 5 & 15 & 2013-01-01 05:00:00\\\\\n",
       "\t2 & 2 & 2013 & 1 & 1 & 533 & 529 &  4 &  850 &  830 &  20 & UA & 1714 & N24211 & LGA & IAH & 227 & 1416 & 5 & 29 & 2013-01-01 05:00:00\\\\\n",
       "\t3 & 3 & 2013 & 1 & 1 & 542 & 540 &  2 &  923 &  850 &  33 & AA & 1141 & N619AA & JFK & MIA & 160 & 1089 & 5 & 40 & 2013-01-01 05:00:00\\\\\n",
       "\t4 & 4 & 2013 & 1 & 1 & 544 & 545 & -1 & 1004 & 1022 & -18 & B6 &  725 & N804JB & JFK & BQN & 183 & 1576 & 5 & 45 & 2013-01-01 05:00:00\\\\\n",
       "\t5 & 5 & 2013 & 1 & 1 & 554 & 600 & -6 &  812 &  837 & -25 & DL &  461 & N668DN & LGA & ATL & 116 &  762 & 6 &  0 & 2013-01-01 06:00:00\\\\\n",
       "\t6 & 6 & 2013 & 1 & 1 & 554 & 558 & -4 &  740 &  728 &  12 & UA & 1696 & N39463 & EWR & ORD & 150 &  719 & 5 & 58 & 2013-01-01 05:00:00\\\\\n",
       "\\end{tabular}\n"
      ],
      "text/markdown": [
       "\n",
       "A data.frame: 6 × 20\n",
       "\n",
       "| <!--/--> | X &lt;int&gt; | year &lt;int&gt; | month &lt;int&gt; | day &lt;int&gt; | dep_time &lt;int&gt; | sched_dep_time &lt;int&gt; | dep_delay &lt;int&gt; | arr_time &lt;int&gt; | sched_arr_time &lt;int&gt; | arr_delay &lt;int&gt; | carrier &lt;chr&gt; | flight &lt;int&gt; | tailnum &lt;chr&gt; | origin &lt;chr&gt; | dest &lt;chr&gt; | air_time &lt;int&gt; | distance &lt;int&gt; | hour &lt;int&gt; | minute &lt;int&gt; | time_hour &lt;chr&gt; |\n",
       "|---|---|---|---|---|---|---|---|---|---|---|---|---|---|---|---|---|---|---|---|---|\n",
       "| 1 | 1 | 2013 | 1 | 1 | 517 | 515 |  2 |  830 |  819 |  11 | UA | 1545 | N14228 | EWR | IAH | 227 | 1400 | 5 | 15 | 2013-01-01 05:00:00 |\n",
       "| 2 | 2 | 2013 | 1 | 1 | 533 | 529 |  4 |  850 |  830 |  20 | UA | 1714 | N24211 | LGA | IAH | 227 | 1416 | 5 | 29 | 2013-01-01 05:00:00 |\n",
       "| 3 | 3 | 2013 | 1 | 1 | 542 | 540 |  2 |  923 |  850 |  33 | AA | 1141 | N619AA | JFK | MIA | 160 | 1089 | 5 | 40 | 2013-01-01 05:00:00 |\n",
       "| 4 | 4 | 2013 | 1 | 1 | 544 | 545 | -1 | 1004 | 1022 | -18 | B6 |  725 | N804JB | JFK | BQN | 183 | 1576 | 5 | 45 | 2013-01-01 05:00:00 |\n",
       "| 5 | 5 | 2013 | 1 | 1 | 554 | 600 | -6 |  812 |  837 | -25 | DL |  461 | N668DN | LGA | ATL | 116 |  762 | 6 |  0 | 2013-01-01 06:00:00 |\n",
       "| 6 | 6 | 2013 | 1 | 1 | 554 | 558 | -4 |  740 |  728 |  12 | UA | 1696 | N39463 | EWR | ORD | 150 |  719 | 5 | 58 | 2013-01-01 05:00:00 |\n",
       "\n"
      ],
      "text/plain": [
       "  X year month day dep_time sched_dep_time dep_delay arr_time sched_arr_time\n",
       "1 1 2013 1     1   517      515             2         830      819          \n",
       "2 2 2013 1     1   533      529             4         850      830          \n",
       "3 3 2013 1     1   542      540             2         923      850          \n",
       "4 4 2013 1     1   544      545            -1        1004     1022          \n",
       "5 5 2013 1     1   554      600            -6         812      837          \n",
       "6 6 2013 1     1   554      558            -4         740      728          \n",
       "  arr_delay carrier flight tailnum origin dest air_time distance hour minute\n",
       "1  11       UA      1545   N14228  EWR    IAH  227      1400     5    15    \n",
       "2  20       UA      1714   N24211  LGA    IAH  227      1416     5    29    \n",
       "3  33       AA      1141   N619AA  JFK    MIA  160      1089     5    40    \n",
       "4 -18       B6       725   N804JB  JFK    BQN  183      1576     5    45    \n",
       "5 -25       DL       461   N668DN  LGA    ATL  116       762     6     0    \n",
       "6  12       UA      1696   N39463  EWR    ORD  150       719     5    58    \n",
       "  time_hour          \n",
       "1 2013-01-01 05:00:00\n",
       "2 2013-01-01 05:00:00\n",
       "3 2013-01-01 05:00:00\n",
       "4 2013-01-01 05:00:00\n",
       "5 2013-01-01 06:00:00\n",
       "6 2013-01-01 05:00:00"
      ]
     },
     "metadata": {},
     "output_type": "display_data"
    }
   ],
   "source": [
    "head(flights_data)"
   ]
  },
  {
   "cell_type": "code",
   "execution_count": 31,
   "id": "f726fd90",
   "metadata": {},
   "outputs": [
    {
     "data": {
      "text/html": [
       "<table class=\"dataframe\">\n",
       "<caption>A data.frame: 6 × 3</caption>\n",
       "<thead>\n",
       "\t<tr><th></th><th scope=col>X</th><th scope=col>carrier</th><th scope=col>name</th></tr>\n",
       "\t<tr><th></th><th scope=col>&lt;int&gt;</th><th scope=col>&lt;chr&gt;</th><th scope=col>&lt;chr&gt;</th></tr>\n",
       "</thead>\n",
       "<tbody>\n",
       "\t<tr><th scope=row>1</th><td>1</td><td>9E</td><td>Endeavor Air Inc.       </td></tr>\n",
       "\t<tr><th scope=row>2</th><td>2</td><td>AA</td><td>American Airlines Inc.  </td></tr>\n",
       "\t<tr><th scope=row>3</th><td>3</td><td>AS</td><td>Alaska Airlines Inc.    </td></tr>\n",
       "\t<tr><th scope=row>4</th><td>4</td><td>B6</td><td>JetBlue Airways         </td></tr>\n",
       "\t<tr><th scope=row>5</th><td>5</td><td>DL</td><td>Delta Air Lines Inc.    </td></tr>\n",
       "\t<tr><th scope=row>6</th><td>6</td><td>EV</td><td>ExpressJet Airlines Inc.</td></tr>\n",
       "</tbody>\n",
       "</table>\n"
      ],
      "text/latex": [
       "A data.frame: 6 × 3\n",
       "\\begin{tabular}{r|lll}\n",
       "  & X & carrier & name\\\\\n",
       "  & <int> & <chr> & <chr>\\\\\n",
       "\\hline\n",
       "\t1 & 1 & 9E & Endeavor Air Inc.       \\\\\n",
       "\t2 & 2 & AA & American Airlines Inc.  \\\\\n",
       "\t3 & 3 & AS & Alaska Airlines Inc.    \\\\\n",
       "\t4 & 4 & B6 & JetBlue Airways         \\\\\n",
       "\t5 & 5 & DL & Delta Air Lines Inc.    \\\\\n",
       "\t6 & 6 & EV & ExpressJet Airlines Inc.\\\\\n",
       "\\end{tabular}\n"
      ],
      "text/markdown": [
       "\n",
       "A data.frame: 6 × 3\n",
       "\n",
       "| <!--/--> | X &lt;int&gt; | carrier &lt;chr&gt; | name &lt;chr&gt; |\n",
       "|---|---|---|---|\n",
       "| 1 | 1 | 9E | Endeavor Air Inc.        |\n",
       "| 2 | 2 | AA | American Airlines Inc.   |\n",
       "| 3 | 3 | AS | Alaska Airlines Inc.     |\n",
       "| 4 | 4 | B6 | JetBlue Airways          |\n",
       "| 5 | 5 | DL | Delta Air Lines Inc.     |\n",
       "| 6 | 6 | EV | ExpressJet Airlines Inc. |\n",
       "\n"
      ],
      "text/plain": [
       "  X carrier name                    \n",
       "1 1 9E      Endeavor Air Inc.       \n",
       "2 2 AA      American Airlines Inc.  \n",
       "3 3 AS      Alaska Airlines Inc.    \n",
       "4 4 B6      JetBlue Airways         \n",
       "5 5 DL      Delta Air Lines Inc.    \n",
       "6 6 EV      ExpressJet Airlines Inc."
      ]
     },
     "metadata": {},
     "output_type": "display_data"
    }
   ],
   "source": [
    "head(airlines_data)"
   ]
  },
  {
   "cell_type": "markdown",
   "id": "5ba7efc2",
   "metadata": {},
   "source": [
    "### Subset columns\n",
    "- select `arr_delay`, `carrier` which are relevant columns "
   ]
  },
  {
   "cell_type": "code",
   "execution_count": 32,
   "id": "14c7467b",
   "metadata": {},
   "outputs": [
    {
     "data": {
      "text/html": [
       "<table class=\"dataframe\">\n",
       "<caption>A data.frame: 6 × 2</caption>\n",
       "<thead>\n",
       "\t<tr><th></th><th scope=col>arr_delay</th><th scope=col>carrier</th></tr>\n",
       "\t<tr><th></th><th scope=col>&lt;int&gt;</th><th scope=col>&lt;chr&gt;</th></tr>\n",
       "</thead>\n",
       "<tbody>\n",
       "\t<tr><th scope=row>1</th><td> 11</td><td>UA</td></tr>\n",
       "\t<tr><th scope=row>2</th><td> 20</td><td>UA</td></tr>\n",
       "\t<tr><th scope=row>3</th><td> 33</td><td>AA</td></tr>\n",
       "\t<tr><th scope=row>4</th><td>-18</td><td>B6</td></tr>\n",
       "\t<tr><th scope=row>5</th><td>-25</td><td>DL</td></tr>\n",
       "\t<tr><th scope=row>6</th><td> 12</td><td>UA</td></tr>\n",
       "</tbody>\n",
       "</table>\n"
      ],
      "text/latex": [
       "A data.frame: 6 × 2\n",
       "\\begin{tabular}{r|ll}\n",
       "  & arr\\_delay & carrier\\\\\n",
       "  & <int> & <chr>\\\\\n",
       "\\hline\n",
       "\t1 &  11 & UA\\\\\n",
       "\t2 &  20 & UA\\\\\n",
       "\t3 &  33 & AA\\\\\n",
       "\t4 & -18 & B6\\\\\n",
       "\t5 & -25 & DL\\\\\n",
       "\t6 &  12 & UA\\\\\n",
       "\\end{tabular}\n"
      ],
      "text/markdown": [
       "\n",
       "A data.frame: 6 × 2\n",
       "\n",
       "| <!--/--> | arr_delay &lt;int&gt; | carrier &lt;chr&gt; |\n",
       "|---|---|---|\n",
       "| 1 |  11 | UA |\n",
       "| 2 |  20 | UA |\n",
       "| 3 |  33 | AA |\n",
       "| 4 | -18 | B6 |\n",
       "| 5 | -25 | DL |\n",
       "| 6 |  12 | UA |\n",
       "\n"
      ],
      "text/plain": [
       "  arr_delay carrier\n",
       "1  11       UA     \n",
       "2  20       UA     \n",
       "3  33       AA     \n",
       "4 -18       B6     \n",
       "5 -25       DL     \n",
       "6  12       UA     "
      ]
     },
     "metadata": {},
     "output_type": "display_data"
    }
   ],
   "source": [
    "flights_select <- select(flights_data, arr_delay, carrier)\n",
    "head(flights_select)"
   ]
  },
  {
   "cell_type": "markdown",
   "id": "7648e1b0",
   "metadata": {},
   "source": [
    "### Filter rows\n",
    "- deselect flights with NA in arrival delay\n",
    "- deselect flights arriving on time or earlier than scheduled time"
   ]
  },
  {
   "cell_type": "code",
   "execution_count": 33,
   "id": "9deeac1b",
   "metadata": {},
   "outputs": [
    {
     "data": {
      "text/html": [
       "<table class=\"dataframe\">\n",
       "<caption>A data.frame: 6 × 2</caption>\n",
       "<thead>\n",
       "\t<tr><th></th><th scope=col>arr_delay</th><th scope=col>carrier</th></tr>\n",
       "\t<tr><th></th><th scope=col>&lt;int&gt;</th><th scope=col>&lt;chr&gt;</th></tr>\n",
       "</thead>\n",
       "<tbody>\n",
       "\t<tr><th scope=row>1</th><td>11</td><td>UA</td></tr>\n",
       "\t<tr><th scope=row>2</th><td>20</td><td>UA</td></tr>\n",
       "\t<tr><th scope=row>3</th><td>33</td><td>AA</td></tr>\n",
       "\t<tr><th scope=row>4</th><td>12</td><td>UA</td></tr>\n",
       "\t<tr><th scope=row>5</th><td>19</td><td>B6</td></tr>\n",
       "\t<tr><th scope=row>6</th><td> 8</td><td>AA</td></tr>\n",
       "</tbody>\n",
       "</table>\n"
      ],
      "text/latex": [
       "A data.frame: 6 × 2\n",
       "\\begin{tabular}{r|ll}\n",
       "  & arr\\_delay & carrier\\\\\n",
       "  & <int> & <chr>\\\\\n",
       "\\hline\n",
       "\t1 & 11 & UA\\\\\n",
       "\t2 & 20 & UA\\\\\n",
       "\t3 & 33 & AA\\\\\n",
       "\t4 & 12 & UA\\\\\n",
       "\t5 & 19 & B6\\\\\n",
       "\t6 &  8 & AA\\\\\n",
       "\\end{tabular}\n"
      ],
      "text/markdown": [
       "\n",
       "A data.frame: 6 × 2\n",
       "\n",
       "| <!--/--> | arr_delay &lt;int&gt; | carrier &lt;chr&gt; |\n",
       "|---|---|---|\n",
       "| 1 | 11 | UA |\n",
       "| 2 | 20 | UA |\n",
       "| 3 | 33 | AA |\n",
       "| 4 | 12 | UA |\n",
       "| 5 | 19 | B6 |\n",
       "| 6 |  8 | AA |\n",
       "\n"
      ],
      "text/plain": [
       "  arr_delay carrier\n",
       "1 11        UA     \n",
       "2 20        UA     \n",
       "3 33        AA     \n",
       "4 12        UA     \n",
       "5 19        B6     \n",
       "6  8        AA     "
      ]
     },
     "metadata": {},
     "output_type": "display_data"
    }
   ],
   "source": [
    "flights_select <- filter(flights_select, !is.na(arr_delay) & arr_delay > 0)\n",
    "head(flights_select)"
   ]
  },
  {
   "cell_type": "markdown",
   "id": "2686d69c",
   "metadata": {},
   "source": [
    "### Compute mean delay\n",
    "- group data by carrier and calculate group mean of arrival delay"
   ]
  },
  {
   "cell_type": "code",
   "execution_count": 34,
   "id": "1110c9f9",
   "metadata": {},
   "outputs": [
    {
     "data": {
      "text/html": [
       "<table class=\"dataframe\">\n",
       "<caption>A tibble: 16 × 2</caption>\n",
       "<thead>\n",
       "\t<tr><th scope=col>carrier</th><th scope=col>mean_delay</th></tr>\n",
       "\t<tr><th scope=col>&lt;chr&gt;</th><th scope=col>&lt;dbl&gt;</th></tr>\n",
       "</thead>\n",
       "<tbody>\n",
       "\t<tr><td>9E</td><td>49.27271</td></tr>\n",
       "\t<tr><td>AA</td><td>38.26555</td></tr>\n",
       "\t<tr><td>AS</td><td>34.36508</td></tr>\n",
       "\t<tr><td>B6</td><td>40.00906</td></tr>\n",
       "\t<tr><td>DL</td><td>37.74356</td></tr>\n",
       "\t<tr><td>EV</td><td>48.26858</td></tr>\n",
       "\t<tr><td>F9</td><td>47.57908</td></tr>\n",
       "\t<tr><td>FL</td><td>41.09446</td></tr>\n",
       "\t<tr><td>HA</td><td>35.03093</td></tr>\n",
       "\t<tr><td>MQ</td><td>37.85205</td></tr>\n",
       "\t<tr><td>OO</td><td>60.60000</td></tr>\n",
       "\t<tr><td>UA</td><td>36.65098</td></tr>\n",
       "\t<tr><td>US</td><td>29.01157</td></tr>\n",
       "\t<tr><td>VX</td><td>43.84708</td></tr>\n",
       "\t<tr><td>WN</td><td>40.74755</td></tr>\n",
       "\t<tr><td>YV</td><td>51.08140</td></tr>\n",
       "</tbody>\n",
       "</table>\n"
      ],
      "text/latex": [
       "A tibble: 16 × 2\n",
       "\\begin{tabular}{ll}\n",
       " carrier & mean\\_delay\\\\\n",
       " <chr> & <dbl>\\\\\n",
       "\\hline\n",
       "\t 9E & 49.27271\\\\\n",
       "\t AA & 38.26555\\\\\n",
       "\t AS & 34.36508\\\\\n",
       "\t B6 & 40.00906\\\\\n",
       "\t DL & 37.74356\\\\\n",
       "\t EV & 48.26858\\\\\n",
       "\t F9 & 47.57908\\\\\n",
       "\t FL & 41.09446\\\\\n",
       "\t HA & 35.03093\\\\\n",
       "\t MQ & 37.85205\\\\\n",
       "\t OO & 60.60000\\\\\n",
       "\t UA & 36.65098\\\\\n",
       "\t US & 29.01157\\\\\n",
       "\t VX & 43.84708\\\\\n",
       "\t WN & 40.74755\\\\\n",
       "\t YV & 51.08140\\\\\n",
       "\\end{tabular}\n"
      ],
      "text/markdown": [
       "\n",
       "A tibble: 16 × 2\n",
       "\n",
       "| carrier &lt;chr&gt; | mean_delay &lt;dbl&gt; |\n",
       "|---|---|\n",
       "| 9E | 49.27271 |\n",
       "| AA | 38.26555 |\n",
       "| AS | 34.36508 |\n",
       "| B6 | 40.00906 |\n",
       "| DL | 37.74356 |\n",
       "| EV | 48.26858 |\n",
       "| F9 | 47.57908 |\n",
       "| FL | 41.09446 |\n",
       "| HA | 35.03093 |\n",
       "| MQ | 37.85205 |\n",
       "| OO | 60.60000 |\n",
       "| UA | 36.65098 |\n",
       "| US | 29.01157 |\n",
       "| VX | 43.84708 |\n",
       "| WN | 40.74755 |\n",
       "| YV | 51.08140 |\n",
       "\n"
      ],
      "text/plain": [
       "   carrier mean_delay\n",
       "1  9E      49.27271  \n",
       "2  AA      38.26555  \n",
       "3  AS      34.36508  \n",
       "4  B6      40.00906  \n",
       "5  DL      37.74356  \n",
       "6  EV      48.26858  \n",
       "7  F9      47.57908  \n",
       "8  FL      41.09446  \n",
       "9  HA      35.03093  \n",
       "10 MQ      37.85205  \n",
       "11 OO      60.60000  \n",
       "12 UA      36.65098  \n",
       "13 US      29.01157  \n",
       "14 VX      43.84708  \n",
       "15 WN      40.74755  \n",
       "16 YV      51.08140  "
      ]
     },
     "metadata": {},
     "output_type": "display_data"
    }
   ],
   "source": [
    "mean_arr_delay <- group_by(flights_select, carrier) %>% summarise(mean_delay=mean(arr_delay))\n",
    "mean_arr_delay"
   ]
  },
  {
   "cell_type": "markdown",
   "id": "5748f637",
   "metadata": {},
   "source": [
    "### Sort data\n",
    "- descendingly sort mean arrival delay of aggregated data"
   ]
  },
  {
   "cell_type": "code",
   "execution_count": 35,
   "id": "95e86de6",
   "metadata": {},
   "outputs": [
    {
     "data": {
      "text/html": [
       "<table class=\"dataframe\">\n",
       "<caption>A tibble: 16 × 2</caption>\n",
       "<thead>\n",
       "\t<tr><th scope=col>carrier</th><th scope=col>mean_delay</th></tr>\n",
       "\t<tr><th scope=col>&lt;chr&gt;</th><th scope=col>&lt;dbl&gt;</th></tr>\n",
       "</thead>\n",
       "<tbody>\n",
       "\t<tr><td>OO</td><td>60.60000</td></tr>\n",
       "\t<tr><td>YV</td><td>51.08140</td></tr>\n",
       "\t<tr><td>9E</td><td>49.27271</td></tr>\n",
       "\t<tr><td>EV</td><td>48.26858</td></tr>\n",
       "\t<tr><td>F9</td><td>47.57908</td></tr>\n",
       "\t<tr><td>VX</td><td>43.84708</td></tr>\n",
       "\t<tr><td>FL</td><td>41.09446</td></tr>\n",
       "\t<tr><td>WN</td><td>40.74755</td></tr>\n",
       "\t<tr><td>B6</td><td>40.00906</td></tr>\n",
       "\t<tr><td>AA</td><td>38.26555</td></tr>\n",
       "\t<tr><td>MQ</td><td>37.85205</td></tr>\n",
       "\t<tr><td>DL</td><td>37.74356</td></tr>\n",
       "\t<tr><td>UA</td><td>36.65098</td></tr>\n",
       "\t<tr><td>HA</td><td>35.03093</td></tr>\n",
       "\t<tr><td>AS</td><td>34.36508</td></tr>\n",
       "\t<tr><td>US</td><td>29.01157</td></tr>\n",
       "</tbody>\n",
       "</table>\n"
      ],
      "text/latex": [
       "A tibble: 16 × 2\n",
       "\\begin{tabular}{ll}\n",
       " carrier & mean\\_delay\\\\\n",
       " <chr> & <dbl>\\\\\n",
       "\\hline\n",
       "\t OO & 60.60000\\\\\n",
       "\t YV & 51.08140\\\\\n",
       "\t 9E & 49.27271\\\\\n",
       "\t EV & 48.26858\\\\\n",
       "\t F9 & 47.57908\\\\\n",
       "\t VX & 43.84708\\\\\n",
       "\t FL & 41.09446\\\\\n",
       "\t WN & 40.74755\\\\\n",
       "\t B6 & 40.00906\\\\\n",
       "\t AA & 38.26555\\\\\n",
       "\t MQ & 37.85205\\\\\n",
       "\t DL & 37.74356\\\\\n",
       "\t UA & 36.65098\\\\\n",
       "\t HA & 35.03093\\\\\n",
       "\t AS & 34.36508\\\\\n",
       "\t US & 29.01157\\\\\n",
       "\\end{tabular}\n"
      ],
      "text/markdown": [
       "\n",
       "A tibble: 16 × 2\n",
       "\n",
       "| carrier &lt;chr&gt; | mean_delay &lt;dbl&gt; |\n",
       "|---|---|\n",
       "| OO | 60.60000 |\n",
       "| YV | 51.08140 |\n",
       "| 9E | 49.27271 |\n",
       "| EV | 48.26858 |\n",
       "| F9 | 47.57908 |\n",
       "| VX | 43.84708 |\n",
       "| FL | 41.09446 |\n",
       "| WN | 40.74755 |\n",
       "| B6 | 40.00906 |\n",
       "| AA | 38.26555 |\n",
       "| MQ | 37.85205 |\n",
       "| DL | 37.74356 |\n",
       "| UA | 36.65098 |\n",
       "| HA | 35.03093 |\n",
       "| AS | 34.36508 |\n",
       "| US | 29.01157 |\n",
       "\n"
      ],
      "text/plain": [
       "   carrier mean_delay\n",
       "1  OO      60.60000  \n",
       "2  YV      51.08140  \n",
       "3  9E      49.27271  \n",
       "4  EV      48.26858  \n",
       "5  F9      47.57908  \n",
       "6  VX      43.84708  \n",
       "7  FL      41.09446  \n",
       "8  WN      40.74755  \n",
       "9  B6      40.00906  \n",
       "10 AA      38.26555  \n",
       "11 MQ      37.85205  \n",
       "12 DL      37.74356  \n",
       "13 UA      36.65098  \n",
       "14 HA      35.03093  \n",
       "15 AS      34.36508  \n",
       "16 US      29.01157  "
      ]
     },
     "metadata": {},
     "output_type": "display_data"
    }
   ],
   "source": [
    "mean_arr_delay <- arrange(mean_arr_delay, desc(mean_delay))\n",
    "mean_arr_delay"
   ]
  },
  {
   "cell_type": "markdown",
   "id": "ac45b668",
   "metadata": {},
   "source": [
    "### Join data\n",
    "- join aggregated data with `airlines` table to get more information"
   ]
  },
  {
   "cell_type": "code",
   "execution_count": 36,
   "id": "3d1ad7eb",
   "metadata": {},
   "outputs": [
    {
     "data": {
      "text/html": [
       "<table class=\"dataframe\">\n",
       "<caption>A tibble: 16 × 3</caption>\n",
       "<thead>\n",
       "\t<tr><th scope=col>carrier</th><th scope=col>mean_delay</th><th scope=col>name</th></tr>\n",
       "\t<tr><th scope=col>&lt;chr&gt;</th><th scope=col>&lt;dbl&gt;</th><th scope=col>&lt;chr&gt;</th></tr>\n",
       "</thead>\n",
       "<tbody>\n",
       "\t<tr><td>OO</td><td>60.60000</td><td>SkyWest Airlines Inc.      </td></tr>\n",
       "\t<tr><td>YV</td><td>51.08140</td><td>Mesa Airlines Inc.         </td></tr>\n",
       "\t<tr><td>9E</td><td>49.27271</td><td>Endeavor Air Inc.          </td></tr>\n",
       "\t<tr><td>EV</td><td>48.26858</td><td>ExpressJet Airlines Inc.   </td></tr>\n",
       "\t<tr><td>F9</td><td>47.57908</td><td>Frontier Airlines Inc.     </td></tr>\n",
       "\t<tr><td>VX</td><td>43.84708</td><td>Virgin America             </td></tr>\n",
       "\t<tr><td>FL</td><td>41.09446</td><td>AirTran Airways Corporation</td></tr>\n",
       "\t<tr><td>WN</td><td>40.74755</td><td>Southwest Airlines Co.     </td></tr>\n",
       "\t<tr><td>B6</td><td>40.00906</td><td>JetBlue Airways            </td></tr>\n",
       "\t<tr><td>AA</td><td>38.26555</td><td>American Airlines Inc.     </td></tr>\n",
       "\t<tr><td>MQ</td><td>37.85205</td><td>Envoy Air                  </td></tr>\n",
       "\t<tr><td>DL</td><td>37.74356</td><td>Delta Air Lines Inc.       </td></tr>\n",
       "\t<tr><td>UA</td><td>36.65098</td><td>United Air Lines Inc.      </td></tr>\n",
       "\t<tr><td>HA</td><td>35.03093</td><td>Hawaiian Airlines Inc.     </td></tr>\n",
       "\t<tr><td>AS</td><td>34.36508</td><td>Alaska Airlines Inc.       </td></tr>\n",
       "\t<tr><td>US</td><td>29.01157</td><td>US Airways Inc.            </td></tr>\n",
       "</tbody>\n",
       "</table>\n"
      ],
      "text/latex": [
       "A tibble: 16 × 3\n",
       "\\begin{tabular}{lll}\n",
       " carrier & mean\\_delay & name\\\\\n",
       " <chr> & <dbl> & <chr>\\\\\n",
       "\\hline\n",
       "\t OO & 60.60000 & SkyWest Airlines Inc.      \\\\\n",
       "\t YV & 51.08140 & Mesa Airlines Inc.         \\\\\n",
       "\t 9E & 49.27271 & Endeavor Air Inc.          \\\\\n",
       "\t EV & 48.26858 & ExpressJet Airlines Inc.   \\\\\n",
       "\t F9 & 47.57908 & Frontier Airlines Inc.     \\\\\n",
       "\t VX & 43.84708 & Virgin America             \\\\\n",
       "\t FL & 41.09446 & AirTran Airways Corporation\\\\\n",
       "\t WN & 40.74755 & Southwest Airlines Co.     \\\\\n",
       "\t B6 & 40.00906 & JetBlue Airways            \\\\\n",
       "\t AA & 38.26555 & American Airlines Inc.     \\\\\n",
       "\t MQ & 37.85205 & Envoy Air                  \\\\\n",
       "\t DL & 37.74356 & Delta Air Lines Inc.       \\\\\n",
       "\t UA & 36.65098 & United Air Lines Inc.      \\\\\n",
       "\t HA & 35.03093 & Hawaiian Airlines Inc.     \\\\\n",
       "\t AS & 34.36508 & Alaska Airlines Inc.       \\\\\n",
       "\t US & 29.01157 & US Airways Inc.            \\\\\n",
       "\\end{tabular}\n"
      ],
      "text/markdown": [
       "\n",
       "A tibble: 16 × 3\n",
       "\n",
       "| carrier &lt;chr&gt; | mean_delay &lt;dbl&gt; | name &lt;chr&gt; |\n",
       "|---|---|---|\n",
       "| OO | 60.60000 | SkyWest Airlines Inc.       |\n",
       "| YV | 51.08140 | Mesa Airlines Inc.          |\n",
       "| 9E | 49.27271 | Endeavor Air Inc.           |\n",
       "| EV | 48.26858 | ExpressJet Airlines Inc.    |\n",
       "| F9 | 47.57908 | Frontier Airlines Inc.      |\n",
       "| VX | 43.84708 | Virgin America              |\n",
       "| FL | 41.09446 | AirTran Airways Corporation |\n",
       "| WN | 40.74755 | Southwest Airlines Co.      |\n",
       "| B6 | 40.00906 | JetBlue Airways             |\n",
       "| AA | 38.26555 | American Airlines Inc.      |\n",
       "| MQ | 37.85205 | Envoy Air                   |\n",
       "| DL | 37.74356 | Delta Air Lines Inc.        |\n",
       "| UA | 36.65098 | United Air Lines Inc.       |\n",
       "| HA | 35.03093 | Hawaiian Airlines Inc.      |\n",
       "| AS | 34.36508 | Alaska Airlines Inc.        |\n",
       "| US | 29.01157 | US Airways Inc.             |\n",
       "\n"
      ],
      "text/plain": [
       "   carrier mean_delay name                       \n",
       "1  OO      60.60000   SkyWest Airlines Inc.      \n",
       "2  YV      51.08140   Mesa Airlines Inc.         \n",
       "3  9E      49.27271   Endeavor Air Inc.          \n",
       "4  EV      48.26858   ExpressJet Airlines Inc.   \n",
       "5  F9      47.57908   Frontier Airlines Inc.     \n",
       "6  VX      43.84708   Virgin America             \n",
       "7  FL      41.09446   AirTran Airways Corporation\n",
       "8  WN      40.74755   Southwest Airlines Co.     \n",
       "9  B6      40.00906   JetBlue Airways            \n",
       "10 AA      38.26555   American Airlines Inc.     \n",
       "11 MQ      37.85205   Envoy Air                  \n",
       "12 DL      37.74356   Delta Air Lines Inc.       \n",
       "13 UA      36.65098   United Air Lines Inc.      \n",
       "14 HA      35.03093   Hawaiian Airlines Inc.     \n",
       "15 AS      34.36508   Alaska Airlines Inc.       \n",
       "16 US      29.01157   US Airways Inc.            "
      ]
     },
     "metadata": {},
     "output_type": "display_data"
    }
   ],
   "source": [
    "joined <- left_join(mean_arr_delay, select(airlines_data, -X), by='carrier')\n",
    "joined"
   ]
  },
  {
   "cell_type": "markdown",
   "id": "895b1934",
   "metadata": {},
   "source": [
    "### Pipeline\n",
    "- combine all the data preparation steps into one"
   ]
  },
  {
   "cell_type": "code",
   "execution_count": 37,
   "id": "40fb816a",
   "metadata": {},
   "outputs": [
    {
     "data": {
      "text/html": [
       "<table class=\"dataframe\">\n",
       "<caption>A tibble: 16 × 3</caption>\n",
       "<thead>\n",
       "\t<tr><th scope=col>carrier</th><th scope=col>mean_delay</th><th scope=col>name</th></tr>\n",
       "\t<tr><th scope=col>&lt;chr&gt;</th><th scope=col>&lt;dbl&gt;</th><th scope=col>&lt;chr&gt;</th></tr>\n",
       "</thead>\n",
       "<tbody>\n",
       "\t<tr><td>OO</td><td>60.60000</td><td>SkyWest Airlines Inc.      </td></tr>\n",
       "\t<tr><td>YV</td><td>51.08140</td><td>Mesa Airlines Inc.         </td></tr>\n",
       "\t<tr><td>9E</td><td>49.27271</td><td>Endeavor Air Inc.          </td></tr>\n",
       "\t<tr><td>EV</td><td>48.26858</td><td>ExpressJet Airlines Inc.   </td></tr>\n",
       "\t<tr><td>F9</td><td>47.57908</td><td>Frontier Airlines Inc.     </td></tr>\n",
       "\t<tr><td>VX</td><td>43.84708</td><td>Virgin America             </td></tr>\n",
       "\t<tr><td>FL</td><td>41.09446</td><td>AirTran Airways Corporation</td></tr>\n",
       "\t<tr><td>WN</td><td>40.74755</td><td>Southwest Airlines Co.     </td></tr>\n",
       "\t<tr><td>B6</td><td>40.00906</td><td>JetBlue Airways            </td></tr>\n",
       "\t<tr><td>AA</td><td>38.26555</td><td>American Airlines Inc.     </td></tr>\n",
       "\t<tr><td>MQ</td><td>37.85205</td><td>Envoy Air                  </td></tr>\n",
       "\t<tr><td>DL</td><td>37.74356</td><td>Delta Air Lines Inc.       </td></tr>\n",
       "\t<tr><td>UA</td><td>36.65098</td><td>United Air Lines Inc.      </td></tr>\n",
       "\t<tr><td>HA</td><td>35.03093</td><td>Hawaiian Airlines Inc.     </td></tr>\n",
       "\t<tr><td>AS</td><td>34.36508</td><td>Alaska Airlines Inc.       </td></tr>\n",
       "\t<tr><td>US</td><td>29.01157</td><td>US Airways Inc.            </td></tr>\n",
       "</tbody>\n",
       "</table>\n"
      ],
      "text/latex": [
       "A tibble: 16 × 3\n",
       "\\begin{tabular}{lll}\n",
       " carrier & mean\\_delay & name\\\\\n",
       " <chr> & <dbl> & <chr>\\\\\n",
       "\\hline\n",
       "\t OO & 60.60000 & SkyWest Airlines Inc.      \\\\\n",
       "\t YV & 51.08140 & Mesa Airlines Inc.         \\\\\n",
       "\t 9E & 49.27271 & Endeavor Air Inc.          \\\\\n",
       "\t EV & 48.26858 & ExpressJet Airlines Inc.   \\\\\n",
       "\t F9 & 47.57908 & Frontier Airlines Inc.     \\\\\n",
       "\t VX & 43.84708 & Virgin America             \\\\\n",
       "\t FL & 41.09446 & AirTran Airways Corporation\\\\\n",
       "\t WN & 40.74755 & Southwest Airlines Co.     \\\\\n",
       "\t B6 & 40.00906 & JetBlue Airways            \\\\\n",
       "\t AA & 38.26555 & American Airlines Inc.     \\\\\n",
       "\t MQ & 37.85205 & Envoy Air                  \\\\\n",
       "\t DL & 37.74356 & Delta Air Lines Inc.       \\\\\n",
       "\t UA & 36.65098 & United Air Lines Inc.      \\\\\n",
       "\t HA & 35.03093 & Hawaiian Airlines Inc.     \\\\\n",
       "\t AS & 34.36508 & Alaska Airlines Inc.       \\\\\n",
       "\t US & 29.01157 & US Airways Inc.            \\\\\n",
       "\\end{tabular}\n"
      ],
      "text/markdown": [
       "\n",
       "A tibble: 16 × 3\n",
       "\n",
       "| carrier &lt;chr&gt; | mean_delay &lt;dbl&gt; | name &lt;chr&gt; |\n",
       "|---|---|---|\n",
       "| OO | 60.60000 | SkyWest Airlines Inc.       |\n",
       "| YV | 51.08140 | Mesa Airlines Inc.          |\n",
       "| 9E | 49.27271 | Endeavor Air Inc.           |\n",
       "| EV | 48.26858 | ExpressJet Airlines Inc.    |\n",
       "| F9 | 47.57908 | Frontier Airlines Inc.      |\n",
       "| VX | 43.84708 | Virgin America              |\n",
       "| FL | 41.09446 | AirTran Airways Corporation |\n",
       "| WN | 40.74755 | Southwest Airlines Co.      |\n",
       "| B6 | 40.00906 | JetBlue Airways             |\n",
       "| AA | 38.26555 | American Airlines Inc.      |\n",
       "| MQ | 37.85205 | Envoy Air                   |\n",
       "| DL | 37.74356 | Delta Air Lines Inc.        |\n",
       "| UA | 36.65098 | United Air Lines Inc.       |\n",
       "| HA | 35.03093 | Hawaiian Airlines Inc.      |\n",
       "| AS | 34.36508 | Alaska Airlines Inc.        |\n",
       "| US | 29.01157 | US Airways Inc.             |\n",
       "\n"
      ],
      "text/plain": [
       "   carrier mean_delay name                       \n",
       "1  OO      60.60000   SkyWest Airlines Inc.      \n",
       "2  YV      51.08140   Mesa Airlines Inc.         \n",
       "3  9E      49.27271   Endeavor Air Inc.          \n",
       "4  EV      48.26858   ExpressJet Airlines Inc.   \n",
       "5  F9      47.57908   Frontier Airlines Inc.     \n",
       "6  VX      43.84708   Virgin America             \n",
       "7  FL      41.09446   AirTran Airways Corporation\n",
       "8  WN      40.74755   Southwest Airlines Co.     \n",
       "9  B6      40.00906   JetBlue Airways            \n",
       "10 AA      38.26555   American Airlines Inc.     \n",
       "11 MQ      37.85205   Envoy Air                  \n",
       "12 DL      37.74356   Delta Air Lines Inc.       \n",
       "13 UA      36.65098   United Air Lines Inc.      \n",
       "14 HA      35.03093   Hawaiian Airlines Inc.     \n",
       "15 AS      34.36508   Alaska Airlines Inc.       \n",
       "16 US      29.01157   US Airways Inc.            "
      ]
     },
     "metadata": {},
     "output_type": "display_data"
    }
   ],
   "source": [
    "flights_data %>% \n",
    "select(carrier, arr_delay) %>%\n",
    "filter(!is.na(arr_delay) & arr_delay > 0) %>%\n",
    "group_by(carrier) %>%\n",
    "summarise(mean_delay=mean(arr_delay)) %>%\n",
    "arrange(desc(mean_delay)) %>%\n",
    "left_join(select(airlines_data, -X), by='carrier')"
   ]
  },
  {
   "cell_type": "markdown",
   "id": "4afc9afe",
   "metadata": {},
   "source": [
    "### Conclusion\n",
    "- on average, US Airways is least delaying airline on arrival \n",
    "- SkyWest Airlines is the worst airline in terms of mean arrival delay\n",
    "- mean arrival delay of SkyWest Airlines (the worst) is double of US Airways (the best)"
   ]
  }
 ],
 "metadata": {
  "kernelspec": {
   "display_name": "R",
   "language": "R",
   "name": "ir"
  },
  "language_info": {
   "codemirror_mode": "r",
   "file_extension": ".r",
   "mimetype": "text/x-r-source",
   "name": "R",
   "pygments_lexer": "r",
   "version": "4.1.2"
  }
 },
 "nbformat": 4,
 "nbformat_minor": 5
}
