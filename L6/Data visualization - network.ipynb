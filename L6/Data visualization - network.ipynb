{
 "cells": [
  {
   "cell_type": "code",
   "execution_count": 30,
   "id": "417a4352",
   "metadata": {},
   "outputs": [
    {
     "name": "stdout",
     "output_type": "stream",
     "text": [
      "\n",
      "The downloaded binary packages are in\n",
      "\t/var/folders/71/32h8kjzx1d957cbl0_xhpyvr0000gn/T//RtmpHVeYKS/downloaded_packages\n"
     ]
    }
   ],
   "source": [
    "install.packages(c('igraph', 'igraphdata'))"
   ]
  },
  {
   "cell_type": "code",
   "execution_count": 31,
   "id": "ef3fb910",
   "metadata": {},
   "outputs": [],
   "source": [
    "library(igraph)\n",
    "library(igraphdata)"
   ]
  },
  {
   "cell_type": "markdown",
   "id": "cea861a1",
   "metadata": {},
   "source": [
    "### Representing networks\n",
    "\n",
    "#### Adjacency matrix"
   ]
  },
  {
   "cell_type": "code",
   "execution_count": 1,
   "id": "21404618",
   "metadata": {},
   "outputs": [
    {
     "data": {
      "text/html": [
       "<table class=\"dataframe\">\n",
       "<caption>A matrix: 3 × 3 of type dbl</caption>\n",
       "<thead>\n",
       "\t<tr><th></th><th scope=col>A</th><th scope=col>B</th><th scope=col>C</th></tr>\n",
       "</thead>\n",
       "<tbody>\n",
       "\t<tr><th scope=row>A</th><td>0</td><td>1</td><td>0</td></tr>\n",
       "\t<tr><th scope=row>B</th><td>1</td><td>0</td><td>1</td></tr>\n",
       "\t<tr><th scope=row>C</th><td>1</td><td>0</td><td>0</td></tr>\n",
       "</tbody>\n",
       "</table>\n"
      ],
      "text/latex": [
       "A matrix: 3 × 3 of type dbl\n",
       "\\begin{tabular}{r|lll}\n",
       "  & A & B & C\\\\\n",
       "\\hline\n",
       "\tA & 0 & 1 & 0\\\\\n",
       "\tB & 1 & 0 & 1\\\\\n",
       "\tC & 1 & 0 & 0\\\\\n",
       "\\end{tabular}\n"
      ],
      "text/markdown": [
       "\n",
       "A matrix: 3 × 3 of type dbl\n",
       "\n",
       "| <!--/--> | A | B | C |\n",
       "|---|---|---|---|\n",
       "| A | 0 | 1 | 0 |\n",
       "| B | 1 | 0 | 1 |\n",
       "| C | 1 | 0 | 0 |\n",
       "\n"
      ],
      "text/plain": [
       "  A B C\n",
       "A 0 1 0\n",
       "B 1 0 1\n",
       "C 1 0 0"
      ]
     },
     "metadata": {},
     "output_type": "display_data"
    }
   ],
   "source": [
    "A <- rbind(c(0,1,0), c(1,0,1), c(1,0,0))\n",
    "nodeNames <- c(\"A\",\"B\",\"C\")\n",
    "dimnames(A) <- list(nodeNames, nodeNames)\n",
    "A"
   ]
  },
  {
   "cell_type": "markdown",
   "id": "1bed6464",
   "metadata": {},
   "source": [
    "#### Find no. of paths"
   ]
  },
  {
   "cell_type": "code",
   "execution_count": 2,
   "id": "eeeb5cc0",
   "metadata": {},
   "outputs": [
    {
     "data": {
      "text/html": [
       "<table class=\"dataframe\">\n",
       "<caption>A matrix: 3 × 3 of type dbl</caption>\n",
       "<thead>\n",
       "\t<tr><th></th><th scope=col>A</th><th scope=col>B</th><th scope=col>C</th></tr>\n",
       "</thead>\n",
       "<tbody>\n",
       "\t<tr><th scope=row>A</th><td>1</td><td>0</td><td>1</td></tr>\n",
       "\t<tr><th scope=row>B</th><td>1</td><td>1</td><td>0</td></tr>\n",
       "\t<tr><th scope=row>C</th><td>0</td><td>1</td><td>0</td></tr>\n",
       "</tbody>\n",
       "</table>\n"
      ],
      "text/latex": [
       "A matrix: 3 × 3 of type dbl\n",
       "\\begin{tabular}{r|lll}\n",
       "  & A & B & C\\\\\n",
       "\\hline\n",
       "\tA & 1 & 0 & 1\\\\\n",
       "\tB & 1 & 1 & 0\\\\\n",
       "\tC & 0 & 1 & 0\\\\\n",
       "\\end{tabular}\n"
      ],
      "text/markdown": [
       "\n",
       "A matrix: 3 × 3 of type dbl\n",
       "\n",
       "| <!--/--> | A | B | C |\n",
       "|---|---|---|---|\n",
       "| A | 1 | 0 | 1 |\n",
       "| B | 1 | 1 | 0 |\n",
       "| C | 0 | 1 | 0 |\n",
       "\n"
      ],
      "text/plain": [
       "  A B C\n",
       "A 1 0 1\n",
       "B 1 1 0\n",
       "C 0 1 0"
      ]
     },
     "metadata": {},
     "output_type": "display_data"
    }
   ],
   "source": [
    "# Each (i,j) entry of result is the number of paths of length 2 from node i to node j\n",
    "A %*% A"
   ]
  },
  {
   "cell_type": "code",
   "execution_count": 3,
   "id": "270e6f27",
   "metadata": {},
   "outputs": [
    {
     "data": {
      "text/html": [
       "<table class=\"dataframe\">\n",
       "<caption>A matrix: 3 × 3 of type dbl</caption>\n",
       "<thead>\n",
       "\t<tr><th></th><th scope=col>A</th><th scope=col>B</th><th scope=col>C</th></tr>\n",
       "</thead>\n",
       "<tbody>\n",
       "\t<tr><th scope=row>A</th><td>1</td><td>1</td><td>1</td></tr>\n",
       "\t<tr><th scope=row>B</th><td>2</td><td>1</td><td>1</td></tr>\n",
       "\t<tr><th scope=row>C</th><td>1</td><td>1</td><td>0</td></tr>\n",
       "</tbody>\n",
       "</table>\n"
      ],
      "text/latex": [
       "A matrix: 3 × 3 of type dbl\n",
       "\\begin{tabular}{r|lll}\n",
       "  & A & B & C\\\\\n",
       "\\hline\n",
       "\tA & 1 & 1 & 1\\\\\n",
       "\tB & 2 & 1 & 1\\\\\n",
       "\tC & 1 & 1 & 0\\\\\n",
       "\\end{tabular}\n"
      ],
      "text/markdown": [
       "\n",
       "A matrix: 3 × 3 of type dbl\n",
       "\n",
       "| <!--/--> | A | B | C |\n",
       "|---|---|---|---|\n",
       "| A | 1 | 1 | 1 |\n",
       "| B | 2 | 1 | 1 |\n",
       "| C | 1 | 1 | 0 |\n",
       "\n"
      ],
      "text/plain": [
       "  A B C\n",
       "A 1 1 1\n",
       "B 2 1 1\n",
       "C 1 1 0"
      ]
     },
     "metadata": {},
     "output_type": "display_data"
    }
   ],
   "source": [
    "A %*% A %*% A %*% A # Number of path of length 4"
   ]
  },
  {
   "cell_type": "markdown",
   "id": "be4b6ff0",
   "metadata": {},
   "source": [
    "#### Edge list"
   ]
  },
  {
   "cell_type": "code",
   "execution_count": 4,
   "id": "ee69d48c",
   "metadata": {},
   "outputs": [
    {
     "data": {
      "text/html": [
       "<table class=\"dataframe\">\n",
       "<caption>A matrix: 4 × 2 of type chr</caption>\n",
       "<tbody>\n",
       "\t<tr><td>A</td><td>B</td></tr>\n",
       "\t<tr><td>B</td><td>A</td></tr>\n",
       "\t<tr><td>B</td><td>C</td></tr>\n",
       "\t<tr><td>C</td><td>A</td></tr>\n",
       "</tbody>\n",
       "</table>\n"
      ],
      "text/latex": [
       "A matrix: 4 × 2 of type chr\n",
       "\\begin{tabular}{ll}\n",
       "\t A & B\\\\\n",
       "\t B & A\\\\\n",
       "\t B & C\\\\\n",
       "\t C & A\\\\\n",
       "\\end{tabular}\n"
      ],
      "text/markdown": [
       "\n",
       "A matrix: 4 × 2 of type chr\n",
       "\n",
       "| A | B |\n",
       "| B | A |\n",
       "| B | C |\n",
       "| C | A |\n",
       "\n"
      ],
      "text/plain": [
       "     [,1] [,2]\n",
       "[1,] A    B   \n",
       "[2,] B    A   \n",
       "[3,] B    C   \n",
       "[4,] C    A   "
      ]
     },
     "metadata": {},
     "output_type": "display_data"
    }
   ],
   "source": [
    "el <- rbind(c(\"A\",\"B\"), c(\"B\",\"A\"), c(\"B\",\"C\"), c(\"C\",\"A\"))\n",
    "el"
   ]
  },
  {
   "cell_type": "markdown",
   "id": "f3fee3c2",
   "metadata": {},
   "source": [
    "#### igraph\n",
    "\n",
    "- graph_from_literal\n",
    "    - Create graph from structure given\n",
    "    - By default ignore loops\n",
    "    - Ignore undirected edges when the graph is directed"
   ]
  },
  {
   "cell_type": "code",
   "execution_count": 19,
   "id": "d61a6a4d",
   "metadata": {},
   "outputs": [
    {
     "data": {
      "text/plain": [
       "IGRAPH 4ef8fd6 DN-- 3 2 -- \n",
       "+ attr: name (v/c)\n",
       "+ edges from 4ef8fd6 (vertex names):\n",
       "[1] B->C C->A"
      ]
     },
     "metadata": {},
     "output_type": "display_data"
    }
   ],
   "source": [
    "g <- graph_from_literal(A--B, B-+C, C-+A, A-+A)\n",
    "g"
   ]
  },
  {
   "cell_type": "code",
   "execution_count": 13,
   "id": "a548f0da",
   "metadata": {},
   "outputs": [
    {
     "data": {
      "text/plain": [
       "IGRAPH 0204c29 DN-- 3 4 -- \n",
       "+ attr: name (v/c)\n",
       "+ edges from 0204c29 (vertex names):\n",
       "[1] A->B B->A B->C C->A"
      ]
     },
     "metadata": {},
     "output_type": "display_data"
    }
   ],
   "source": [
    "g <- graph_from_edgelist(el, directed=TRUE)\n",
    "g"
   ]
  },
  {
   "cell_type": "code",
   "execution_count": 20,
   "id": "89d8e95a",
   "metadata": {},
   "outputs": [
    {
     "data": {
      "text/plain": [
       "IGRAPH 6cd1924 DN-- 3 4 -- \n",
       "+ attr: name (v/c)\n",
       "+ edges from 6cd1924 (vertex names):\n",
       "[1] A->B B->A B->C C->A"
      ]
     },
     "metadata": {},
     "output_type": "display_data"
    }
   ],
   "source": [
    "df <- as.data.frame(el)\n",
    "g <- graph_from_data_frame(df, directed=TRUE)\n",
    "g"
   ]
  },
  {
   "cell_type": "code",
   "execution_count": 22,
   "id": "4add9a09",
   "metadata": {},
   "outputs": [
    {
     "data": {
      "text/plain": [
       "IGRAPH 98ab6c3 DN-- 3 5 -- \n",
       "+ attr: name (v/c)\n",
       "+ edges from 98ab6c3 (vertex names):\n",
       "[1] A->A A->C B->A B->B C->B"
      ]
     },
     "metadata": {},
     "output_type": "display_data"
    }
   ],
   "source": [
    "g <- graph_from_adjacency_matrix(A %*% A)\n",
    "g"
   ]
  },
  {
   "cell_type": "markdown",
   "id": "eae6ad42",
   "metadata": {},
   "source": [
    "### Load data to graph"
   ]
  },
  {
   "cell_type": "code",
   "execution_count": 23,
   "id": "5e2753d3",
   "metadata": {},
   "outputs": [],
   "source": [
    "edge_path <- 'https://raw.githubusercontent.com/dougmet/NetworksWorkshop/master/data/dolphin_edges.csv'\n",
    "vertex_path <- 'https://raw.githubusercontent.com/dougmet/NetworksWorkshop/master/data/dolphin_vertices.csv'"
   ]
  },
  {
   "cell_type": "code",
   "execution_count": 24,
   "id": "731b41c6",
   "metadata": {},
   "outputs": [],
   "source": [
    "dolphin_edges <- read.csv(edge_path)\n",
    "dolphin_vertices <- read.csv(vertex_path)"
   ]
  },
  {
   "cell_type": "code",
   "execution_count": 26,
   "id": "f9f8759f",
   "metadata": {},
   "outputs": [
    {
     "data": {
      "text/html": [
       "<table class=\"dataframe\">\n",
       "<caption>A data.frame: 5 × 2</caption>\n",
       "<thead>\n",
       "\t<tr><th></th><th scope=col>From</th><th scope=col>To</th></tr>\n",
       "\t<tr><th></th><th scope=col>&lt;chr&gt;</th><th scope=col>&lt;chr&gt;</th></tr>\n",
       "</thead>\n",
       "<tbody>\n",
       "\t<tr><th scope=row>1</th><td>CCL   </td><td>Double </td></tr>\n",
       "\t<tr><th scope=row>2</th><td>DN16  </td><td>Feather</td></tr>\n",
       "\t<tr><th scope=row>3</th><td>DN21  </td><td>Feather</td></tr>\n",
       "\t<tr><th scope=row>4</th><td>Beak  </td><td>Fish   </td></tr>\n",
       "\t<tr><th scope=row>5</th><td>Bumper</td><td>Fish   </td></tr>\n",
       "</tbody>\n",
       "</table>\n"
      ],
      "text/latex": [
       "A data.frame: 5 × 2\n",
       "\\begin{tabular}{r|ll}\n",
       "  & From & To\\\\\n",
       "  & <chr> & <chr>\\\\\n",
       "\\hline\n",
       "\t1 & CCL    & Double \\\\\n",
       "\t2 & DN16   & Feather\\\\\n",
       "\t3 & DN21   & Feather\\\\\n",
       "\t4 & Beak   & Fish   \\\\\n",
       "\t5 & Bumper & Fish   \\\\\n",
       "\\end{tabular}\n"
      ],
      "text/markdown": [
       "\n",
       "A data.frame: 5 × 2\n",
       "\n",
       "| <!--/--> | From &lt;chr&gt; | To &lt;chr&gt; |\n",
       "|---|---|---|\n",
       "| 1 | CCL    | Double  |\n",
       "| 2 | DN16   | Feather |\n",
       "| 3 | DN21   | Feather |\n",
       "| 4 | Beak   | Fish    |\n",
       "| 5 | Bumper | Fish    |\n",
       "\n"
      ],
      "text/plain": [
       "  From   To     \n",
       "1 CCL    Double \n",
       "2 DN16   Feather\n",
       "3 DN21   Feather\n",
       "4 Beak   Fish   \n",
       "5 Bumper Fish   "
      ]
     },
     "metadata": {},
     "output_type": "display_data"
    }
   ],
   "source": [
    "head(dolphin_edges, n = 5)"
   ]
  },
  {
   "cell_type": "code",
   "execution_count": 27,
   "id": "895a3cb3",
   "metadata": {},
   "outputs": [
    {
     "data": {
      "text/html": [
       "<table class=\"dataframe\">\n",
       "<caption>A data.frame: 5 × 2</caption>\n",
       "<thead>\n",
       "\t<tr><th></th><th scope=col>Name</th><th scope=col>Gender</th></tr>\n",
       "\t<tr><th></th><th scope=col>&lt;chr&gt;</th><th scope=col>&lt;chr&gt;</th></tr>\n",
       "</thead>\n",
       "<tbody>\n",
       "\t<tr><th scope=row>1</th><td>Beak      </td><td>Male  </td></tr>\n",
       "\t<tr><th scope=row>2</th><td>Beescratch</td><td>Male  </td></tr>\n",
       "\t<tr><th scope=row>3</th><td>Bumper    </td><td>Male  </td></tr>\n",
       "\t<tr><th scope=row>4</th><td>CCL       </td><td>Female</td></tr>\n",
       "\t<tr><th scope=row>5</th><td>Cross     </td><td>Male  </td></tr>\n",
       "</tbody>\n",
       "</table>\n"
      ],
      "text/latex": [
       "A data.frame: 5 × 2\n",
       "\\begin{tabular}{r|ll}\n",
       "  & Name & Gender\\\\\n",
       "  & <chr> & <chr>\\\\\n",
       "\\hline\n",
       "\t1 & Beak       & Male  \\\\\n",
       "\t2 & Beescratch & Male  \\\\\n",
       "\t3 & Bumper     & Male  \\\\\n",
       "\t4 & CCL        & Female\\\\\n",
       "\t5 & Cross      & Male  \\\\\n",
       "\\end{tabular}\n"
      ],
      "text/markdown": [
       "\n",
       "A data.frame: 5 × 2\n",
       "\n",
       "| <!--/--> | Name &lt;chr&gt; | Gender &lt;chr&gt; |\n",
       "|---|---|---|\n",
       "| 1 | Beak       | Male   |\n",
       "| 2 | Beescratch | Male   |\n",
       "| 3 | Bumper     | Male   |\n",
       "| 4 | CCL        | Female |\n",
       "| 5 | Cross      | Male   |\n",
       "\n"
      ],
      "text/plain": [
       "  Name       Gender\n",
       "1 Beak       Male  \n",
       "2 Beescratch Male  \n",
       "3 Bumper     Male  \n",
       "4 CCL        Female\n",
       "5 Cross      Male  "
      ]
     },
     "metadata": {},
     "output_type": "display_data"
    }
   ],
   "source": [
    "head(dolphin_vertices, n = 5)"
   ]
  },
  {
   "cell_type": "code",
   "execution_count": 28,
   "id": "71106486",
   "metadata": {},
   "outputs": [
    {
     "data": {
      "text/plain": [
       "IGRAPH b3c7ddc UN-- 62 159 -- \n",
       "+ attr: name (v/c), Gender (v/c)\n",
       "+ edges from b3c7ddc (vertex names):\n",
       " [1] CCL       --Double   DN16      --Feather  DN21      --Feather \n",
       " [4] Beak      --Fish     Bumper    --Fish     DN16      --Gallatin\n",
       " [7] DN21      --Gallatin Feather   --Gallatin Beak      --Grin    \n",
       "[10] CCL       --Grin     Beak      --Haecksel Grin      --Hook    \n",
       "[13] Beescratch--Jet      DN21      --Jet      Feather   --Jet     \n",
       "[16] Gallatin  --Jet      Haecksel  --Jonah    Beescratch--Knit    \n",
       "[19] DN63      --Knit     Double    --Kringel  Hook      --Kringel \n",
       "[22] Jonah     --Kringel  Jonah     --MN105    Jet       --MN23    \n",
       "+ ... omitted several edges"
      ]
     },
     "metadata": {},
     "output_type": "display_data"
    }
   ],
   "source": [
    "dolphin <- graph_from_data_frame(dolphin_edges, vertices = dolphin_vertices, directed = FALSE)\n",
    "dolphin"
   ]
  },
  {
   "cell_type": "markdown",
   "id": "93ce5466",
   "metadata": {},
   "source": [
    "### igraph with USairports data"
   ]
  },
  {
   "cell_type": "code",
   "execution_count": 32,
   "id": "99c160c9",
   "metadata": {},
   "outputs": [
    {
     "data": {
      "text/html": [
       "<strong>$name</strong> = 'US airports'"
      ],
      "text/latex": [
       "\\textbf{\\$name} = 'US airports'"
      ],
      "text/markdown": [
       "**$name** = 'US airports'"
      ],
      "text/plain": [
       "$name\n",
       "[1] \"US airports\"\n"
      ]
     },
     "metadata": {},
     "output_type": "display_data"
    }
   ],
   "source": [
    "data('USairports')\n",
    "graph_attr(USairports) # get graph properties"
   ]
  },
  {
   "cell_type": "code",
   "execution_count": 36,
   "id": "af7ad2e8",
   "metadata": {},
   "outputs": [
    {
     "data": {
      "text/html": [
       "<style>\n",
       ".list-inline {list-style: none; margin:0; padding: 0}\n",
       ".list-inline>li {display: inline-block}\n",
       ".list-inline>li:not(:last-child)::after {content: \"\\00b7\"; padding: 0 .5ex}\n",
       "</style>\n",
       "<ol class=list-inline><li>'name'</li><li>'City'</li><li>'Position'</li></ol>\n"
      ],
      "text/latex": [
       "\\begin{enumerate*}\n",
       "\\item 'name'\n",
       "\\item 'City'\n",
       "\\item 'Position'\n",
       "\\end{enumerate*}\n"
      ],
      "text/markdown": [
       "1. 'name'\n",
       "2. 'City'\n",
       "3. 'Position'\n",
       "\n",
       "\n"
      ],
      "text/plain": [
       "[1] \"name\"     \"City\"     \"Position\""
      ]
     },
     "metadata": {},
     "output_type": "display_data"
    }
   ],
   "source": [
    "vertex_attr_names(USairports) # get vertex property names"
   ]
  },
  {
   "cell_type": "code",
   "execution_count": 42,
   "id": "9ea74775",
   "metadata": {},
   "outputs": [
    {
     "data": {
      "text/html": [
       "<style>\n",
       ".list-inline {list-style: none; margin:0; padding: 0}\n",
       ".list-inline>li {display: inline-block}\n",
       ".list-inline>li:not(:last-child)::after {content: \"\\00b7\"; padding: 0 .5ex}\n",
       "</style>\n",
       "<ol class=list-inline><li>'Bangor, ME'</li><li>'Boston, MA'</li><li>'Anchorage, AK'</li><li>'New York, NY'</li><li>'Las Vegas, NV'</li></ol>\n"
      ],
      "text/latex": [
       "\\begin{enumerate*}\n",
       "\\item 'Bangor, ME'\n",
       "\\item 'Boston, MA'\n",
       "\\item 'Anchorage, AK'\n",
       "\\item 'New York, NY'\n",
       "\\item 'Las Vegas, NV'\n",
       "\\end{enumerate*}\n"
      ],
      "text/markdown": [
       "1. 'Bangor, ME'\n",
       "2. 'Boston, MA'\n",
       "3. 'Anchorage, AK'\n",
       "4. 'New York, NY'\n",
       "5. 'Las Vegas, NV'\n",
       "\n",
       "\n"
      ],
      "text/plain": [
       "[1] \"Bangor, ME\"    \"Boston, MA\"    \"Anchorage, AK\" \"New York, NY\" \n",
       "[5] \"Las Vegas, NV\""
      ]
     },
     "metadata": {},
     "output_type": "display_data"
    }
   ],
   "source": [
    "vertex_attr(USairports, 'City')[1:5] # get 5 vertex city property"
   ]
  },
  {
   "cell_type": "code",
   "execution_count": 38,
   "id": "458ba6ef",
   "metadata": {},
   "outputs": [
    {
     "data": {
      "text/html": [
       "<style>\n",
       ".list-inline {list-style: none; margin:0; padding: 0}\n",
       ".list-inline>li {display: inline-block}\n",
       ".list-inline>li:not(:last-child)::after {content: \"\\00b7\"; padding: 0 .5ex}\n",
       "</style>\n",
       "<ol class=list-inline><li>'Carrier'</li><li>'Departures'</li><li>'Seats'</li><li>'Passengers'</li><li>'Aircraft'</li><li>'Distance'</li></ol>\n"
      ],
      "text/latex": [
       "\\begin{enumerate*}\n",
       "\\item 'Carrier'\n",
       "\\item 'Departures'\n",
       "\\item 'Seats'\n",
       "\\item 'Passengers'\n",
       "\\item 'Aircraft'\n",
       "\\item 'Distance'\n",
       "\\end{enumerate*}\n"
      ],
      "text/markdown": [
       "1. 'Carrier'\n",
       "2. 'Departures'\n",
       "3. 'Seats'\n",
       "4. 'Passengers'\n",
       "5. 'Aircraft'\n",
       "6. 'Distance'\n",
       "\n",
       "\n"
      ],
      "text/plain": [
       "[1] \"Carrier\"    \"Departures\" \"Seats\"      \"Passengers\" \"Aircraft\"  \n",
       "[6] \"Distance\"  "
      ]
     },
     "metadata": {},
     "output_type": "display_data"
    }
   ],
   "source": [
    "edge_attr_names(USairports) # get edge property names"
   ]
  },
  {
   "cell_type": "code",
   "execution_count": 41,
   "id": "a78c37d0",
   "metadata": {},
   "outputs": [
    {
     "data": {
      "text/html": [
       "<style>\n",
       ".list-inline {list-style: none; margin:0; padding: 0}\n",
       ".list-inline>li {display: inline-block}\n",
       ".list-inline>li:not(:last-child)::after {content: \"\\00b7\"; padding: 0 .5ex}\n",
       "</style>\n",
       "<ol class=list-inline><li>'British Airways Plc'</li><li>'British Airways Plc'</li><li>'British Airways Plc'</li><li>'China Airlines Ltd.'</li><li>'China Airlines Ltd.'</li></ol>\n"
      ],
      "text/latex": [
       "\\begin{enumerate*}\n",
       "\\item 'British Airways Plc'\n",
       "\\item 'British Airways Plc'\n",
       "\\item 'British Airways Plc'\n",
       "\\item 'China Airlines Ltd.'\n",
       "\\item 'China Airlines Ltd.'\n",
       "\\end{enumerate*}\n"
      ],
      "text/markdown": [
       "1. 'British Airways Plc'\n",
       "2. 'British Airways Plc'\n",
       "3. 'British Airways Plc'\n",
       "4. 'China Airlines Ltd.'\n",
       "5. 'China Airlines Ltd.'\n",
       "\n",
       "\n"
      ],
      "text/plain": [
       "[1] \"British Airways Plc\" \"British Airways Plc\" \"British Airways Plc\"\n",
       "[4] \"China Airlines Ltd.\" \"China Airlines Ltd.\""
      ]
     },
     "metadata": {},
     "output_type": "display_data"
    }
   ],
   "source": [
    "edge_attr(USairports, 'Carrier')[1:5] # get 5 flight (edge) Carrier property"
   ]
  },
  {
   "cell_type": "code",
   "execution_count": null,
   "id": "83635c27",
   "metadata": {},
   "outputs": [],
   "source": []
  }
 ],
 "metadata": {
  "kernelspec": {
   "display_name": "R",
   "language": "R",
   "name": "ir"
  },
  "language_info": {
   "codemirror_mode": "r",
   "file_extension": ".r",
   "mimetype": "text/x-r-source",
   "name": "R",
   "pygments_lexer": "r",
   "version": "4.1.2"
  }
 },
 "nbformat": 4,
 "nbformat_minor": 5
}
